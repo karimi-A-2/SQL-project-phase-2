{
    "metadata": {
        "kernelspec": {
            "name": "SQL",
            "display_name": "SQL",
            "language": "sql"
        },
        "language_info": {
            "name": "sql",
            "version": ""
        }
    },
    "nbformat_minor": 2,
    "nbformat": 4,
    "cells": [
        {
            "cell_type": "code",
            "source": [
                "-- Drop the database 'projDB1'\n",
                "-- Connect to the 'master' database to run this snippet\n",
                "USE master\n",
                "GO\n",
                "-- Uncomment the ALTER DATABASE statement below to set the database to SINGLE_USER mode if the drop database command fails because the database is in use.\n",
                "ALTER DATABASE projDB1 SET SINGLE_USER WITH ROLLBACK IMMEDIATE;\n",
                "-- Drop the database if it exists\n",
                "IF EXISTS (\n",
                "    SELECT [name]\n",
                "        FROM sys.databases\n",
                "        WHERE [name] = N'projDB1'\n",
                ")\n",
                "DROP DATABASE projDB1\n",
                "GO"
            ],
            "metadata": {
                "azdata_cell_guid": "10e7bc6b-8421-437b-ac81-eb9ee4d865ef",
                "language": "sql"
            },
            "outputs": [
                {
                    "output_type": "display_data",
                    "data": {
                        "text/html": "Commands completed successfully."
                    },
                    "metadata": {}
                },
                {
                    "output_type": "display_data",
                    "data": {
                        "text/html": "Nonqualified transactions are being rolled back. Estimated rollback completion: 0%."
                    },
                    "metadata": {}
                },
                {
                    "output_type": "display_data",
                    "data": {
                        "text/html": "Nonqualified transactions are being rolled back. Estimated rollback completion: 100%."
                    },
                    "metadata": {}
                },
                {
                    "output_type": "display_data",
                    "data": {
                        "text/html": "Total execution time: 00:00:03.289"
                    },
                    "metadata": {}
                }
            ],
            "execution_count": 109
        },
        {
            "cell_type": "code",
            "source": [
                "USE master;\n",
                "CREATE DATABASE projDB1;\n",
                "GO\n",
                "\n",
                "USE projDB1;\n",
                "GO"
            ],
            "metadata": {
                "azdata_cell_guid": "5cf2b1fa-3f14-4569-8c8b-f122c41d0216",
                "language": "sql",
                "tags": []
            },
            "outputs": [
                {
                    "output_type": "display_data",
                    "data": {
                        "text/html": "Commands completed successfully."
                    },
                    "metadata": {}
                },
                {
                    "output_type": "display_data",
                    "data": {
                        "text/html": "Commands completed successfully."
                    },
                    "metadata": {}
                },
                {
                    "output_type": "display_data",
                    "data": {
                        "text/html": "Total execution time: 00:00:00.518"
                    },
                    "metadata": {}
                }
            ],
            "execution_count": 110
        },
        {
            "cell_type": "code",
            "source": [
                "CREATE TABLE [Province](\n",
                "\t[id] INT NOT NULL PRIMARY KEY,\n",
                "\t[name] NVARCHAR(30)\n",
                ");\n",
                "GO\n",
                "\n",
                "CREATE TABLE [City](\n",
                "\t[id] INT NOT NULL PRIMARY KEY,\n",
                "\t[name] NVARCHAR(30),\n",
                "\t[province_id] INT FOREIGN KEY REFERENCES Province(id)\n",
                ");\n",
                "GO\n",
                "\n",
                "CREATE TABLE [Type](\n",
                "\t[id] INT NOT NULL PRIMARY KEY,\n",
                "\t[type] NVARCHAR(15) NOT NULL\n",
                ");\n",
                "GO\n",
                "\n",
                "CREATE TABLE [User_](\n",
                "\t[id] INT NOT NULL PRIMARY KEY,\n",
                "\t[phone] NVARCHAR(11) NOT NULL UNIQUE,\n",
                "\t[code] NVARCHAR(8) NOT NULL UNIQUE,\n",
                "\t[fname] NVARCHAR(50),\n",
                "\t[lname] NVARCHAR(50),\n",
                "\t[pass] NVARCHAR(25),\n",
                "\t[invatation] TINYINT DEFAULT 10,\n",
                "\t[is_logged_in] BIT DEFAULT 1\n",
                ");\n",
                "GO\n",
                "\n",
                "create table [Reminder](\n",
                "\t[id] INT NOT NULL PRIMARY KEY,\n",
                "\t[user_id] INT FOREIGN KEY REFERENCES [User_](id) ON DELETE CASCADE,\n",
                "\t[ins_type] INT FOREIGN KEY REFERENCES [Type](id),\n",
                "\t[ins_description] NVARCHAR(100),\n",
                "\t[due_date] NVARCHAR(10) NOT NULL,\n",
                "\t[ins_period] TINYINT NOT NULL CHECK ([ins_period] IN (0, 1, 3, 6, 12)),\n",
                "\t[province_id] INT FOREIGN KEY REFERENCES [Province](id),\n",
                "\t[city_id] INT FOREIGN KEY REFERENCES [City](id),\n",
                ");\n",
                "GO\n",
                "\n",
                "CREATE TABLE [Inqury](\n",
                "\t[id] INT NOT NULL PRIMARY KEY,\n",
                "    [inq_type] INT FOREIGN KEY REFERENCES [Type](id),\n",
                ");\n",
                "GO\n",
                "\n",
                "CREATE TABLE [Life_inq](\n",
                "\t[id] INT NOT NULL PRIMARY KEY,\n",
                "\t[inq_id] INT FOREIGN KEY REFERENCES Inqury(id) ON DELETE CASCADE,\n",
                "\t[birth_date] NVARCHAR(10),\n",
                "\t[contract_period] TINYINT NOT NULL DEFAULT 5 CHECK (5 <= [contract_period] AND [contract_period] <= 30),\n",
                "\t[payment_way] TINYINT NOT NULL CHECK ([payment_way] IN (3, 6, 12)),\n",
                "\t[monthly_payment] BIGINT NOT NULL CHECK ([monthly_payment] >= 50000),\n",
                "\t[premiums_increase] TINYINT DEFAULT 25 CHECK (0 <= [premiums_increase] AND [premiums_increase] <= 25),\n",
                "\t[capital_increase] TINYINT DEFAULT 10 CHECK (0 <= [capital_increase] AND [capital_increase] <= 20),\n",
                "\t[death_coefficient] TINYINT DEFAULT 20 CHECK (3 <= [death_coefficient] AND [death_coefficient] <= 25)\n",
                ");\n",
                "GO\n",
                "\n",
                "CREATE TABLE [Health_inq](\n",
                "\t[id] INT NOT NULL PRIMARY KEY,\n",
                "\t[inq_id] INT FOREIGN KEY REFERENCES [Inqury](id),\n",
                "\t[is_family] BIT,\n",
                "\t[count_of_memeber] TINYINT NOT NULL CHECK (1 <= [count_of_memeber] AND [count_of_memeber] <= 10)\n",
                ");\n",
                "GO\n",
                "\n",
                "CREATE TABLE [BaseIns](\n",
                "\t[id] INT NOT NULL PRIMARY KEY,\n",
                "\t[insurance] NVARCHAR(30)\n",
                ");\n",
                "GO\n",
                "\n",
                "CREATE TABLE [Relation](\n",
                "\t[id] INT NOT NULL PRIMARY KEY,\n",
                "\t[relation] NVARCHAR(30)\n",
                ");\n",
                "GO\n",
                "\n",
                "CREATE TABLE [AgeRange](\n",
                "\t[id] INT NOT NULL PRIMARY KEY,\n",
                "\t[range] NVARCHAR(30)\n",
                ");\n",
                "GO\n",
                "\n",
                "CREATE TABLE [Member](\n",
                "\t[id] INT NOT NULL PRIMARY KEY,\n",
                "    [health_inq_id] INT FOREIGN KEY REFERENCES [Health_inq](id),\n",
                "\t[base_ins] INT FOREIGN KEY REFERENCES [BaseIns](id),\n",
                "\t[age_range] INT FOREIGN KEY REFERENCES [AgeRange](id),\n",
                "\t[head_id] INT FOREIGN KEY REFERENCES [Member](id),\n",
                "\t[relation] INT FOREIGN KEY REFERENCES [Relation](id)\n",
                ");\n",
                "GO\n",
                "\n",
                "CREATE TABLE [StructureType](\n",
                "\t[id] INT NOT NULL PRIMARY KEY,\n",
                "\t[type] NVARCHAR(30)\n",
                ");\n",
                "GO\n",
                "\n",
                "CREATE TABLE [BuildingMaterial](\n",
                "\t[id] INT NOT NULL PRIMARY KEY,\n",
                "\t[material] NVARCHAR(30)\n",
                ");\n",
                "GO\n",
                "\n",
                "CREATE TABLE [Property_inq](\n",
                "\t[id] INT NOT NULL PRIMARY KEY,\n",
                "\t[inq_id] INT FOREIGN KEY REFERENCES [Inqury](id),\n",
                "    [province_id] INT FOREIGN KEY REFERENCES [Province](id),\n",
                "\t[city_id] INT FOREIGN KEY REFERENCES [City](id),\n",
                "\t[structure_type] INT FOREIGN KEY REFERENCES [StructureType](id),\n",
                "\t[uinit_count] INT DEFAULT 1 CHECK ([uinit_count] >= 1),\n",
                "\t[building_material] INT FOREIGN KEY REFERENCES [BuildingMaterial](id),\n",
                "\t[life_building] TINYINT NOT NULL CHECK (0 <= [life_building] AND [life_building] <= 35),\n",
                "\t[meterage] INT NOT NULL,\n",
                "\t[cost_per_meter] TINYINT NOT NULL CHECK (0 <= [cost_per_meter] AND [cost_per_meter] <= 10),\n",
                "\t[appliance_price] BIGINT NOT NULL,\n",
                ");\n",
                "GO\n",
                "\n",
                "CREATE TABLE [Company](\n",
                "\t[id] INT NOT NULL PRIMARY KEY,\n",
                "\t[name] NVARCHAR(50) NOT NULL\n",
                ");\n",
                "GO\n",
                "\n",
                "CREATE TABLE [Insurance](\n",
                "\t[id] INT NOT NULL PRIMARY KEY,\n",
                "\t[ins_type] INT FOREIGN KEY REFERENCES [Type](id),\n",
                "\t[company_id] Int FOREIGN KEY REFERENCES [Company](id),\n",
                "\t[price] BIGINT NOT NULL,\n",
                "\t[discount] TINYINT DEFAULT 0 CHECK (0 <= [discount] AND [discount] <= 100),\n",
                ");\n",
                "GO\n",
                "\n",
                "CREATE TABLE [Life_insurance](\n",
                "\t[id] INT NOT NULL PRIMARY KEY,\n",
                "\t[ins_id] INT FOREIGN KEY REFERENCES [Insurance](id),\n",
                "\t[redemption_value] BIGINT NOT NULL,\n",
                "\t[death_capital] BIGINT NOT NULL,\n",
                "\t[medical_expences] BIGINT NOT NULL,\n",
                ");\n",
                "GO\n",
                "\n",
                "CREATE TABLE [Health_insurance](\n",
                "\t[id] INT NOT NULL PRIMARY KEY,\n",
                "\t[ins_id] INT FOREIGN KEY REFERENCES [Insurance](id),\n",
                "\t[ins_service] NVARCHAR(50),\n",
                "\t[child_birth] INT DEFAULT 9,\n",
                "\t[chronic_disease] INT DEFAULT 3,\n",
                "\t[share_of_costs] INT DEFAULT 10 CHECK (0 <= [share_of_costs] AND [share_of_costs] <= 100),\n",
                ");\n",
                "GO\n",
                "\n",
                "CREATE TABLE [Property_ins](\n",
                "\t[id] INT NOT NULL PRIMARY KEY,\n",
                "\t[ins_id] INT FOREIGN KEY REFERENCES [Insurance](id),\n",
                "\t[rating] DECIMAL(2, 1) CHECK (0.0 <= [rating] AND [rating] <= 5.0),\n",
                "\t[ability] TINYINT CHECK (0 <= [ability] AND [ability] <= 5),\n",
                "\t[satisfaction] DECIMAL(2, 1) CHECK (0.0 <= [satisfaction] AND [satisfaction] <= 5.0),\n",
                "\t[branch] INT NOT NULL,\n",
                ");\n",
                "GO\n",
                "\n",
                "CREATE TABLE [Buy](\n",
                "\t[id] INT NOT NULL PRIMARY KEY,\n",
                "\t[user_id] INT FOREIGN KEY REFERENCES [User_](id) ON DELETE CASCADE,\n",
                "\t[ins_id] INT FOREIGN KEY REFERENCES [Insurance](id),\n",
                "\t[inq_id] INT FOREIGN KEY REFERENCES [inqury](id) ON DELETE CASCADE,\n",
                "\t[final_price] BIGINT NOT NULL,\n",
                "\t[discount_code] NVARCHAR(15)\n",
                ");\n",
                "GO\n",
                ""
            ],
            "metadata": {
                "azdata_cell_guid": "29f0a4dd-743c-4906-8984-66a853bb5df6",
                "language": "sql",
                "tags": []
            },
            "outputs": [
                {
                    "output_type": "display_data",
                    "data": {
                        "text/html": "Commands completed successfully."
                    },
                    "metadata": {}
                },
                {
                    "output_type": "display_data",
                    "data": {
                        "text/html": "Commands completed successfully."
                    },
                    "metadata": {}
                },
                {
                    "output_type": "display_data",
                    "data": {
                        "text/html": "Commands completed successfully."
                    },
                    "metadata": {}
                },
                {
                    "output_type": "display_data",
                    "data": {
                        "text/html": "Commands completed successfully."
                    },
                    "metadata": {}
                },
                {
                    "output_type": "display_data",
                    "data": {
                        "text/html": "Commands completed successfully."
                    },
                    "metadata": {}
                },
                {
                    "output_type": "display_data",
                    "data": {
                        "text/html": "Commands completed successfully."
                    },
                    "metadata": {}
                },
                {
                    "output_type": "display_data",
                    "data": {
                        "text/html": "Commands completed successfully."
                    },
                    "metadata": {}
                },
                {
                    "output_type": "display_data",
                    "data": {
                        "text/html": "Commands completed successfully."
                    },
                    "metadata": {}
                },
                {
                    "output_type": "display_data",
                    "data": {
                        "text/html": "Commands completed successfully."
                    },
                    "metadata": {}
                },
                {
                    "output_type": "display_data",
                    "data": {
                        "text/html": "Commands completed successfully."
                    },
                    "metadata": {}
                },
                {
                    "output_type": "display_data",
                    "data": {
                        "text/html": "Commands completed successfully."
                    },
                    "metadata": {}
                },
                {
                    "output_type": "display_data",
                    "data": {
                        "text/html": "Commands completed successfully."
                    },
                    "metadata": {}
                },
                {
                    "output_type": "display_data",
                    "data": {
                        "text/html": "Commands completed successfully."
                    },
                    "metadata": {}
                },
                {
                    "output_type": "display_data",
                    "data": {
                        "text/html": "Commands completed successfully."
                    },
                    "metadata": {}
                },
                {
                    "output_type": "display_data",
                    "data": {
                        "text/html": "Commands completed successfully."
                    },
                    "metadata": {}
                },
                {
                    "output_type": "display_data",
                    "data": {
                        "text/html": "Commands completed successfully."
                    },
                    "metadata": {}
                },
                {
                    "output_type": "display_data",
                    "data": {
                        "text/html": "Commands completed successfully."
                    },
                    "metadata": {}
                },
                {
                    "output_type": "display_data",
                    "data": {
                        "text/html": "Commands completed successfully."
                    },
                    "metadata": {}
                },
                {
                    "output_type": "display_data",
                    "data": {
                        "text/html": "Commands completed successfully."
                    },
                    "metadata": {}
                },
                {
                    "output_type": "display_data",
                    "data": {
                        "text/html": "Commands completed successfully."
                    },
                    "metadata": {}
                },
                {
                    "output_type": "display_data",
                    "data": {
                        "text/html": "Commands completed successfully."
                    },
                    "metadata": {}
                },
                {
                    "output_type": "display_data",
                    "data": {
                        "text/html": "Total execution time: 00:00:00.138"
                    },
                    "metadata": {}
                }
            ],
            "execution_count": 111
        },
        {
            "cell_type": "code",
            "source": [
                "-- static values\n",
                "INSERT INTO [Type]\n",
                "( [id], [type])\n",
                "VALUES\n",
                "(1, 'Life'),\n",
                "(2, 'Health'),\n",
                "(3, 'Fire'),\n",
                "(4, 'Earthquake')\n",
                "GO\n",
                "\n",
                "INSERT INTO [BaseIns]\n",
                "( [id], [insurance])\n",
                "VALUES\n",
                "(1, 'No Base Insurance'),\n",
                "(2, 'Tamin Ejtemayee'),\n",
                "(3, 'Khadamat Darman'),\n",
                "(4, 'Niro Mosalah'),\n",
                "(5, 'Bank ha'),\n",
                "(6, 'Salamat Iranian'),\n",
                "(7, 'Other Insurance')\n",
                "GO\n",
                "\n",
                "INSERT INTO [Relation]\n",
                "( [id], [relation])\n",
                "VALUES\n",
                "(0, 'Head'),\n",
                "(1, 'Hamsar'),\n",
                "(2, 'Farzand dokhtar'),\n",
                "(3, 'Farzand pesar'),\n",
                "(4, 'Pedar'),\n",
                "(5, 'Madar'),\n",
                "(6, 'Pedar bozorg'),\n",
                "(7, 'Madar bozorg'),\n",
                "(8, 'Nave'),\n",
                "(9, 'Other')\n",
                "GO\n",
                "\n",
                "INSERT INTO [AgeRange]\n",
                "( [id], [range])\n",
                "VALUES\n",
                "(1, '5 to 15'),\n",
                "(2, '16 to 45'),\n",
                "(3, '46 to 50'),\n",
                "(4, '51 to 60'),\n",
                "(5, '61 to 70')\n",
                "GO\n",
                "\n",
                "INSERT INTO [StructureType]\n",
                "( [id], [type])\n",
                "VALUES\n",
                "(1, '1 vahed dar aparteman'),\n",
                "(2, '1 sakhteman vilayee'),\n",
                "(3, 'aparteman ya mojtama')\n",
                "GO\n",
                "\n",
                "INSERT INTO [BuildingMaterial]\n",
                "( [id], [material])\n",
                "VALUES\n",
                "(1, 'Ajori'),\n",
                "(2, 'Felezi'),\n",
                "(3, 'Betoni')\n",
                "GO\n",
                "\n",
                "INSERT INTO [Province]\n",
                "( [id], [name])\n",
                "VALUES\n",
                "(01, 'Azarbayjan Shargi'),\n",
                "(02, 'Azarbayjan gharbi'),\n",
                "(03, 'Ardabil'),\n",
                "(04, 'Esfahan'),\n",
                "(05, 'Alborz'),\n",
                "(06, 'Ilam'),\n",
                "(07, 'Boshehr'),\n",
                "(08, 'Tehran'),\n",
                "(09, 'Charmahal'),\n",
                "(10, 'khorasan Jonobi'),\n",
                "(11, 'khorasan Razavi'),\n",
                "(12, 'khorasan Shomali'),\n",
                "(13, 'Khozestan'),\n",
                "(14, 'Zanjan'),\n",
                "(15, 'Semnan'),\n",
                "(16, 'Sistan'),\n",
                "(17, 'Fars'),\n",
                "(18, 'Qazvin'),\n",
                "(19, 'Qom'),\n",
                "(20, 'Kordestan'),\n",
                "(21, 'Kerman'),\n",
                "(22, 'Kermanshah'),\n",
                "(23, 'Kohkiloye'),\n",
                "(24, 'Golestan'),\n",
                "(25, 'Gilan'),\n",
                "(26, 'Lorestan'),\n",
                "(27, 'Mazandaran'),\n",
                "(28, 'Markazi'),\n",
                "(29, 'Hormozgan'),\n",
                "(30, 'Hamedan'),\n",
                "(31, 'Yazd')\n",
                "GO\n",
                "\n",
                "INSERT INTO [City]\n",
                "( [id], [name], [province_id])\n",
                "VALUES\n",
                "(0401, 'Esfahan', 04),\n",
                "(0402, 'Golpaygan', 04),\n",
                "(0403, 'Natanz', 04),\n",
                "(0505, 'Kan', 05),\n",
                "(0509, 'Karaj', 05),\n",
                "(0801, 'Tehran', 08),\n",
                "(0802, 'Varamin', 08),\n",
                "(1001, 'Qaen', 10),\n",
                "(1002, 'Ferdos', 10),\n",
                "(1003, 'Birjand', 10),\n",
                "(1101, 'Mashhad', 11),\n",
                "(1102, 'Neyshabor', 11),\n",
                "(1103, 'Sabzevar', 11),\n",
                "(1201, 'Bojnord', 12),\n",
                "(1202, 'Shiravan', 12),\n",
                "(1203, 'Garme', 12)\n",
                "GO\n",
                "\n",
                "INSERT INTO [Company]\n",
                "( [id], [name])\n",
                "VALUES\n",
                "(1, 'Iran'),\n",
                "(2, 'Asia'),\n",
                "(3, 'Parsian'),\n",
                "(4, 'Dana'),\n",
                "(5, 'Razi'),\n",
                "(6, 'Ma'),\n",
                "(7, 'Moalem'),\n",
                "(8, 'Pasargad'),\n",
                "(9, 'Alborz'),\n",
                "(10, 'Dey'),\n",
                "(11, 'Melat'),\n",
                "(12, 'Karafarin'),\n",
                "(13, 'Novin'),\n",
                "(14, 'Saman'),\n",
                "(15, 'Tejarat No'),\n",
                "(16, 'Kosar'),\n",
                "(17, 'Arman'),\n",
                "(18, 'Sina'),\n",
                "(19, 'Taavon'),\n",
                "(20, 'Asmari'),\n",
                "(21, 'Sarmad'),\n",
                "(22, 'Mihan'),\n",
                "(23, 'Hafez'),\n",
                "(24, 'Tosee')\n",
                "GO\n",
                ""
            ],
            "metadata": {
                "language": "sql",
                "azdata_cell_guid": "f8ed6764-5ae6-453e-9320-eda4c9c06355"
            },
            "outputs": [
                {
                    "output_type": "display_data",
                    "data": {
                        "text/html": "(4 rows affected)"
                    },
                    "metadata": {}
                },
                {
                    "output_type": "display_data",
                    "data": {
                        "text/html": "(7 rows affected)"
                    },
                    "metadata": {}
                },
                {
                    "output_type": "display_data",
                    "data": {
                        "text/html": "(10 rows affected)"
                    },
                    "metadata": {}
                },
                {
                    "output_type": "display_data",
                    "data": {
                        "text/html": "(5 rows affected)"
                    },
                    "metadata": {}
                },
                {
                    "output_type": "display_data",
                    "data": {
                        "text/html": "(3 rows affected)"
                    },
                    "metadata": {}
                },
                {
                    "output_type": "display_data",
                    "data": {
                        "text/html": "(3 rows affected)"
                    },
                    "metadata": {}
                },
                {
                    "output_type": "display_data",
                    "data": {
                        "text/html": "(31 rows affected)"
                    },
                    "metadata": {}
                },
                {
                    "output_type": "display_data",
                    "data": {
                        "text/html": "(16 rows affected)"
                    },
                    "metadata": {}
                },
                {
                    "output_type": "display_data",
                    "data": {
                        "text/html": "(24 rows affected)"
                    },
                    "metadata": {}
                },
                {
                    "output_type": "display_data",
                    "data": {
                        "text/html": "Total execution time: 00:00:00.138"
                    },
                    "metadata": {}
                }
            ],
            "execution_count": 112
        },
        {
            "cell_type": "code",
            "source": [
                "-- dynamic values\n",
                "INSERT INTO [User_]\n",
                "( [id], [phone], [code], [fname], [lname], [pass], [invatation], [is_logged_in])\n",
                "VALUES\n",
                "(11, '09026743937', 'r00nh2lt', 'Ali', 'Karimi', 'pass', 5, 1),\n",
                "(12, '09018110650', 'ygupw435', 'Mohammad', 'Amiri', 'pass', 8, 1),\n",
                "(13, '09129615681', 'tmvx37i0', 'Mahda', 'Ashrafi', 'pass', 7, 1),\n",
                "(14, '09371752150', 'qvri9z9g', 'Hossein', 'Mortazavi', 'pass', 10, 0),\n",
                "(15, '09025807894', '13czlwwg', 'Helma', 'Akhgar', 'pass', 4, 1),\n",
                "(16, '09374787030', 'pye761w9', 'Roqaye', 'Azizi', 'pass', 7, 1),\n",
                "(17, '09308687695', '934bo6me', 'Kasra', 'Siyavashpoor', 'pass', 3, 1),\n",
                "(18, '09027061854', 'yca0mvyl', 'Nikan', 'Norafkan', 'pass', 8, 0),\n",
                "(19, '09509879142', 'dul70p8r', 'Erfan', 'Riyazati', 'pass', 10, 1),\n",
                "(20, '09503672963', 'hr2kyfej', 'Reza', 'Najafi', 'pass', 10, 1)\n",
                "GO\n",
                "\n",
                "INSERT INTO [Reminder]\n",
                "( [id], [user_id], [ins_type], [ins_description], [due_date], [ins_period], [province_id], [city_id])\n",
                "VALUES\n",
                "(111, 11, 1, 'test purpose', '1401-10-10', 12, 08, 0801),\n",
                "(112, 11, 3, 'test purpose', '1401-05-01', 3, 08, 0802),\n",
                "\n",
                "(121, 12, 1, 'test purpose', '1401-05-01', 6, 10, 1001),\n",
                "\n",
                "(131, 13, 2, 'test purpose', '1401-06-07', 1, 10, 1002),\n",
                "(132, 13, 4, 'test purpose', '1401-03-01', 12, 05, 0509),\n",
                "\n",
                "(171, 17, 1, 'test purpose', '1380-09-01', 6, 08, 0801),\n",
                "\n",
                "(191, 19, 1, 'test purpose', '1370-01-01', 3, 08, 0801),\n",
                "\n",
                "(201, 20, 1, 'test purpose', '1360-03-01', 6, 08, 0801)\n",
                "GO\n",
                "\n",
                "INSERT INTO [Inqury]\n",
                "( [id], [inq_type])\n",
                "VALUES\n",
                "(101, 1),\n",
                "(102, 1),\n",
                "(103, 1),\n",
                "(104, 1),\n",
                "(105, 1),\n",
                "\n",
                "(201, 2),\n",
                "(202, 2),\n",
                "(203, 2),\n",
                "(204, 2),\n",
                "(205, 2),\n",
                "\n",
                "(301, 3),\n",
                "(302, 3),\n",
                "(303, 3),\n",
                "(304, 3),\n",
                "(305, 3),\n",
                "(306, 3),\n",
                "(307, 3),\n",
                "\n",
                "(401, 4),\n",
                "(402, 4),\n",
                "(403, 4),\n",
                "(404, 4)\n",
                "GO\n",
                "\n",
                "INSERT INTO [Life_inq]\n",
                "( [id], [inq_id], [birth_date], [contract_period], [payment_way], [monthly_payment], [premiums_increase], [capital_increase], [death_coefficient])\n",
                "VALUES\n",
                "(101, 101, '1400-10-10', 5, 3, (70 * 1000), 25, 10, 20),\n",
                "(102, 102, '1360-01-01', 10, 3, (100 * 1000), 25, 10, 20),\n",
                "(103, 103, '1375-03-10', 20, 12, (100 * 1000), 25, 10, 20),\n",
                "(104, 104, '1399-07-06', 15, 12, (100 * 1000), 25, 10, 20),\n",
                "(105, 105, '1401-02-26', 30, 3, (100 * 1000), 25, 10, 20)\n",
                "GO\n",
                "\n",
                "INSERT INTO [Health_inq]\n",
                "( [id], [inq_id], [is_family], [count_of_memeber])\n",
                "VALUES\n",
                "(201, 201, 0, 1),\n",
                "(202, 202, 0, 3),\n",
                "(203, 203, 1, 3),\n",
                "(204, 204, 1, 4),\n",
                "(205, 205, 0, 1)\n",
                "GO\n",
                "INSERT INTO [Member]\n",
                "( [id], [health_inq_id], [base_ins], [age_range], [head_id], [relation])\n",
                "VALUES\n",
                "(2011, 201, 5, 3, NULL, NULL),\n",
                "\n",
                "(2021, 202, 3, 1, NULL, NULL),\n",
                "(2022, 202, 3, 2, NULL, NULL),\n",
                "(2023, 202, 3, 2, NULL, NULL),\n",
                "\n",
                "(2031, 203, 3, 3, NULL, 0),\n",
                "(2032, 203, 6, 3, 2031, 1),\n",
                "(2033, 203, 6, 1, 2031, 2),\n",
                "\n",
                "(2041, 204, 1, 4, NULL, 0),\n",
                "(2042, 204, 1, 3, 2041, 1),\n",
                "(2043, 204, 1, 1, 2041, 2),\n",
                "(2044, 204, 1, 1, 2041, 3),\n",
                "\n",
                "(2051, 205, 5, 3, NULL, NULL)\n",
                "GO\n",
                "\n",
                "INSERT INTO [Property_inq]\n",
                "( [id], [inq_id], [province_id], [city_id], [structure_type], [uinit_count], [building_material], [life_building], [meterage], [cost_per_meter], [appliance_price] )\n",
                "VALUES\n",
                "(301, 301, 11, 1102, 3, 11, 3, 8, 800, 10, 100 * 1000000),\n",
                "(302, 302, 08, 0801, 3, 6, 2, 30, 900, 7, 210 * 1000000),\n",
                "(303, 303, 11, 1103, 1, 1, 2, 30, 900, 7, 250 * 1000000),\n",
                "(304, 304, 08, 0801, 3, 15, 2, 30, 900, 7, 350 * 1000000),\n",
                "(305, 305, 08, 0802, 1, 1, 2, 30, 900, 7, 100 * 1000000),\n",
                "(306, 306, 08, 0802, 2, 1, 2, 30, 900, 7, 100 * 1000000),\n",
                "(307, 307, 08, 0802, 3, 6, 2, 30, 900, 7, 100 * 1000000),\n",
                "\n",
                "(401, 401, 11, 1103, 1, 1, 1, 0, 150, 5, 500 * 1000000),\n",
                "(402, 402, 12, 1203, 2, 1, 2, 15, 300, 6, 200 * 1000000),\n",
                "(403, 403, 05, 0509, 2, 6, 3, 10, 500, 3, 150 * 1000000),\n",
                "(404, 404, 11, 1101, 1, 1, 1, 0, 200, 5, 500 * 1000000)\n",
                "GO\n",
                "\n",
                "INSERT INTO [Insurance]\n",
                "( [id], [ins_type], [company_id], [price], [discount])\n",
                "VALUES\n",
                "(101, 1, 14, 300 * 1000, 0),\n",
                "(102, 1, 1, 500 * 1000, 0),\n",
                "(103, 1, 8, 100 * 1000, 0),\n",
                "(104, 1, 7, 100 * 1000, 0),\n",
                "(105, 1, 3, 100 * 1000, 0),\n",
                "\n",
                "(201, 2, 10, 150 * 1000, 10),\n",
                "(202, 2, 10, 100 * 1000, 20),\n",
                "(203, 2, 10, 170 * 1000, 0),\n",
                "(204, 2, 10, 130 * 1000, 5),\n",
                "(205, 2, 14, 190 * 1000, 0),\n",
                "(206, 2, 14, 200 * 1000, 0),\n",
                "(207, 2, 14, 210 * 1000, 0),\n",
                "\n",
                "(301, 3, 19, 210 * 1000, 0),\n",
                "(302, 3, 2, 220 * 1000, 0),\n",
                "(303, 3, 5, 230 * 1000, 0),\n",
                "(304, 3, 3, 240 * 1000, 0),\n",
                "(305, 3, 10, 250 * 1000, 0),\n",
                "\n",
                "(401, 4, 1, 210 * 1000, 0),\n",
                "(402, 4, 10, 220 * 1000, 0),\n",
                "(403, 4, 3, 230 * 1000, 0),\n",
                "(404, 4, 14, 240 * 1000, 0),\n",
                "(405, 4, 20, 250 * 1000, 0)\n",
                "GO\n",
                "\n",
                "INSERT INTO [Life_insurance]\n",
                "( [id], [ins_id], [redemption_value], [death_capital], [medical_expences])\n",
                "VALUES\n",
                "(101, 101, 0600 * 1000, 0900 * 1000, 0),\n",
                "(102, 102, 1000 * 1000, 1500 * 1000, 0),\n",
                "(103, 103, 1100 * 1000, 1900 * 1000, 0),\n",
                "(104, 103, 1200 * 1000, 1700 * 1000, 0),\n",
                "(105, 103, 1300 * 1000, 1400 * 1000, 0)\n",
                "GO\n",
                "\n",
                "INSERT INTO [Health_insurance]\n",
                "( [id], [ins_id], [ins_service], [child_birth], [chronic_disease], [share_of_costs])\n",
                "VALUES\n",
                "(201, 201, 'shakhs vahed 3 star', 9, 3, 10),\n",
                "(202, 202, 'shakhs vahed 4 star', 9, 3, 10),\n",
                "(203, 203, 'shakhs vahed 4 star plus', 9, 3, 10),\n",
                "(204, 204, 'shakhs vahed 5 star', 9, 3, 10),\n",
                "(205, 205, 'tarh sero', 9, 3, 10),\n",
                "(206, 206, 'tarh sepidar', 9, 3, 10),\n",
                "(207, 207, 'tarh afra', 9, 3, 10)\n",
                "GO\n",
                "\n",
                "INSERT INTO [Property_ins]\n",
                "( [id], [ins_id], [rating], [ability], [satisfaction], [branch])\n",
                "VALUES\n",
                "(301, 301, 4.2, 5, 5.0, 29),\n",
                "(302, 302, 4.2, 5, 4.0, 99),\n",
                "(303, 303, 3.9, 5, 4.1, 47),\n",
                "(304, 304, 4.0, 5, 4.3, 62),\n",
                "(305, 305, 3.7, 4, 3.0, 49),\n",
                "\n",
                "(401, 401, 4.2, 5, 5.0, 10),\n",
                "(402, 402, 4.2, 5, 4.0, 30),\n",
                "(403, 403, 3.9, 5, 4.1, 7),\n",
                "(404, 404, 4.0, 5, 4.3, 5),\n",
                "(405, 405, 3.7, 4, 3.0, 30)\n",
                "GO\n",
                "\n",
                "INSERT INTO [Buy]\n",
                "( [id], [user_id], [ins_id], [inq_id], [final_price], [discount_code] )\n",
                "VALUES\n",
                "(111, 11, 101, 101, (1500 * 1000), NULL),\n",
                "(112, 11, 201, 201, (1500 * 1000), NULL),\n",
                "(113, 11, 401, 401, (1500 * 1000), NULL),\n",
                "\n",
                "(121, 12, 102, 102, (1500 * 1000), NULL),\n",
                "(122, 12, 301, 301, (1500 * 1000), NULL),\n",
                "(123, 12, 402, 402, (1500 * 1000), NULL),\n",
                "\n",
                "(131, 13, 101, 103, (1500 * 1000), NULL),\n",
                "(132, 13, 203, 202, (0900 * 1000), NULL),\n",
                "(133, 13, 305, 302, (1500 * 1000), NULL),\n",
                "(134, 13, 404, 403, (1500 * 1000), NULL),\n",
                "\n",
                "(151, 15, 302, 303, (0500 * 1000), NULL),\n",
                "(152, 15, 302, 306, (0500 * 1000), NULL),\n",
                "(153, 15, 302, 307, (0500 * 1000), NULL),\n",
                "\n",
                "(161, 16, 303, 304, (0500 * 1000), NULL),\n",
                "\n",
                "(181, 18, 201, 203, (0500 * 1000), NULL),\n",
                "(182, 18, 304, 305, (0500 * 1000), NULL),\n",
                "\n",
                "(191, 19, 206, 204, (1500 * 1000), NULL),\n",
                "(192, 19, 207, 205, (1500 * 1000), NULL)\n",
                "GO"
            ],
            "metadata": {
                "language": "sql",
                "azdata_cell_guid": "b37f37ad-e71b-417a-8c33-334a3afef53e"
            },
            "outputs": [
                {
                    "output_type": "display_data",
                    "data": {
                        "text/html": "(10 rows affected)"
                    },
                    "metadata": {}
                },
                {
                    "output_type": "display_data",
                    "data": {
                        "text/html": "(8 rows affected)"
                    },
                    "metadata": {}
                },
                {
                    "output_type": "display_data",
                    "data": {
                        "text/html": "(21 rows affected)"
                    },
                    "metadata": {}
                },
                {
                    "output_type": "display_data",
                    "data": {
                        "text/html": "(5 rows affected)"
                    },
                    "metadata": {}
                },
                {
                    "output_type": "display_data",
                    "data": {
                        "text/html": "(5 rows affected)"
                    },
                    "metadata": {}
                },
                {
                    "output_type": "display_data",
                    "data": {
                        "text/html": "(12 rows affected)"
                    },
                    "metadata": {}
                },
                {
                    "output_type": "display_data",
                    "data": {
                        "text/html": "(11 rows affected)"
                    },
                    "metadata": {}
                },
                {
                    "output_type": "display_data",
                    "data": {
                        "text/html": "(22 rows affected)"
                    },
                    "metadata": {}
                },
                {
                    "output_type": "display_data",
                    "data": {
                        "text/html": "(5 rows affected)"
                    },
                    "metadata": {}
                },
                {
                    "output_type": "display_data",
                    "data": {
                        "text/html": "(7 rows affected)"
                    },
                    "metadata": {}
                },
                {
                    "output_type": "display_data",
                    "data": {
                        "text/html": "(10 rows affected)"
                    },
                    "metadata": {}
                },
                {
                    "output_type": "display_data",
                    "data": {
                        "text/html": "(18 rows affected)"
                    },
                    "metadata": {}
                },
                {
                    "output_type": "display_data",
                    "data": {
                        "text/html": "Total execution time: 00:00:00.171"
                    },
                    "metadata": {}
                }
            ],
            "execution_count": 113
        },
        {
            "cell_type": "code",
            "source": [
                "SELECT *\n",
                "FROM [Buy]\n",
                "    INNER JOIN [User_] ON ([Buy].user_id = [User_].id)\n",
                "    INNER JOIN [Insurance] ON ([Buy].ins_id = [Insurance].id)\n",
                "    INNER JOIN [Inqury] ON ([Buy].inq_id = [Inqury].id )"
            ],
            "metadata": {
                "language": "sql",
                "azdata_cell_guid": "d4df5685-03a7-4dab-bee4-b0c71b6cfb4f"
            },
            "outputs": [
                {
                    "output_type": "display_data",
                    "data": {
                        "text/html": "(18 rows affected)"
                    },
                    "metadata": {}
                },
                {
                    "output_type": "display_data",
                    "data": {
                        "text/html": "Total execution time: 00:00:00.026"
                    },
                    "metadata": {}
                },
                {
                    "output_type": "execute_result",
                    "metadata": {},
                    "execution_count": 114,
                    "data": {
                        "application/vnd.dataresource+json": {
                            "schema": {
                                "fields": [
                                    {
                                        "name": "id"
                                    },
                                    {
                                        "name": "user_id"
                                    },
                                    {
                                        "name": "ins_id"
                                    },
                                    {
                                        "name": "inq_id"
                                    },
                                    {
                                        "name": "final_price"
                                    },
                                    {
                                        "name": "discount_code"
                                    },
                                    {
                                        "name": "id"
                                    },
                                    {
                                        "name": "phone"
                                    },
                                    {
                                        "name": "code"
                                    },
                                    {
                                        "name": "fname"
                                    },
                                    {
                                        "name": "lname"
                                    },
                                    {
                                        "name": "pass"
                                    },
                                    {
                                        "name": "invatation"
                                    },
                                    {
                                        "name": "is_logged_in"
                                    },
                                    {
                                        "name": "id"
                                    },
                                    {
                                        "name": "ins_type"
                                    },
                                    {
                                        "name": "company_id"
                                    },
                                    {
                                        "name": "price"
                                    },
                                    {
                                        "name": "discount"
                                    },
                                    {
                                        "name": "id"
                                    },
                                    {
                                        "name": "inq_type"
                                    }
                                ]
                            },
                            "data": [
                                {
                                    "0": "111",
                                    "1": "11",
                                    "2": "101",
                                    "3": "101",
                                    "4": "1500000",
                                    "5": "NULL",
                                    "6": "11",
                                    "7": "09026743937",
                                    "8": "r00nh2lt",
                                    "9": "Ali",
                                    "10": "Karimi",
                                    "11": "pass",
                                    "12": "5",
                                    "13": "1",
                                    "14": "101",
                                    "15": "1",
                                    "16": "14",
                                    "17": "300000",
                                    "18": "0",
                                    "19": "101",
                                    "20": "1"
                                },
                                {
                                    "0": "112",
                                    "1": "11",
                                    "2": "201",
                                    "3": "201",
                                    "4": "1500000",
                                    "5": "NULL",
                                    "6": "11",
                                    "7": "09026743937",
                                    "8": "r00nh2lt",
                                    "9": "Ali",
                                    "10": "Karimi",
                                    "11": "pass",
                                    "12": "5",
                                    "13": "1",
                                    "14": "201",
                                    "15": "2",
                                    "16": "10",
                                    "17": "150000",
                                    "18": "10",
                                    "19": "201",
                                    "20": "2"
                                },
                                {
                                    "0": "113",
                                    "1": "11",
                                    "2": "401",
                                    "3": "401",
                                    "4": "1500000",
                                    "5": "NULL",
                                    "6": "11",
                                    "7": "09026743937",
                                    "8": "r00nh2lt",
                                    "9": "Ali",
                                    "10": "Karimi",
                                    "11": "pass",
                                    "12": "5",
                                    "13": "1",
                                    "14": "401",
                                    "15": "4",
                                    "16": "1",
                                    "17": "210000",
                                    "18": "0",
                                    "19": "401",
                                    "20": "4"
                                },
                                {
                                    "0": "121",
                                    "1": "12",
                                    "2": "102",
                                    "3": "102",
                                    "4": "1500000",
                                    "5": "NULL",
                                    "6": "12",
                                    "7": "09018110650",
                                    "8": "ygupw435",
                                    "9": "Mohammad",
                                    "10": "Amiri",
                                    "11": "pass",
                                    "12": "8",
                                    "13": "1",
                                    "14": "102",
                                    "15": "1",
                                    "16": "1",
                                    "17": "500000",
                                    "18": "0",
                                    "19": "102",
                                    "20": "1"
                                },
                                {
                                    "0": "122",
                                    "1": "12",
                                    "2": "301",
                                    "3": "301",
                                    "4": "1500000",
                                    "5": "NULL",
                                    "6": "12",
                                    "7": "09018110650",
                                    "8": "ygupw435",
                                    "9": "Mohammad",
                                    "10": "Amiri",
                                    "11": "pass",
                                    "12": "8",
                                    "13": "1",
                                    "14": "301",
                                    "15": "3",
                                    "16": "19",
                                    "17": "210000",
                                    "18": "0",
                                    "19": "301",
                                    "20": "3"
                                },
                                {
                                    "0": "123",
                                    "1": "12",
                                    "2": "402",
                                    "3": "402",
                                    "4": "1500000",
                                    "5": "NULL",
                                    "6": "12",
                                    "7": "09018110650",
                                    "8": "ygupw435",
                                    "9": "Mohammad",
                                    "10": "Amiri",
                                    "11": "pass",
                                    "12": "8",
                                    "13": "1",
                                    "14": "402",
                                    "15": "4",
                                    "16": "10",
                                    "17": "220000",
                                    "18": "0",
                                    "19": "402",
                                    "20": "4"
                                },
                                {
                                    "0": "131",
                                    "1": "13",
                                    "2": "101",
                                    "3": "103",
                                    "4": "1500000",
                                    "5": "NULL",
                                    "6": "13",
                                    "7": "09129615681",
                                    "8": "tmvx37i0",
                                    "9": "Mahda",
                                    "10": "Ashrafi",
                                    "11": "pass",
                                    "12": "7",
                                    "13": "1",
                                    "14": "101",
                                    "15": "1",
                                    "16": "14",
                                    "17": "300000",
                                    "18": "0",
                                    "19": "103",
                                    "20": "1"
                                },
                                {
                                    "0": "132",
                                    "1": "13",
                                    "2": "203",
                                    "3": "202",
                                    "4": "900000",
                                    "5": "NULL",
                                    "6": "13",
                                    "7": "09129615681",
                                    "8": "tmvx37i0",
                                    "9": "Mahda",
                                    "10": "Ashrafi",
                                    "11": "pass",
                                    "12": "7",
                                    "13": "1",
                                    "14": "203",
                                    "15": "2",
                                    "16": "10",
                                    "17": "170000",
                                    "18": "0",
                                    "19": "202",
                                    "20": "2"
                                },
                                {
                                    "0": "133",
                                    "1": "13",
                                    "2": "305",
                                    "3": "302",
                                    "4": "1500000",
                                    "5": "NULL",
                                    "6": "13",
                                    "7": "09129615681",
                                    "8": "tmvx37i0",
                                    "9": "Mahda",
                                    "10": "Ashrafi",
                                    "11": "pass",
                                    "12": "7",
                                    "13": "1",
                                    "14": "305",
                                    "15": "3",
                                    "16": "10",
                                    "17": "250000",
                                    "18": "0",
                                    "19": "302",
                                    "20": "3"
                                },
                                {
                                    "0": "134",
                                    "1": "13",
                                    "2": "404",
                                    "3": "403",
                                    "4": "1500000",
                                    "5": "NULL",
                                    "6": "13",
                                    "7": "09129615681",
                                    "8": "tmvx37i0",
                                    "9": "Mahda",
                                    "10": "Ashrafi",
                                    "11": "pass",
                                    "12": "7",
                                    "13": "1",
                                    "14": "404",
                                    "15": "4",
                                    "16": "14",
                                    "17": "240000",
                                    "18": "0",
                                    "19": "403",
                                    "20": "4"
                                },
                                {
                                    "0": "151",
                                    "1": "15",
                                    "2": "302",
                                    "3": "303",
                                    "4": "500000",
                                    "5": "NULL",
                                    "6": "15",
                                    "7": "09025807894",
                                    "8": "13czlwwg",
                                    "9": "Helma",
                                    "10": "Akhgar",
                                    "11": "pass",
                                    "12": "4",
                                    "13": "1",
                                    "14": "302",
                                    "15": "3",
                                    "16": "2",
                                    "17": "220000",
                                    "18": "0",
                                    "19": "303",
                                    "20": "3"
                                },
                                {
                                    "0": "152",
                                    "1": "15",
                                    "2": "302",
                                    "3": "306",
                                    "4": "500000",
                                    "5": "NULL",
                                    "6": "15",
                                    "7": "09025807894",
                                    "8": "13czlwwg",
                                    "9": "Helma",
                                    "10": "Akhgar",
                                    "11": "pass",
                                    "12": "4",
                                    "13": "1",
                                    "14": "302",
                                    "15": "3",
                                    "16": "2",
                                    "17": "220000",
                                    "18": "0",
                                    "19": "306",
                                    "20": "3"
                                },
                                {
                                    "0": "153",
                                    "1": "15",
                                    "2": "302",
                                    "3": "307",
                                    "4": "500000",
                                    "5": "NULL",
                                    "6": "15",
                                    "7": "09025807894",
                                    "8": "13czlwwg",
                                    "9": "Helma",
                                    "10": "Akhgar",
                                    "11": "pass",
                                    "12": "4",
                                    "13": "1",
                                    "14": "302",
                                    "15": "3",
                                    "16": "2",
                                    "17": "220000",
                                    "18": "0",
                                    "19": "307",
                                    "20": "3"
                                },
                                {
                                    "0": "161",
                                    "1": "16",
                                    "2": "303",
                                    "3": "304",
                                    "4": "500000",
                                    "5": "NULL",
                                    "6": "16",
                                    "7": "09374787030",
                                    "8": "pye761w9",
                                    "9": "Roqaye",
                                    "10": "Azizi",
                                    "11": "pass",
                                    "12": "7",
                                    "13": "1",
                                    "14": "303",
                                    "15": "3",
                                    "16": "5",
                                    "17": "230000",
                                    "18": "0",
                                    "19": "304",
                                    "20": "3"
                                },
                                {
                                    "0": "181",
                                    "1": "18",
                                    "2": "201",
                                    "3": "203",
                                    "4": "500000",
                                    "5": "NULL",
                                    "6": "18",
                                    "7": "09027061854",
                                    "8": "yca0mvyl",
                                    "9": "Nikan",
                                    "10": "Norafkan",
                                    "11": "pass",
                                    "12": "8",
                                    "13": "0",
                                    "14": "201",
                                    "15": "2",
                                    "16": "10",
                                    "17": "150000",
                                    "18": "10",
                                    "19": "203",
                                    "20": "2"
                                },
                                {
                                    "0": "182",
                                    "1": "18",
                                    "2": "304",
                                    "3": "305",
                                    "4": "500000",
                                    "5": "NULL",
                                    "6": "18",
                                    "7": "09027061854",
                                    "8": "yca0mvyl",
                                    "9": "Nikan",
                                    "10": "Norafkan",
                                    "11": "pass",
                                    "12": "8",
                                    "13": "0",
                                    "14": "304",
                                    "15": "3",
                                    "16": "3",
                                    "17": "240000",
                                    "18": "0",
                                    "19": "305",
                                    "20": "3"
                                },
                                {
                                    "0": "191",
                                    "1": "19",
                                    "2": "206",
                                    "3": "204",
                                    "4": "1500000",
                                    "5": "NULL",
                                    "6": "19",
                                    "7": "09509879142",
                                    "8": "dul70p8r",
                                    "9": "Erfan",
                                    "10": "Riyazati",
                                    "11": "pass",
                                    "12": "10",
                                    "13": "1",
                                    "14": "206",
                                    "15": "2",
                                    "16": "14",
                                    "17": "200000",
                                    "18": "0",
                                    "19": "204",
                                    "20": "2"
                                },
                                {
                                    "0": "192",
                                    "1": "19",
                                    "2": "207",
                                    "3": "205",
                                    "4": "1500000",
                                    "5": "NULL",
                                    "6": "19",
                                    "7": "09509879142",
                                    "8": "dul70p8r",
                                    "9": "Erfan",
                                    "10": "Riyazati",
                                    "11": "pass",
                                    "12": "10",
                                    "13": "1",
                                    "14": "207",
                                    "15": "2",
                                    "16": "14",
                                    "17": "210000",
                                    "18": "0",
                                    "19": "205",
                                    "20": "2"
                                }
                            ]
                        },
                        "text/html": [
                            "<table>",
                            "<tr><th>id</th><th>user_id</th><th>ins_id</th><th>inq_id</th><th>final_price</th><th>discount_code</th><th>id</th><th>phone</th><th>code</th><th>fname</th><th>lname</th><th>pass</th><th>invatation</th><th>is_logged_in</th><th>id</th><th>ins_type</th><th>company_id</th><th>price</th><th>discount</th><th>id</th><th>inq_type</th></tr>",
                            "<tr><td>111</td><td>11</td><td>101</td><td>101</td><td>1500000</td><td>NULL</td><td>11</td><td>09026743937</td><td>r00nh2lt</td><td>Ali</td><td>Karimi</td><td>pass</td><td>5</td><td>1</td><td>101</td><td>1</td><td>14</td><td>300000</td><td>0</td><td>101</td><td>1</td></tr>",
                            "<tr><td>112</td><td>11</td><td>201</td><td>201</td><td>1500000</td><td>NULL</td><td>11</td><td>09026743937</td><td>r00nh2lt</td><td>Ali</td><td>Karimi</td><td>pass</td><td>5</td><td>1</td><td>201</td><td>2</td><td>10</td><td>150000</td><td>10</td><td>201</td><td>2</td></tr>",
                            "<tr><td>113</td><td>11</td><td>401</td><td>401</td><td>1500000</td><td>NULL</td><td>11</td><td>09026743937</td><td>r00nh2lt</td><td>Ali</td><td>Karimi</td><td>pass</td><td>5</td><td>1</td><td>401</td><td>4</td><td>1</td><td>210000</td><td>0</td><td>401</td><td>4</td></tr>",
                            "<tr><td>121</td><td>12</td><td>102</td><td>102</td><td>1500000</td><td>NULL</td><td>12</td><td>09018110650</td><td>ygupw435</td><td>Mohammad</td><td>Amiri</td><td>pass</td><td>8</td><td>1</td><td>102</td><td>1</td><td>1</td><td>500000</td><td>0</td><td>102</td><td>1</td></tr>",
                            "<tr><td>122</td><td>12</td><td>301</td><td>301</td><td>1500000</td><td>NULL</td><td>12</td><td>09018110650</td><td>ygupw435</td><td>Mohammad</td><td>Amiri</td><td>pass</td><td>8</td><td>1</td><td>301</td><td>3</td><td>19</td><td>210000</td><td>0</td><td>301</td><td>3</td></tr>",
                            "<tr><td>123</td><td>12</td><td>402</td><td>402</td><td>1500000</td><td>NULL</td><td>12</td><td>09018110650</td><td>ygupw435</td><td>Mohammad</td><td>Amiri</td><td>pass</td><td>8</td><td>1</td><td>402</td><td>4</td><td>10</td><td>220000</td><td>0</td><td>402</td><td>4</td></tr>",
                            "<tr><td>131</td><td>13</td><td>101</td><td>103</td><td>1500000</td><td>NULL</td><td>13</td><td>09129615681</td><td>tmvx37i0</td><td>Mahda</td><td>Ashrafi</td><td>pass</td><td>7</td><td>1</td><td>101</td><td>1</td><td>14</td><td>300000</td><td>0</td><td>103</td><td>1</td></tr>",
                            "<tr><td>132</td><td>13</td><td>203</td><td>202</td><td>900000</td><td>NULL</td><td>13</td><td>09129615681</td><td>tmvx37i0</td><td>Mahda</td><td>Ashrafi</td><td>pass</td><td>7</td><td>1</td><td>203</td><td>2</td><td>10</td><td>170000</td><td>0</td><td>202</td><td>2</td></tr>",
                            "<tr><td>133</td><td>13</td><td>305</td><td>302</td><td>1500000</td><td>NULL</td><td>13</td><td>09129615681</td><td>tmvx37i0</td><td>Mahda</td><td>Ashrafi</td><td>pass</td><td>7</td><td>1</td><td>305</td><td>3</td><td>10</td><td>250000</td><td>0</td><td>302</td><td>3</td></tr>",
                            "<tr><td>134</td><td>13</td><td>404</td><td>403</td><td>1500000</td><td>NULL</td><td>13</td><td>09129615681</td><td>tmvx37i0</td><td>Mahda</td><td>Ashrafi</td><td>pass</td><td>7</td><td>1</td><td>404</td><td>4</td><td>14</td><td>240000</td><td>0</td><td>403</td><td>4</td></tr>",
                            "<tr><td>151</td><td>15</td><td>302</td><td>303</td><td>500000</td><td>NULL</td><td>15</td><td>09025807894</td><td>13czlwwg</td><td>Helma</td><td>Akhgar</td><td>pass</td><td>4</td><td>1</td><td>302</td><td>3</td><td>2</td><td>220000</td><td>0</td><td>303</td><td>3</td></tr>",
                            "<tr><td>152</td><td>15</td><td>302</td><td>306</td><td>500000</td><td>NULL</td><td>15</td><td>09025807894</td><td>13czlwwg</td><td>Helma</td><td>Akhgar</td><td>pass</td><td>4</td><td>1</td><td>302</td><td>3</td><td>2</td><td>220000</td><td>0</td><td>306</td><td>3</td></tr>",
                            "<tr><td>153</td><td>15</td><td>302</td><td>307</td><td>500000</td><td>NULL</td><td>15</td><td>09025807894</td><td>13czlwwg</td><td>Helma</td><td>Akhgar</td><td>pass</td><td>4</td><td>1</td><td>302</td><td>3</td><td>2</td><td>220000</td><td>0</td><td>307</td><td>3</td></tr>",
                            "<tr><td>161</td><td>16</td><td>303</td><td>304</td><td>500000</td><td>NULL</td><td>16</td><td>09374787030</td><td>pye761w9</td><td>Roqaye</td><td>Azizi</td><td>pass</td><td>7</td><td>1</td><td>303</td><td>3</td><td>5</td><td>230000</td><td>0</td><td>304</td><td>3</td></tr>",
                            "<tr><td>181</td><td>18</td><td>201</td><td>203</td><td>500000</td><td>NULL</td><td>18</td><td>09027061854</td><td>yca0mvyl</td><td>Nikan</td><td>Norafkan</td><td>pass</td><td>8</td><td>0</td><td>201</td><td>2</td><td>10</td><td>150000</td><td>10</td><td>203</td><td>2</td></tr>",
                            "<tr><td>182</td><td>18</td><td>304</td><td>305</td><td>500000</td><td>NULL</td><td>18</td><td>09027061854</td><td>yca0mvyl</td><td>Nikan</td><td>Norafkan</td><td>pass</td><td>8</td><td>0</td><td>304</td><td>3</td><td>3</td><td>240000</td><td>0</td><td>305</td><td>3</td></tr>",
                            "<tr><td>191</td><td>19</td><td>206</td><td>204</td><td>1500000</td><td>NULL</td><td>19</td><td>09509879142</td><td>dul70p8r</td><td>Erfan</td><td>Riyazati</td><td>pass</td><td>10</td><td>1</td><td>206</td><td>2</td><td>14</td><td>200000</td><td>0</td><td>204</td><td>2</td></tr>",
                            "<tr><td>192</td><td>19</td><td>207</td><td>205</td><td>1500000</td><td>NULL</td><td>19</td><td>09509879142</td><td>dul70p8r</td><td>Erfan</td><td>Riyazati</td><td>pass</td><td>10</td><td>1</td><td>207</td><td>2</td><td>14</td><td>210000</td><td>0</td><td>205</td><td>2</td></tr>",
                            "</table>"
                        ]
                    }
                }
            ],
            "execution_count": 114
        },
        {
            "cell_type": "code",
            "source": [
                "SELECT * FROM [User_]"
            ],
            "metadata": {
                "language": "sql",
                "azdata_cell_guid": "a5f5b78c-8b5a-45b9-9a54-81d33328006f"
            },
            "outputs": [
                {
                    "output_type": "display_data",
                    "data": {
                        "text/html": "(10 rows affected)"
                    },
                    "metadata": {}
                },
                {
                    "output_type": "display_data",
                    "data": {
                        "text/html": "Total execution time: 00:00:00.008"
                    },
                    "metadata": {}
                },
                {
                    "output_type": "execute_result",
                    "metadata": {},
                    "execution_count": 115,
                    "data": {
                        "application/vnd.dataresource+json": {
                            "schema": {
                                "fields": [
                                    {
                                        "name": "id"
                                    },
                                    {
                                        "name": "phone"
                                    },
                                    {
                                        "name": "code"
                                    },
                                    {
                                        "name": "fname"
                                    },
                                    {
                                        "name": "lname"
                                    },
                                    {
                                        "name": "pass"
                                    },
                                    {
                                        "name": "invatation"
                                    },
                                    {
                                        "name": "is_logged_in"
                                    }
                                ]
                            },
                            "data": [
                                {
                                    "0": "11",
                                    "1": "09026743937",
                                    "2": "r00nh2lt",
                                    "3": "Ali",
                                    "4": "Karimi",
                                    "5": "pass",
                                    "6": "5",
                                    "7": "1"
                                },
                                {
                                    "0": "12",
                                    "1": "09018110650",
                                    "2": "ygupw435",
                                    "3": "Mohammad",
                                    "4": "Amiri",
                                    "5": "pass",
                                    "6": "8",
                                    "7": "1"
                                },
                                {
                                    "0": "13",
                                    "1": "09129615681",
                                    "2": "tmvx37i0",
                                    "3": "Mahda",
                                    "4": "Ashrafi",
                                    "5": "pass",
                                    "6": "7",
                                    "7": "1"
                                },
                                {
                                    "0": "14",
                                    "1": "09371752150",
                                    "2": "qvri9z9g",
                                    "3": "Hossein",
                                    "4": "Mortazavi",
                                    "5": "pass",
                                    "6": "10",
                                    "7": "0"
                                },
                                {
                                    "0": "15",
                                    "1": "09025807894",
                                    "2": "13czlwwg",
                                    "3": "Helma",
                                    "4": "Akhgar",
                                    "5": "pass",
                                    "6": "4",
                                    "7": "1"
                                },
                                {
                                    "0": "16",
                                    "1": "09374787030",
                                    "2": "pye761w9",
                                    "3": "Roqaye",
                                    "4": "Azizi",
                                    "5": "pass",
                                    "6": "7",
                                    "7": "1"
                                },
                                {
                                    "0": "17",
                                    "1": "09308687695",
                                    "2": "934bo6me",
                                    "3": "Kasra",
                                    "4": "Siyavashpoor",
                                    "5": "pass",
                                    "6": "3",
                                    "7": "1"
                                },
                                {
                                    "0": "18",
                                    "1": "09027061854",
                                    "2": "yca0mvyl",
                                    "3": "Nikan",
                                    "4": "Norafkan",
                                    "5": "pass",
                                    "6": "8",
                                    "7": "0"
                                },
                                {
                                    "0": "19",
                                    "1": "09509879142",
                                    "2": "dul70p8r",
                                    "3": "Erfan",
                                    "4": "Riyazati",
                                    "5": "pass",
                                    "6": "10",
                                    "7": "1"
                                },
                                {
                                    "0": "20",
                                    "1": "09503672963",
                                    "2": "hr2kyfej",
                                    "3": "Reza",
                                    "4": "Najafi",
                                    "5": "pass",
                                    "6": "10",
                                    "7": "1"
                                }
                            ]
                        },
                        "text/html": [
                            "<table>",
                            "<tr><th>id</th><th>phone</th><th>code</th><th>fname</th><th>lname</th><th>pass</th><th>invatation</th><th>is_logged_in</th></tr>",
                            "<tr><td>11</td><td>09026743937</td><td>r00nh2lt</td><td>Ali</td><td>Karimi</td><td>pass</td><td>5</td><td>1</td></tr>",
                            "<tr><td>12</td><td>09018110650</td><td>ygupw435</td><td>Mohammad</td><td>Amiri</td><td>pass</td><td>8</td><td>1</td></tr>",
                            "<tr><td>13</td><td>09129615681</td><td>tmvx37i0</td><td>Mahda</td><td>Ashrafi</td><td>pass</td><td>7</td><td>1</td></tr>",
                            "<tr><td>14</td><td>09371752150</td><td>qvri9z9g</td><td>Hossein</td><td>Mortazavi</td><td>pass</td><td>10</td><td>0</td></tr>",
                            "<tr><td>15</td><td>09025807894</td><td>13czlwwg</td><td>Helma</td><td>Akhgar</td><td>pass</td><td>4</td><td>1</td></tr>",
                            "<tr><td>16</td><td>09374787030</td><td>pye761w9</td><td>Roqaye</td><td>Azizi</td><td>pass</td><td>7</td><td>1</td></tr>",
                            "<tr><td>17</td><td>09308687695</td><td>934bo6me</td><td>Kasra</td><td>Siyavashpoor</td><td>pass</td><td>3</td><td>1</td></tr>",
                            "<tr><td>18</td><td>09027061854</td><td>yca0mvyl</td><td>Nikan</td><td>Norafkan</td><td>pass</td><td>8</td><td>0</td></tr>",
                            "<tr><td>19</td><td>09509879142</td><td>dul70p8r</td><td>Erfan</td><td>Riyazati</td><td>pass</td><td>10</td><td>1</td></tr>",
                            "<tr><td>20</td><td>09503672963</td><td>hr2kyfej</td><td>Reza</td><td>Najafi</td><td>pass</td><td>10</td><td>1</td></tr>",
                            "</table>"
                        ]
                    }
                }
            ],
            "execution_count": 115
        },
        {
            "cell_type": "code",
            "source": [
                "-- user, count buy\n",
                "SELECT u.id, COUNT(b.id)\n",
                "FROM [User_] u LEFT OUTER JOIN Buy b ON (b.user_id = u.id) \n",
                "GROUP BY u.id\n",
                "\n",
                "SELECT health_inq_id, Member.id, BaseIns.insurance, AgeRange.range, head_id, Relation.relation\n",
                "FROM [Member]\n",
                "    INNER JOIN [BaseIns] ON ([Member].[base_ins] = [BaseIns].[id])\n",
                "    INNER JOIN [AgeRange] ON ([Member].[age_range] = [AgeRange].[id])\n",
                "    INNER JOIN [Relation] ON ([Member].[relation] = [Relation].[id]);\n",
                "\n",
                "SELECT\n",
                "    [Property_inq].[id],\n",
                "    [inq_id],\n",
                "    [Province].[name],\n",
                "    [City].[name],\n",
                "    [StructureType].[type],\n",
                "    [uinit_count],\n",
                "    [BuildingMaterial].[material],\n",
                "    [life_building],\n",
                "    [meterage],\n",
                "    [cost_per_meter],\n",
                "    [appliance_price]\n",
                "FROM\n",
                "    [Property_inq]\n",
                "    INNER JOIN [Province] ON ([province_id] = [Province].[id])\n",
                "    INNER JOIN [City] ON ([city_id] = [City].[id])\n",
                "    INNER JOIN [StructureType] ON ([structure_type] = [StructureType].[id])\n",
                "    INNER JOIN [BuildingMaterial] ON ([building_material] = [BuildingMaterial].[id]);\n",
                ""
            ],
            "metadata": {
                "language": "sql",
                "azdata_cell_guid": "6086ec86-799d-4669-9ab9-1001a114f7d2"
            },
            "outputs": [
                {
                    "output_type": "display_data",
                    "data": {
                        "text/html": "(10 rows affected)"
                    },
                    "metadata": {}
                },
                {
                    "output_type": "display_data",
                    "data": {
                        "text/html": "(7 rows affected)"
                    },
                    "metadata": {}
                },
                {
                    "output_type": "display_data",
                    "data": {
                        "text/html": "(11 rows affected)"
                    },
                    "metadata": {}
                },
                {
                    "output_type": "display_data",
                    "data": {
                        "text/html": "Total execution time: 00:00:00.046"
                    },
                    "metadata": {}
                },
                {
                    "output_type": "execute_result",
                    "metadata": {},
                    "execution_count": 116,
                    "data": {
                        "application/vnd.dataresource+json": {
                            "schema": {
                                "fields": [
                                    {
                                        "name": "id"
                                    },
                                    {
                                        "name": "(No column name)"
                                    }
                                ]
                            },
                            "data": [
                                {
                                    "0": "11",
                                    "1": "3"
                                },
                                {
                                    "0": "12",
                                    "1": "3"
                                },
                                {
                                    "0": "13",
                                    "1": "4"
                                },
                                {
                                    "0": "14",
                                    "1": "0"
                                },
                                {
                                    "0": "15",
                                    "1": "3"
                                },
                                {
                                    "0": "16",
                                    "1": "1"
                                },
                                {
                                    "0": "17",
                                    "1": "0"
                                },
                                {
                                    "0": "18",
                                    "1": "2"
                                },
                                {
                                    "0": "19",
                                    "1": "2"
                                },
                                {
                                    "0": "20",
                                    "1": "0"
                                }
                            ]
                        },
                        "text/html": [
                            "<table>",
                            "<tr><th>id</th><th>(No column name)</th></tr>",
                            "<tr><td>11</td><td>3</td></tr>",
                            "<tr><td>12</td><td>3</td></tr>",
                            "<tr><td>13</td><td>4</td></tr>",
                            "<tr><td>14</td><td>0</td></tr>",
                            "<tr><td>15</td><td>3</td></tr>",
                            "<tr><td>16</td><td>1</td></tr>",
                            "<tr><td>17</td><td>0</td></tr>",
                            "<tr><td>18</td><td>2</td></tr>",
                            "<tr><td>19</td><td>2</td></tr>",
                            "<tr><td>20</td><td>0</td></tr>",
                            "</table>"
                        ]
                    }
                },
                {
                    "output_type": "execute_result",
                    "metadata": {},
                    "execution_count": 116,
                    "data": {
                        "application/vnd.dataresource+json": {
                            "schema": {
                                "fields": [
                                    {
                                        "name": "health_inq_id"
                                    },
                                    {
                                        "name": "id"
                                    },
                                    {
                                        "name": "insurance"
                                    },
                                    {
                                        "name": "range"
                                    },
                                    {
                                        "name": "head_id"
                                    },
                                    {
                                        "name": "relation"
                                    }
                                ]
                            },
                            "data": [
                                {
                                    "0": "203",
                                    "1": "2031",
                                    "2": "Khadamat Darman",
                                    "3": "46 to 50",
                                    "4": "NULL",
                                    "5": "Head"
                                },
                                {
                                    "0": "203",
                                    "1": "2032",
                                    "2": "Salamat Iranian",
                                    "3": "46 to 50",
                                    "4": "2031",
                                    "5": "Hamsar"
                                },
                                {
                                    "0": "203",
                                    "1": "2033",
                                    "2": "Salamat Iranian",
                                    "3": "5 to 15",
                                    "4": "2031",
                                    "5": "Farzand dokhtar"
                                },
                                {
                                    "0": "204",
                                    "1": "2041",
                                    "2": "No Base Insurance",
                                    "3": "51 to 60",
                                    "4": "NULL",
                                    "5": "Head"
                                },
                                {
                                    "0": "204",
                                    "1": "2042",
                                    "2": "No Base Insurance",
                                    "3": "46 to 50",
                                    "4": "2041",
                                    "5": "Hamsar"
                                },
                                {
                                    "0": "204",
                                    "1": "2043",
                                    "2": "No Base Insurance",
                                    "3": "5 to 15",
                                    "4": "2041",
                                    "5": "Farzand dokhtar"
                                },
                                {
                                    "0": "204",
                                    "1": "2044",
                                    "2": "No Base Insurance",
                                    "3": "5 to 15",
                                    "4": "2041",
                                    "5": "Farzand pesar"
                                }
                            ]
                        },
                        "text/html": [
                            "<table>",
                            "<tr><th>health_inq_id</th><th>id</th><th>insurance</th><th>range</th><th>head_id</th><th>relation</th></tr>",
                            "<tr><td>203</td><td>2031</td><td>Khadamat Darman</td><td>46 to 50</td><td>NULL</td><td>Head</td></tr>",
                            "<tr><td>203</td><td>2032</td><td>Salamat Iranian</td><td>46 to 50</td><td>2031</td><td>Hamsar</td></tr>",
                            "<tr><td>203</td><td>2033</td><td>Salamat Iranian</td><td>5 to 15</td><td>2031</td><td>Farzand dokhtar</td></tr>",
                            "<tr><td>204</td><td>2041</td><td>No Base Insurance</td><td>51 to 60</td><td>NULL</td><td>Head</td></tr>",
                            "<tr><td>204</td><td>2042</td><td>No Base Insurance</td><td>46 to 50</td><td>2041</td><td>Hamsar</td></tr>",
                            "<tr><td>204</td><td>2043</td><td>No Base Insurance</td><td>5 to 15</td><td>2041</td><td>Farzand dokhtar</td></tr>",
                            "<tr><td>204</td><td>2044</td><td>No Base Insurance</td><td>5 to 15</td><td>2041</td><td>Farzand pesar</td></tr>",
                            "</table>"
                        ]
                    }
                },
                {
                    "output_type": "execute_result",
                    "metadata": {},
                    "execution_count": 116,
                    "data": {
                        "application/vnd.dataresource+json": {
                            "schema": {
                                "fields": [
                                    {
                                        "name": "id"
                                    },
                                    {
                                        "name": "inq_id"
                                    },
                                    {
                                        "name": "name"
                                    },
                                    {
                                        "name": "name"
                                    },
                                    {
                                        "name": "type"
                                    },
                                    {
                                        "name": "uinit_count"
                                    },
                                    {
                                        "name": "material"
                                    },
                                    {
                                        "name": "life_building"
                                    },
                                    {
                                        "name": "meterage"
                                    },
                                    {
                                        "name": "cost_per_meter"
                                    },
                                    {
                                        "name": "appliance_price"
                                    }
                                ]
                            },
                            "data": [
                                {
                                    "0": "301",
                                    "1": "301",
                                    "2": "khorasan Razavi",
                                    "3": "Neyshabor",
                                    "4": "aparteman ya mojtama",
                                    "5": "11",
                                    "6": "Betoni",
                                    "7": "8",
                                    "8": "800",
                                    "9": "10",
                                    "10": "100000000"
                                },
                                {
                                    "0": "302",
                                    "1": "302",
                                    "2": "Tehran",
                                    "3": "Tehran",
                                    "4": "aparteman ya mojtama",
                                    "5": "6",
                                    "6": "Felezi",
                                    "7": "30",
                                    "8": "900",
                                    "9": "7",
                                    "10": "210000000"
                                },
                                {
                                    "0": "303",
                                    "1": "303",
                                    "2": "khorasan Razavi",
                                    "3": "Sabzevar",
                                    "4": "1 vahed dar aparteman",
                                    "5": "1",
                                    "6": "Felezi",
                                    "7": "30",
                                    "8": "900",
                                    "9": "7",
                                    "10": "250000000"
                                },
                                {
                                    "0": "304",
                                    "1": "304",
                                    "2": "Tehran",
                                    "3": "Tehran",
                                    "4": "aparteman ya mojtama",
                                    "5": "15",
                                    "6": "Felezi",
                                    "7": "30",
                                    "8": "900",
                                    "9": "7",
                                    "10": "350000000"
                                },
                                {
                                    "0": "305",
                                    "1": "305",
                                    "2": "Tehran",
                                    "3": "Varamin",
                                    "4": "1 vahed dar aparteman",
                                    "5": "1",
                                    "6": "Felezi",
                                    "7": "30",
                                    "8": "900",
                                    "9": "7",
                                    "10": "100000000"
                                },
                                {
                                    "0": "306",
                                    "1": "306",
                                    "2": "Tehran",
                                    "3": "Varamin",
                                    "4": "1 sakhteman vilayee",
                                    "5": "1",
                                    "6": "Felezi",
                                    "7": "30",
                                    "8": "900",
                                    "9": "7",
                                    "10": "100000000"
                                },
                                {
                                    "0": "307",
                                    "1": "307",
                                    "2": "Tehran",
                                    "3": "Varamin",
                                    "4": "aparteman ya mojtama",
                                    "5": "6",
                                    "6": "Felezi",
                                    "7": "30",
                                    "8": "900",
                                    "9": "7",
                                    "10": "100000000"
                                },
                                {
                                    "0": "401",
                                    "1": "401",
                                    "2": "khorasan Razavi",
                                    "3": "Sabzevar",
                                    "4": "1 vahed dar aparteman",
                                    "5": "1",
                                    "6": "Ajori",
                                    "7": "0",
                                    "8": "150",
                                    "9": "5",
                                    "10": "500000000"
                                },
                                {
                                    "0": "402",
                                    "1": "402",
                                    "2": "khorasan Shomali",
                                    "3": "Garme",
                                    "4": "1 sakhteman vilayee",
                                    "5": "1",
                                    "6": "Felezi",
                                    "7": "15",
                                    "8": "300",
                                    "9": "6",
                                    "10": "200000000"
                                },
                                {
                                    "0": "403",
                                    "1": "403",
                                    "2": "Alborz",
                                    "3": "Karaj",
                                    "4": "1 sakhteman vilayee",
                                    "5": "6",
                                    "6": "Betoni",
                                    "7": "10",
                                    "8": "500",
                                    "9": "3",
                                    "10": "150000000"
                                },
                                {
                                    "0": "404",
                                    "1": "404",
                                    "2": "khorasan Razavi",
                                    "3": "Mashhad",
                                    "4": "1 vahed dar aparteman",
                                    "5": "1",
                                    "6": "Ajori",
                                    "7": "0",
                                    "8": "200",
                                    "9": "5",
                                    "10": "500000000"
                                }
                            ]
                        },
                        "text/html": [
                            "<table>",
                            "<tr><th>id</th><th>inq_id</th><th>name</th><th>name</th><th>type</th><th>uinit_count</th><th>material</th><th>life_building</th><th>meterage</th><th>cost_per_meter</th><th>appliance_price</th></tr>",
                            "<tr><td>301</td><td>301</td><td>khorasan Razavi</td><td>Neyshabor</td><td>aparteman ya mojtama</td><td>11</td><td>Betoni</td><td>8</td><td>800</td><td>10</td><td>100000000</td></tr>",
                            "<tr><td>302</td><td>302</td><td>Tehran</td><td>Tehran</td><td>aparteman ya mojtama</td><td>6</td><td>Felezi</td><td>30</td><td>900</td><td>7</td><td>210000000</td></tr>",
                            "<tr><td>303</td><td>303</td><td>khorasan Razavi</td><td>Sabzevar</td><td>1 vahed dar aparteman</td><td>1</td><td>Felezi</td><td>30</td><td>900</td><td>7</td><td>250000000</td></tr>",
                            "<tr><td>304</td><td>304</td><td>Tehran</td><td>Tehran</td><td>aparteman ya mojtama</td><td>15</td><td>Felezi</td><td>30</td><td>900</td><td>7</td><td>350000000</td></tr>",
                            "<tr><td>305</td><td>305</td><td>Tehran</td><td>Varamin</td><td>1 vahed dar aparteman</td><td>1</td><td>Felezi</td><td>30</td><td>900</td><td>7</td><td>100000000</td></tr>",
                            "<tr><td>306</td><td>306</td><td>Tehran</td><td>Varamin</td><td>1 sakhteman vilayee</td><td>1</td><td>Felezi</td><td>30</td><td>900</td><td>7</td><td>100000000</td></tr>",
                            "<tr><td>307</td><td>307</td><td>Tehran</td><td>Varamin</td><td>aparteman ya mojtama</td><td>6</td><td>Felezi</td><td>30</td><td>900</td><td>7</td><td>100000000</td></tr>",
                            "<tr><td>401</td><td>401</td><td>khorasan Razavi</td><td>Sabzevar</td><td>1 vahed dar aparteman</td><td>1</td><td>Ajori</td><td>0</td><td>150</td><td>5</td><td>500000000</td></tr>",
                            "<tr><td>402</td><td>402</td><td>khorasan Shomali</td><td>Garme</td><td>1 sakhteman vilayee</td><td>1</td><td>Felezi</td><td>15</td><td>300</td><td>6</td><td>200000000</td></tr>",
                            "<tr><td>403</td><td>403</td><td>Alborz</td><td>Karaj</td><td>1 sakhteman vilayee</td><td>6</td><td>Betoni</td><td>10</td><td>500</td><td>3</td><td>150000000</td></tr>",
                            "<tr><td>404</td><td>404</td><td>khorasan Razavi</td><td>Mashhad</td><td>1 vahed dar aparteman</td><td>1</td><td>Ajori</td><td>0</td><td>200</td><td>5</td><td>500000000</td></tr>",
                            "</table>"
                        ]
                    }
                }
            ],
            "execution_count": 116
        },
        {
            "cell_type": "code",
            "source": [
                "-- SELECT * FROM [Province];\n",
                "-- SELECT * FROM [City];\n",
                "-- SELECT * FROM [Type];\n",
                "-- SELECT * FROM [User_];\n",
                "-- SELECT * FROM [Reminder];\n",
                "-- SELECT * FROM [Inqury];\n",
                "-- SELECT * FROM [Life_inq];\n",
                "-- SELECT * FROM [Health_inq];\n",
                "-- SELECT * FROM [BaseIns];\n",
                "-- SELECT * FROM [Relation];\n",
                "-- SELECT * FROM [AgeRange];\n",
                "-- SELECT * FROM [Member];\n",
                "-- SELECT * FROM [StructureType];\n",
                "-- SELECT * FROM [BuildingMaterial];\n",
                "-- SELECT * FROM [Property_inq];\n",
                "-- SELECT * FROM [Company];\n",
                "-- SELECT * FROM [Insurance];\n",
                "-- SELECT * FROM [Life_insurance];\n",
                "-- SELECT * FROM [Health_insurance];\n",
                "-- SELECT * FROM [Property_ins];\n",
                "-- SELECT * FROM [Buy];"
            ],
            "metadata": {
                "azdata_cell_guid": "249965a6-8a0b-4d66-8a68-58e85f69b37b",
                "language": "sql"
            },
            "outputs": [
{
    "output_type": "display_data",
    "data": {
        "text/html": "Commands completed successfully."
    },
    "metadata": {}
}, {
    "output_type": "display_data",
    "data": {
        "text/html": "Total execution time: 00:00:00.004"
    },
    "metadata": {}
}
],
            "execution_count": 117
        }
    ]
}