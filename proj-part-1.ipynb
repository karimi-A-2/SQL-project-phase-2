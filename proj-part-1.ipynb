{
    "metadata": {
        "kernelspec": {
            "name": "SQL",
            "display_name": "SQL",
            "language": "sql"
        },
        "language_info": {
            "name": "sql",
            "version": ""
        }
    },
    "nbformat_minor": 2,
    "nbformat": 4,
    "cells": [
        {
            "cell_type": "code",
            "source": [
                "-- 1\n",
                "INSERT INTO [User_]\n",
                "( [id], [phone], [code], [fname], [lname], [pass], [invatation], [is_logged_in])\n",
                "VALUES\n",
                "(1001, '09022226700', 'b00003ki', 'Zohre', 'Rasouli', 'pass3', 8, 1),\n",
                "(1002, '09022221155', 'c0000ddd', 'Elham', 'Niyayeshi', 'pass4', 4, 1),\n",
                "(1003, '09022222233', 'd0000eee', 'Reza', 'Maleki', 'pass5', 9, 1),\n",
                "(1004, '09022220044', 'f0000kkk', 'Morteza', 'Molayee', 'pass6', 10, 1),\n",
                "(1005, '09022220022', 'e0000jjj', 'Omid', 'Ahmadi', 'pass7', 10, 1),\n",
                "(1006, '09022224466', 's0000bbb', 'Mohammad', 'Sajjadi', 'pass8', 10, 1)\n",
                "\n",
                "SELECT * FROM [User_];\n",
                "GO"
            ],
            "metadata": {
                "azdata_cell_guid": "80367af5-1689-480f-a3cc-66b80b4e692e",
                "language": "sql"
            },
            "outputs": [
{
    "output_type": "display_data",
    "data": {
        "text/html": "(6 rows affected)"
    },
    "metadata": {}
}, {
    "output_type": "display_data",
    "data": {
        "text/html": "(16 rows affected)"
    },
    "metadata": {}
}, {
    "output_type": "display_data",
    "data": {
        "text/html": "Total execution time: 00:00:00.037"
    },
    "metadata": {}
}, {
    "output_type": "execute_result",
    "metadata": {},
    "execution_count": 57,
    "data": {
        "application/vnd.dataresource+json": {
            "schema": {
                "fields": [
                    {
                        "name": "id"
                    },
                    {
                        "name": "phone"
                    },
                    {
                        "name": "code"
                    },
                    {
                        "name": "fname"
                    },
                    {
                        "name": "lname"
                    },
                    {
                        "name": "pass"
                    },
                    {
                        "name": "invatation"
                    },
                    {
                        "name": "is_logged_in"
                    }
                ]
            },
            "data": [
                {
                    "0": "11",
                    "1": "09026743937",
                    "2": "r00nh2lt",
                    "3": "Ali",
                    "4": "Karimi",
                    "5": "pass",
                    "6": "5",
                    "7": "1"
                },
                {
                    "0": "12",
                    "1": "09018110650",
                    "2": "ygupw435",
                    "3": "Mohammad",
                    "4": "Amiri",
                    "5": "pass",
                    "6": "8",
                    "7": "1"
                },
                {
                    "0": "13",
                    "1": "09129615681",
                    "2": "tmvx37i0",
                    "3": "Mahda",
                    "4": "Ashrafi",
                    "5": "pass",
                    "6": "7",
                    "7": "1"
                },
                {
                    "0": "14",
                    "1": "09371752150",
                    "2": "qvri9z9g",
                    "3": "Hossein",
                    "4": "Mortazavi",
                    "5": "pass",
                    "6": "10",
                    "7": "0"
                },
                {
                    "0": "15",
                    "1": "09025807894",
                    "2": "13czlwwg",
                    "3": "Helma",
                    "4": "Akhgar",
                    "5": "pass",
                    "6": "4",
                    "7": "1"
                },
                {
                    "0": "16",
                    "1": "09374787030",
                    "2": "pye761w9",
                    "3": "Roqaye",
                    "4": "Azizi",
                    "5": "pass",
                    "6": "7",
                    "7": "1"
                },
                {
                    "0": "17",
                    "1": "09308687695",
                    "2": "934bo6me",
                    "3": "Kasra",
                    "4": "Siyavashpoor",
                    "5": "pass",
                    "6": "3",
                    "7": "1"
                },
                {
                    "0": "18",
                    "1": "09027061854",
                    "2": "yca0mvyl",
                    "3": "Nikan",
                    "4": "Norafkan",
                    "5": "pass",
                    "6": "8",
                    "7": "0"
                },
                {
                    "0": "19",
                    "1": "09509879142",
                    "2": "dul70p8r",
                    "3": "Erfan",
                    "4": "Riyazati",
                    "5": "pass",
                    "6": "10",
                    "7": "1"
                },
                {
                    "0": "20",
                    "1": "09503672963",
                    "2": "hr2kyfej",
                    "3": "Reza",
                    "4": "Najafi",
                    "5": "pass",
                    "6": "10",
                    "7": "1"
                },
                {
                    "0": "1001",
                    "1": "09022226700",
                    "2": "b00003ki",
                    "3": "Zohre",
                    "4": "Rasouli",
                    "5": "pass3",
                    "6": "8",
                    "7": "1"
                },
                {
                    "0": "1002",
                    "1": "09022221155",
                    "2": "c0000ddd",
                    "3": "Elham",
                    "4": "Niyayeshi",
                    "5": "pass4",
                    "6": "4",
                    "7": "1"
                },
                {
                    "0": "1003",
                    "1": "09022222233",
                    "2": "d0000eee",
                    "3": "Reza",
                    "4": "Maleki",
                    "5": "pass5",
                    "6": "9",
                    "7": "1"
                },
                {
                    "0": "1004",
                    "1": "09022220044",
                    "2": "f0000kkk",
                    "3": "Morteza",
                    "4": "Molayee",
                    "5": "pass6",
                    "6": "10",
                    "7": "1"
                },
                {
                    "0": "1005",
                    "1": "09022220022",
                    "2": "e0000jjj",
                    "3": "Omid",
                    "4": "Ahmadi",
                    "5": "pass7",
                    "6": "10",
                    "7": "1"
                },
                {
                    "0": "1006",
                    "1": "09022224466",
                    "2": "s0000bbb",
                    "3": "Mohammad",
                    "4": "Sajjadi",
                    "5": "pass8",
                    "6": "10",
                    "7": "1"
                }
            ]
        },
        "text/html": [
            "<table>",
            "<tr><th>id</th><th>phone</th><th>code</th><th>fname</th><th>lname</th><th>pass</th><th>invatation</th><th>is_logged_in</th></tr>",
            "<tr><td>11</td><td>09026743937</td><td>r00nh2lt</td><td>Ali</td><td>Karimi</td><td>pass</td><td>5</td><td>1</td></tr>",
            "<tr><td>12</td><td>09018110650</td><td>ygupw435</td><td>Mohammad</td><td>Amiri</td><td>pass</td><td>8</td><td>1</td></tr>",
            "<tr><td>13</td><td>09129615681</td><td>tmvx37i0</td><td>Mahda</td><td>Ashrafi</td><td>pass</td><td>7</td><td>1</td></tr>",
            "<tr><td>14</td><td>09371752150</td><td>qvri9z9g</td><td>Hossein</td><td>Mortazavi</td><td>pass</td><td>10</td><td>0</td></tr>",
            "<tr><td>15</td><td>09025807894</td><td>13czlwwg</td><td>Helma</td><td>Akhgar</td><td>pass</td><td>4</td><td>1</td></tr>",
            "<tr><td>16</td><td>09374787030</td><td>pye761w9</td><td>Roqaye</td><td>Azizi</td><td>pass</td><td>7</td><td>1</td></tr>",
            "<tr><td>17</td><td>09308687695</td><td>934bo6me</td><td>Kasra</td><td>Siyavashpoor</td><td>pass</td><td>3</td><td>1</td></tr>",
            "<tr><td>18</td><td>09027061854</td><td>yca0mvyl</td><td>Nikan</td><td>Norafkan</td><td>pass</td><td>8</td><td>0</td></tr>",
            "<tr><td>19</td><td>09509879142</td><td>dul70p8r</td><td>Erfan</td><td>Riyazati</td><td>pass</td><td>10</td><td>1</td></tr>",
            "<tr><td>20</td><td>09503672963</td><td>hr2kyfej</td><td>Reza</td><td>Najafi</td><td>pass</td><td>10</td><td>1</td></tr>",
            "<tr><td>1001</td><td>09022226700</td><td>b00003ki</td><td>Zohre</td><td>Rasouli</td><td>pass3</td><td>8</td><td>1</td></tr>",
            "<tr><td>1002</td><td>09022221155</td><td>c0000ddd</td><td>Elham</td><td>Niyayeshi</td><td>pass4</td><td>4</td><td>1</td></tr>",
            "<tr><td>1003</td><td>09022222233</td><td>d0000eee</td><td>Reza</td><td>Maleki</td><td>pass5</td><td>9</td><td>1</td></tr>",
            "<tr><td>1004</td><td>09022220044</td><td>f0000kkk</td><td>Morteza</td><td>Molayee</td><td>pass6</td><td>10</td><td>1</td></tr>",
            "<tr><td>1005</td><td>09022220022</td><td>e0000jjj</td><td>Omid</td><td>Ahmadi</td><td>pass7</td><td>10</td><td>1</td></tr>",
            "<tr><td>1006</td><td>09022224466</td><td>s0000bbb</td><td>Mohammad</td><td>Sajjadi</td><td>pass8</td><td>10</td><td>1</td></tr>",
            "</table>"
        ]
    }
}
],
            "execution_count": 57
        },
        {
            "cell_type": "code",
            "source": [
                "-- 2\n",
                "INSERT INTO [Insurance]\n",
                "( [id], [ins_type], [company_id], [price], [discount])\n",
                "VALUES\n",
                "(451, 4, 1, 210 * 1000, 0),\n",
                "(452, 4, 10, 220 * 1000, 0),\n",
                "(453, 4, 3, 230 * 1000, 0),\n",
                "(454, 4, 14, 240 * 1000, 0),\n",
                "(455, 4, 20, 250 * 1000, 0)\n",
                "GO\n",
                "\n",
                "INSERT INTO [Property_ins]\n",
                "( [id], [ins_id], [rating], [ability], [satisfaction], [branch])\n",
                "SELECT *\n",
                "FROM (VALUES\n",
                "    (451, 451, 4.2, 5, 5.0, 10),\n",
                "    (452, 452, 4.2, 5, 4.0, 30),\n",
                "    (453, 453, 3.9, 5, 4.1, 7),\n",
                "    (454, 454, 4.0, 5, 4.3, 5),\n",
                "    (455, 455, 3.7, 4, 3.0, 30)\n",
                ") AS Temp ( [id], [ins_id], [rating], [ability], [satisfaction], [branch])\n",
                "ORDER BY [rating]\n",
                "GO\n",
                "\n",
                "SELECT [Insurance].[id], [Type].[type], [Company].[name], [price], [discount], [rating], [ability], [satisfaction], [branch]\n",
                "FROM [Property_ins]\n",
                "    INNER JOIN [Insurance] ON ([Insurance].id = [Property_ins].ins_id)\n",
                "    INNER JOIN [Type] ON ([Insurance].ins_type = [Type].id)\n",
                "    INNER JOIN [Company] ON ([Insurance].company_id = [Company].id)\n",
                "GO"
            ],
            "metadata": {
                "language": "sql",
                "azdata_cell_guid": "e07d9327-d86a-49bf-a103-48001e6ec7ce"
            },
            "outputs": [
                {
                    "output_type": "display_data",
                    "data": {
                        "text/html": "(5 rows affected)"
                    },
                    "metadata": {}
                },
                {
                    "output_type": "display_data",
                    "data": {
                        "text/html": "(5 rows affected)"
                    },
                    "metadata": {}
                },
                {
                    "output_type": "display_data",
                    "data": {
                        "text/html": "Total execution time: 00:00:00.026"
                    },
                    "metadata": {}
                }
            ],
            "execution_count": 37
        },
        {
            "cell_type": "code",
            "source": [
                "-- 3\n",
                "DECLARE @comp_id AS INT = (SELECT id FROM Company WHERE Company.name = 'Pasargad')\n",
                "PRINT @comp_id\n",
                "\n",
                "INSERT INTO [Insurance]\n",
                "( [id], [ins_type], [company_id], [price], [discount])\n",
                "VALUES\n",
                "(351, 3, @comp_id, 210 * 1000, 0)\n",
                "GO\n",
                "\n",
                "INSERT INTO [Property_ins]\n",
                "( [id], [ins_id], [rating], [ability], [satisfaction], [branch])\n",
                "VALUES\n",
                "(351, 351, 4.2, 5, 5.0, 29)\n",
                "GO\n",
                "\n",
                "SELECT [Insurance].[id], [Type].[type], [Company].[name], [price], [discount], [rating], [ability], [satisfaction], [branch]\n",
                "FROM [Property_ins]\n",
                "    INNER JOIN [Insurance] ON ([Insurance].id = [Property_ins].ins_id)\n",
                "    INNER JOIN [Type] ON ([Insurance].ins_type = [Type].id)\n",
                "    INNER JOIN [Company] ON ([Insurance].company_id = [Company].id)\n",
                "GO"
            ],
            "metadata": {
                "language": "sql",
                "azdata_cell_guid": "bb598873-7063-4550-a301-8945d73a0b16"
            },
            "outputs": [
                {
                    "output_type": "display_data",
                    "data": {
                        "text/html": "8"
                    },
                    "metadata": {}
                },
                {
                    "output_type": "display_data",
                    "data": {
                        "text/html": "(1 row affected)"
                    },
                    "metadata": {}
                },
                {
                    "output_type": "display_data",
                    "data": {
                        "text/html": "(1 row affected)"
                    },
                    "metadata": {}
                },
                {
                    "output_type": "display_data",
                    "data": {
                        "text/html": "Total execution time: 00:00:00.043"
                    },
                    "metadata": {}
                }
            ],
            "execution_count": 38
        },
        {
            "cell_type": "code",
            "source": [
                "-- 4\n",
                "DECLARE @user_id AS INT = (SELECT id FROM [User_] WHERE [User_].fname = 'Mohammad' AND [User_].lname = 'Sajjadi')\n",
                "PRINT @user_id\n",
                "PRINT (@user_id * 10 + 1)\n",
                "\n",
                "INSERT INTO [Inqury]\n",
                "( [id], [inq_type])\n",
                "VALUES\n",
                "(251, 2)\n",
                "\n",
                "INSERT INTO [Health_inq]\n",
                "( [id], [inq_id], [is_family], [count_of_memeber])\n",
                "VALUES\n",
                "(251, 251, 0, 2)\n",
                "\n",
                "INSERT INTO [Member]\n",
                "( [id], [health_inq_id], [base_ins], [age_range], [head_id], [relation])\n",
                "VALUES\n",
                "(2511, 251, 2, 2, NULL, NULL),\n",
                "(2512, 251, 3, 2, NULL, NULL)\n",
                "\n",
                "INSERT INTO [Buy]\n",
                "( [id], [user_id], [ins_id], [inq_id], [final_price], [discount_code] )\n",
                "VALUES\n",
                "((@user_id * 10 + 1), @user_id, 203, 251, (1500 * 1000), NULL)\n",
                "GO"
            ],
            "metadata": {
                "language": "sql",
                "azdata_cell_guid": "241fb65f-030e-4a91-8844-eaa84989707d"
            },
            "outputs": [
                {
                    "output_type": "display_data",
                    "data": {
                        "text/html": "1006"
                    },
                    "metadata": {}
                },
                {
                    "output_type": "display_data",
                    "data": {
                        "text/html": "10061"
                    },
                    "metadata": {}
                },
                {
                    "output_type": "display_data",
                    "data": {
                        "text/html": "(1 row affected)"
                    },
                    "metadata": {}
                },
                {
                    "output_type": "display_data",
                    "data": {
                        "text/html": "(1 row affected)"
                    },
                    "metadata": {}
                },
                {
                    "output_type": "display_data",
                    "data": {
                        "text/html": "(2 rows affected)"
                    },
                    "metadata": {}
                },
                {
                    "output_type": "display_data",
                    "data": {
                        "text/html": "(1 row affected)"
                    },
                    "metadata": {}
                },
                {
                    "output_type": "display_data",
                    "data": {
                        "text/html": "Total execution time: 00:00:00.055"
                    },
                    "metadata": {}
                }
            ],
            "execution_count": 39
        },
        {
            "cell_type": "code",
            "source": [
                "-- 5\n",
                "DECLARE @reza_maleki_code AS NVARCHAR(8) = ( SELECT code FROM [User_]  WHERE [User_].fname = 'Reza' AND [User_].lname = 'Maleki')\n",
                "PRINT @reza_maleki_code\n",
                "\n",
                "DECLARE @omid_ahmadi_id AS INT =  (SELECT id FROM [User_] WHERE [User_].fname = 'Omid' AND [User_].lname = 'Ahmadi');\n",
                "PRINT @omid_ahmadi_id\n",
                "\n",
                "INSERT INTO [Inqury]\n",
                "( [id], [inq_type])\n",
                "VALUES\n",
                "(151, 1)\n",
                "INSERT INTO [Life_inq]\n",
                "( [id], [inq_id], [birth_date], [contract_period], [payment_way], [monthly_payment], [premiums_increase], [capital_increase], [death_coefficient])\n",
                "VALUES\n",
                "(151, 151, '1400-10-10', 5, 3, (50 * 1000), 25, 10, 20)\n",
                "\n",
                "INSERT INTO [Buy]\n",
                "( [id], [user_id], [ins_id], [inq_id], [final_price], [discount_code] )\n",
                "VALUES\n",
                "((@omid_ahmadi_id * 10 + 1), @omid_ahmadi_id, 101, 151, (1500 * 1000), @reza_maleki_code);\n",
                "SELECT * FROM [Buy];\n",
                "\n",
                "SELECT * FROM [User_] WHERE [User_].fname = 'Reza' AND [User_].lname = 'Maleki';\n",
                "\n",
                "UPDATE [User_]\n",
                "SET invatation = invatation - 1\n",
                "WHERE [User_].fname = 'Reza' AND [User_].lname = 'Maleki';\n",
                "\n",
                "SELECT * FROM [User_] WHERE [User_].fname = 'Reza' AND [User_].lname = 'Maleki';\n",
                "GO"
            ],
            "metadata": {
                "language": "sql",
                "azdata_cell_guid": "a7c05e5b-4685-4843-9b79-c09e56e8f31f"
            },
            "outputs": [
                {
                    "output_type": "display_data",
                    "data": {
                        "text/html": "d0000eee"
                    },
                    "metadata": {}
                },
                {
                    "output_type": "display_data",
                    "data": {
                        "text/html": "1005"
                    },
                    "metadata": {}
                },
                {
                    "output_type": "display_data",
                    "data": {
                        "text/html": "(1 row affected)"
                    },
                    "metadata": {}
                },
                {
                    "output_type": "display_data",
                    "data": {
                        "text/html": "(1 row affected)"
                    },
                    "metadata": {}
                },
                {
                    "output_type": "display_data",
                    "data": {
                        "text/html": "(1 row affected)"
                    },
                    "metadata": {}
                },
                {
                    "output_type": "display_data",
                    "data": {
                        "text/html": "(19 rows affected)"
                    },
                    "metadata": {}
                },
                {
                    "output_type": "display_data",
                    "data": {
                        "text/html": "(1 row affected)"
                    },
                    "metadata": {}
                },
                {
                    "output_type": "display_data",
                    "data": {
                        "text/html": "(1 row affected)"
                    },
                    "metadata": {}
                },
                {
                    "output_type": "display_data",
                    "data": {
                        "text/html": "(1 row affected)"
                    },
                    "metadata": {}
                },
                {
                    "output_type": "display_data",
                    "data": {
                        "text/html": "Total execution time: 00:00:00.060"
                    },
                    "metadata": {}
                },
                {
                    "output_type": "execute_result",
                    "metadata": {},
                    "execution_count": 40,
                    "data": {
                        "application/vnd.dataresource+json": {
                            "schema": {
                                "fields": [
                                    {
                                        "name": "id"
                                    },
                                    {
                                        "name": "user_id"
                                    },
                                    {
                                        "name": "ins_id"
                                    },
                                    {
                                        "name": "inq_id"
                                    },
                                    {
                                        "name": "final_price"
                                    },
                                    {
                                        "name": "discount_code"
                                    }
                                ]
                            },
                            "data": [
                                {
                                    "0": "111",
                                    "1": "11",
                                    "2": "101",
                                    "3": "101",
                                    "4": "1500000",
                                    "5": "NULL"
                                },
                                {
                                    "0": "112",
                                    "1": "11",
                                    "2": "201",
                                    "3": "201",
                                    "4": "1500000",
                                    "5": "NULL"
                                },
                                {
                                    "0": "113",
                                    "1": "11",
                                    "2": "401",
                                    "3": "401",
                                    "4": "1500000",
                                    "5": "NULL"
                                },
                                {
                                    "0": "121",
                                    "1": "12",
                                    "2": "102",
                                    "3": "102",
                                    "4": "1500000",
                                    "5": "NULL"
                                },
                                {
                                    "0": "122",
                                    "1": "12",
                                    "2": "301",
                                    "3": "301",
                                    "4": "1500000",
                                    "5": "NULL"
                                },
                                {
                                    "0": "123",
                                    "1": "12",
                                    "2": "402",
                                    "3": "402",
                                    "4": "1500000",
                                    "5": "NULL"
                                },
                                {
                                    "0": "131",
                                    "1": "13",
                                    "2": "101",
                                    "3": "103",
                                    "4": "1500000",
                                    "5": "NULL"
                                },
                                {
                                    "0": "132",
                                    "1": "13",
                                    "2": "203",
                                    "3": "202",
                                    "4": "900000",
                                    "5": "NULL"
                                },
                                {
                                    "0": "133",
                                    "1": "13",
                                    "2": "305",
                                    "3": "302",
                                    "4": "1500000",
                                    "5": "NULL"
                                },
                                {
                                    "0": "134",
                                    "1": "13",
                                    "2": "404",
                                    "3": "403",
                                    "4": "1500000",
                                    "5": "NULL"
                                },
                                {
                                    "0": "151",
                                    "1": "15",
                                    "2": "302",
                                    "3": "303",
                                    "4": "500000",
                                    "5": "NULL"
                                },
                                {
                                    "0": "152",
                                    "1": "15",
                                    "2": "302",
                                    "3": "306",
                                    "4": "500000",
                                    "5": "NULL"
                                },
                                {
                                    "0": "153",
                                    "1": "15",
                                    "2": "302",
                                    "3": "307",
                                    "4": "500000",
                                    "5": "NULL"
                                },
                                {
                                    "0": "161",
                                    "1": "16",
                                    "2": "303",
                                    "3": "304",
                                    "4": "500000",
                                    "5": "NULL"
                                },
                                {
                                    "0": "181",
                                    "1": "18",
                                    "2": "201",
                                    "3": "203",
                                    "4": "500000",
                                    "5": "NULL"
                                },
                                {
                                    "0": "182",
                                    "1": "18",
                                    "2": "304",
                                    "3": "305",
                                    "4": "500000",
                                    "5": "NULL"
                                },
                                {
                                    "0": "191",
                                    "1": "19",
                                    "2": "207",
                                    "3": "205",
                                    "4": "1500000",
                                    "5": "NULL"
                                },
                                {
                                    "0": "10051",
                                    "1": "1005",
                                    "2": "101",
                                    "3": "151",
                                    "4": "1500000",
                                    "5": "d0000eee"
                                },
                                {
                                    "0": "10061",
                                    "1": "1006",
                                    "2": "203",
                                    "3": "251",
                                    "4": "1500000",
                                    "5": "NULL"
                                }
                            ]
                        },
                        "text/html": [
                            "<table>",
                            "<tr><th>id</th><th>user_id</th><th>ins_id</th><th>inq_id</th><th>final_price</th><th>discount_code</th></tr>",
                            "<tr><td>111</td><td>11</td><td>101</td><td>101</td><td>1500000</td><td>NULL</td></tr>",
                            "<tr><td>112</td><td>11</td><td>201</td><td>201</td><td>1500000</td><td>NULL</td></tr>",
                            "<tr><td>113</td><td>11</td><td>401</td><td>401</td><td>1500000</td><td>NULL</td></tr>",
                            "<tr><td>121</td><td>12</td><td>102</td><td>102</td><td>1500000</td><td>NULL</td></tr>",
                            "<tr><td>122</td><td>12</td><td>301</td><td>301</td><td>1500000</td><td>NULL</td></tr>",
                            "<tr><td>123</td><td>12</td><td>402</td><td>402</td><td>1500000</td><td>NULL</td></tr>",
                            "<tr><td>131</td><td>13</td><td>101</td><td>103</td><td>1500000</td><td>NULL</td></tr>",
                            "<tr><td>132</td><td>13</td><td>203</td><td>202</td><td>900000</td><td>NULL</td></tr>",
                            "<tr><td>133</td><td>13</td><td>305</td><td>302</td><td>1500000</td><td>NULL</td></tr>",
                            "<tr><td>134</td><td>13</td><td>404</td><td>403</td><td>1500000</td><td>NULL</td></tr>",
                            "<tr><td>151</td><td>15</td><td>302</td><td>303</td><td>500000</td><td>NULL</td></tr>",
                            "<tr><td>152</td><td>15</td><td>302</td><td>306</td><td>500000</td><td>NULL</td></tr>",
                            "<tr><td>153</td><td>15</td><td>302</td><td>307</td><td>500000</td><td>NULL</td></tr>",
                            "<tr><td>161</td><td>16</td><td>303</td><td>304</td><td>500000</td><td>NULL</td></tr>",
                            "<tr><td>181</td><td>18</td><td>201</td><td>203</td><td>500000</td><td>NULL</td></tr>",
                            "<tr><td>182</td><td>18</td><td>304</td><td>305</td><td>500000</td><td>NULL</td></tr>",
                            "<tr><td>191</td><td>19</td><td>207</td><td>205</td><td>1500000</td><td>NULL</td></tr>",
                            "<tr><td>10051</td><td>1005</td><td>101</td><td>151</td><td>1500000</td><td>d0000eee</td></tr>",
                            "<tr><td>10061</td><td>1006</td><td>203</td><td>251</td><td>1500000</td><td>NULL</td></tr>",
                            "</table>"
                        ]
                    }
                },
                {
                    "output_type": "execute_result",
                    "metadata": {},
                    "execution_count": 40,
                    "data": {
                        "application/vnd.dataresource+json": {
                            "schema": {
                                "fields": [
                                    {
                                        "name": "id"
                                    },
                                    {
                                        "name": "phone"
                                    },
                                    {
                                        "name": "code"
                                    },
                                    {
                                        "name": "fname"
                                    },
                                    {
                                        "name": "lname"
                                    },
                                    {
                                        "name": "pass"
                                    },
                                    {
                                        "name": "invatation"
                                    },
                                    {
                                        "name": "is_logged_in"
                                    }
                                ]
                            },
                            "data": [
                                {
                                    "0": "1003",
                                    "1": "09022222233",
                                    "2": "d0000eee",
                                    "3": "Reza",
                                    "4": "Maleki",
                                    "5": "pass5",
                                    "6": "9",
                                    "7": "1"
                                }
                            ]
                        },
                        "text/html": [
                            "<table>",
                            "<tr><th>id</th><th>phone</th><th>code</th><th>fname</th><th>lname</th><th>pass</th><th>invatation</th><th>is_logged_in</th></tr>",
                            "<tr><td>1003</td><td>09022222233</td><td>d0000eee</td><td>Reza</td><td>Maleki</td><td>pass5</td><td>9</td><td>1</td></tr>",
                            "</table>"
                        ]
                    }
                },
                {
                    "output_type": "execute_result",
                    "metadata": {},
                    "execution_count": 40,
                    "data": {
                        "application/vnd.dataresource+json": {
                            "schema": {
                                "fields": [
                                    {
                                        "name": "id"
                                    },
                                    {
                                        "name": "phone"
                                    },
                                    {
                                        "name": "code"
                                    },
                                    {
                                        "name": "fname"
                                    },
                                    {
                                        "name": "lname"
                                    },
                                    {
                                        "name": "pass"
                                    },
                                    {
                                        "name": "invatation"
                                    },
                                    {
                                        "name": "is_logged_in"
                                    }
                                ]
                            },
                            "data": [
                                {
                                    "0": "1003",
                                    "1": "09022222233",
                                    "2": "d0000eee",
                                    "3": "Reza",
                                    "4": "Maleki",
                                    "5": "pass5",
                                    "6": "8",
                                    "7": "1"
                                }
                            ]
                        },
                        "text/html": [
                            "<table>",
                            "<tr><th>id</th><th>phone</th><th>code</th><th>fname</th><th>lname</th><th>pass</th><th>invatation</th><th>is_logged_in</th></tr>",
                            "<tr><td>1003</td><td>09022222233</td><td>d0000eee</td><td>Reza</td><td>Maleki</td><td>pass5</td><td>8</td><td>1</td></tr>",
                            "</table>"
                        ]
                    }
                }
            ],
            "execution_count": 40
        },
        {
            "cell_type": "code",
            "source": [
                "-- 6\n",
                "DECLARE @comp_id AS INT = ( SELECT id FROM [Company] WHERE [Company].name = 'Dey');\n",
                "PRINT @comp_id;\n",
                "\n",
                "INSERT INTO [Insurance]\n",
                "( [id], [ins_type], [company_id], [price], [discount])\n",
                "VALUES\n",
                "(251, 2, @comp_id, 150 * 1000, 60);\n",
                "SELECT * FROM [Insurance];\n",
                "INSERT INTO [Health_insurance]\n",
                "( [id], [ins_id], [ins_service], [child_birth], [chronic_disease], [share_of_costs])\n",
                "VALUES\n",
                "(251, 251, 'shakhs vahed 3 star', 9, 3, 10);\n",
                "SELECT * FROM [Health_insurance];\n",
                "GO"
            ],
            "metadata": {
                "language": "sql",
                "azdata_cell_guid": "d40ef104-a354-441d-863c-f9dc2c848bcd"
            },
            "outputs": [
                {
                    "output_type": "display_data",
                    "data": {
                        "text/html": "10"
                    },
                    "metadata": {}
                },
                {
                    "output_type": "display_data",
                    "data": {
                        "text/html": "(1 row affected)"
                    },
                    "metadata": {}
                },
                {
                    "output_type": "display_data",
                    "data": {
                        "text/html": "(29 rows affected)"
                    },
                    "metadata": {}
                },
                {
                    "output_type": "display_data",
                    "data": {
                        "text/html": "(1 row affected)"
                    },
                    "metadata": {}
                },
                {
                    "output_type": "display_data",
                    "data": {
                        "text/html": "(8 rows affected)"
                    },
                    "metadata": {}
                },
                {
                    "output_type": "display_data",
                    "data": {
                        "text/html": "Total execution time: 00:00:00.036"
                    },
                    "metadata": {}
                },
                {
                    "output_type": "execute_result",
                    "metadata": {},
                    "execution_count": 41,
                    "data": {
                        "application/vnd.dataresource+json": {
                            "schema": {
                                "fields": [
                                    {
                                        "name": "id"
                                    },
                                    {
                                        "name": "ins_type"
                                    },
                                    {
                                        "name": "company_id"
                                    },
                                    {
                                        "name": "price"
                                    },
                                    {
                                        "name": "discount"
                                    }
                                ]
                            },
                            "data": [
                                {
                                    "0": "101",
                                    "1": "1",
                                    "2": "14",
                                    "3": "300000",
                                    "4": "0"
                                },
                                {
                                    "0": "102",
                                    "1": "1",
                                    "2": "1",
                                    "3": "500000",
                                    "4": "0"
                                },
                                {
                                    "0": "103",
                                    "1": "1",
                                    "2": "8",
                                    "3": "100000",
                                    "4": "0"
                                },
                                {
                                    "0": "104",
                                    "1": "1",
                                    "2": "7",
                                    "3": "100000",
                                    "4": "0"
                                },
                                {
                                    "0": "105",
                                    "1": "1",
                                    "2": "3",
                                    "3": "100000",
                                    "4": "0"
                                },
                                {
                                    "0": "201",
                                    "1": "2",
                                    "2": "10",
                                    "3": "150000",
                                    "4": "10"
                                },
                                {
                                    "0": "202",
                                    "1": "2",
                                    "2": "10",
                                    "3": "100000",
                                    "4": "20"
                                },
                                {
                                    "0": "203",
                                    "1": "2",
                                    "2": "10",
                                    "3": "170000",
                                    "4": "0"
                                },
                                {
                                    "0": "204",
                                    "1": "2",
                                    "2": "10",
                                    "3": "130000",
                                    "4": "5"
                                },
                                {
                                    "0": "205",
                                    "1": "2",
                                    "2": "14",
                                    "3": "190000",
                                    "4": "0"
                                },
                                {
                                    "0": "206",
                                    "1": "2",
                                    "2": "14",
                                    "3": "200000",
                                    "4": "0"
                                },
                                {
                                    "0": "207",
                                    "1": "2",
                                    "2": "14",
                                    "3": "210000",
                                    "4": "0"
                                },
                                {
                                    "0": "251",
                                    "1": "2",
                                    "2": "10",
                                    "3": "150000",
                                    "4": "60"
                                },
                                {
                                    "0": "301",
                                    "1": "3",
                                    "2": "19",
                                    "3": "210000",
                                    "4": "0"
                                },
                                {
                                    "0": "302",
                                    "1": "3",
                                    "2": "2",
                                    "3": "220000",
                                    "4": "0"
                                },
                                {
                                    "0": "303",
                                    "1": "3",
                                    "2": "5",
                                    "3": "230000",
                                    "4": "0"
                                },
                                {
                                    "0": "304",
                                    "1": "3",
                                    "2": "3",
                                    "3": "240000",
                                    "4": "0"
                                },
                                {
                                    "0": "305",
                                    "1": "3",
                                    "2": "10",
                                    "3": "250000",
                                    "4": "0"
                                },
                                {
                                    "0": "351",
                                    "1": "3",
                                    "2": "8",
                                    "3": "210000",
                                    "4": "0"
                                },
                                {
                                    "0": "401",
                                    "1": "4",
                                    "2": "1",
                                    "3": "210000",
                                    "4": "0"
                                },
                                {
                                    "0": "402",
                                    "1": "4",
                                    "2": "10",
                                    "3": "220000",
                                    "4": "0"
                                },
                                {
                                    "0": "403",
                                    "1": "4",
                                    "2": "3",
                                    "3": "230000",
                                    "4": "0"
                                },
                                {
                                    "0": "404",
                                    "1": "4",
                                    "2": "14",
                                    "3": "240000",
                                    "4": "0"
                                },
                                {
                                    "0": "405",
                                    "1": "4",
                                    "2": "20",
                                    "3": "250000",
                                    "4": "0"
                                },
                                {
                                    "0": "451",
                                    "1": "4",
                                    "2": "1",
                                    "3": "210000",
                                    "4": "0"
                                },
                                {
                                    "0": "452",
                                    "1": "4",
                                    "2": "10",
                                    "3": "220000",
                                    "4": "0"
                                },
                                {
                                    "0": "453",
                                    "1": "4",
                                    "2": "3",
                                    "3": "230000",
                                    "4": "0"
                                },
                                {
                                    "0": "454",
                                    "1": "4",
                                    "2": "14",
                                    "3": "240000",
                                    "4": "0"
                                },
                                {
                                    "0": "455",
                                    "1": "4",
                                    "2": "20",
                                    "3": "250000",
                                    "4": "0"
                                }
                            ]
                        },
                        "text/html": [
                            "<table>",
                            "<tr><th>id</th><th>ins_type</th><th>company_id</th><th>price</th><th>discount</th></tr>",
                            "<tr><td>101</td><td>1</td><td>14</td><td>300000</td><td>0</td></tr>",
                            "<tr><td>102</td><td>1</td><td>1</td><td>500000</td><td>0</td></tr>",
                            "<tr><td>103</td><td>1</td><td>8</td><td>100000</td><td>0</td></tr>",
                            "<tr><td>104</td><td>1</td><td>7</td><td>100000</td><td>0</td></tr>",
                            "<tr><td>105</td><td>1</td><td>3</td><td>100000</td><td>0</td></tr>",
                            "<tr><td>201</td><td>2</td><td>10</td><td>150000</td><td>10</td></tr>",
                            "<tr><td>202</td><td>2</td><td>10</td><td>100000</td><td>20</td></tr>",
                            "<tr><td>203</td><td>2</td><td>10</td><td>170000</td><td>0</td></tr>",
                            "<tr><td>204</td><td>2</td><td>10</td><td>130000</td><td>5</td></tr>",
                            "<tr><td>205</td><td>2</td><td>14</td><td>190000</td><td>0</td></tr>",
                            "<tr><td>206</td><td>2</td><td>14</td><td>200000</td><td>0</td></tr>",
                            "<tr><td>207</td><td>2</td><td>14</td><td>210000</td><td>0</td></tr>",
                            "<tr><td>251</td><td>2</td><td>10</td><td>150000</td><td>60</td></tr>",
                            "<tr><td>301</td><td>3</td><td>19</td><td>210000</td><td>0</td></tr>",
                            "<tr><td>302</td><td>3</td><td>2</td><td>220000</td><td>0</td></tr>",
                            "<tr><td>303</td><td>3</td><td>5</td><td>230000</td><td>0</td></tr>",
                            "<tr><td>304</td><td>3</td><td>3</td><td>240000</td><td>0</td></tr>",
                            "<tr><td>305</td><td>3</td><td>10</td><td>250000</td><td>0</td></tr>",
                            "<tr><td>351</td><td>3</td><td>8</td><td>210000</td><td>0</td></tr>",
                            "<tr><td>401</td><td>4</td><td>1</td><td>210000</td><td>0</td></tr>",
                            "<tr><td>402</td><td>4</td><td>10</td><td>220000</td><td>0</td></tr>",
                            "<tr><td>403</td><td>4</td><td>3</td><td>230000</td><td>0</td></tr>",
                            "<tr><td>404</td><td>4</td><td>14</td><td>240000</td><td>0</td></tr>",
                            "<tr><td>405</td><td>4</td><td>20</td><td>250000</td><td>0</td></tr>",
                            "<tr><td>451</td><td>4</td><td>1</td><td>210000</td><td>0</td></tr>",
                            "<tr><td>452</td><td>4</td><td>10</td><td>220000</td><td>0</td></tr>",
                            "<tr><td>453</td><td>4</td><td>3</td><td>230000</td><td>0</td></tr>",
                            "<tr><td>454</td><td>4</td><td>14</td><td>240000</td><td>0</td></tr>",
                            "<tr><td>455</td><td>4</td><td>20</td><td>250000</td><td>0</td></tr>",
                            "</table>"
                        ]
                    }
                },
                {
                    "output_type": "execute_result",
                    "metadata": {},
                    "execution_count": 41,
                    "data": {
                        "application/vnd.dataresource+json": {
                            "schema": {
                                "fields": [
                                    {
                                        "name": "id"
                                    },
                                    {
                                        "name": "ins_id"
                                    },
                                    {
                                        "name": "ins_service"
                                    },
                                    {
                                        "name": "child_birth"
                                    },
                                    {
                                        "name": "chronic_disease"
                                    },
                                    {
                                        "name": "share_of_costs"
                                    }
                                ]
                            },
                            "data": [
                                {
                                    "0": "201",
                                    "1": "201",
                                    "2": "shakhs vahed 3 star",
                                    "3": "9",
                                    "4": "3",
                                    "5": "10"
                                },
                                {
                                    "0": "202",
                                    "1": "202",
                                    "2": "shakhs vahed 4 star",
                                    "3": "9",
                                    "4": "3",
                                    "5": "10"
                                },
                                {
                                    "0": "203",
                                    "1": "203",
                                    "2": "shakhs vahed 4 star plus",
                                    "3": "9",
                                    "4": "3",
                                    "5": "10"
                                },
                                {
                                    "0": "204",
                                    "1": "204",
                                    "2": "shakhs vahed 5 star",
                                    "3": "9",
                                    "4": "3",
                                    "5": "10"
                                },
                                {
                                    "0": "205",
                                    "1": "205",
                                    "2": "tarh sero",
                                    "3": "9",
                                    "4": "3",
                                    "5": "10"
                                },
                                {
                                    "0": "206",
                                    "1": "206",
                                    "2": "tarh sepidar",
                                    "3": "9",
                                    "4": "3",
                                    "5": "10"
                                },
                                {
                                    "0": "207",
                                    "1": "207",
                                    "2": "tarh afra",
                                    "3": "9",
                                    "4": "3",
                                    "5": "10"
                                },
                                {
                                    "0": "251",
                                    "1": "251",
                                    "2": "shakhs vahed 3 star",
                                    "3": "9",
                                    "4": "3",
                                    "5": "10"
                                }
                            ]
                        },
                        "text/html": [
                            "<table>",
                            "<tr><th>id</th><th>ins_id</th><th>ins_service</th><th>child_birth</th><th>chronic_disease</th><th>share_of_costs</th></tr>",
                            "<tr><td>201</td><td>201</td><td>shakhs vahed 3 star</td><td>9</td><td>3</td><td>10</td></tr>",
                            "<tr><td>202</td><td>202</td><td>shakhs vahed 4 star</td><td>9</td><td>3</td><td>10</td></tr>",
                            "<tr><td>203</td><td>203</td><td>shakhs vahed 4 star plus</td><td>9</td><td>3</td><td>10</td></tr>",
                            "<tr><td>204</td><td>204</td><td>shakhs vahed 5 star</td><td>9</td><td>3</td><td>10</td></tr>",
                            "<tr><td>205</td><td>205</td><td>tarh sero</td><td>9</td><td>3</td><td>10</td></tr>",
                            "<tr><td>206</td><td>206</td><td>tarh sepidar</td><td>9</td><td>3</td><td>10</td></tr>",
                            "<tr><td>207</td><td>207</td><td>tarh afra</td><td>9</td><td>3</td><td>10</td></tr>",
                            "<tr><td>251</td><td>251</td><td>shakhs vahed 3 star</td><td>9</td><td>3</td><td>10</td></tr>",
                            "</table>"
                        ]
                    }
                }
            ],
            "execution_count": 41
        },
        {
            "cell_type": "code",
            "source": [
                "-- 7\n",
                "DECLARE @user_id AS INT = (SELECT id FROM [User_] WHERE [User_].fname = 'Morteza' AND [User_].lname = 'Molayee')\n",
                "PRINT @user_id\n",
                "\n",
                "INSERT INTO [Reminder]\n",
                "( [id], [user_id], [ins_type], [ins_description], [due_date], [ins_period], [province_id], [city_id])\n",
                "VALUES\n",
                "(((@user_id * 10) + 1) , @user_id, 1, 'rem 1', '1401-10-10', 6, 08, 0801),\n",
                "(((@user_id * 10) + 2) , @user_id, 1, 'rem 2', '1401-11-11', 12, 08, 0801)\n",
                "SELECT * FROM [Reminder]\n",
                "GO\n",
                ""
            ],
            "metadata": {
                "language": "sql",
                "azdata_cell_guid": "47ebe063-92bf-472b-a07c-dda59a208629",
                "tags": []
            },
            "outputs": [
                {
                    "output_type": "display_data",
                    "data": {
                        "text/html": "1004"
                    },
                    "metadata": {}
                },
                {
                    "output_type": "display_data",
                    "data": {
                        "text/html": "(2 rows affected)"
                    },
                    "metadata": {}
                },
                {
                    "output_type": "display_data",
                    "data": {
                        "text/html": "(10 rows affected)"
                    },
                    "metadata": {}
                },
                {
                    "output_type": "display_data",
                    "data": {
                        "text/html": "Total execution time: 00:00:00.045"
                    },
                    "metadata": {}
                },
                {
                    "output_type": "execute_result",
                    "metadata": {},
                    "execution_count": 42,
                    "data": {
                        "application/vnd.dataresource+json": {
                            "schema": {
                                "fields": [
                                    {
                                        "name": "id"
                                    },
                                    {
                                        "name": "user_id"
                                    },
                                    {
                                        "name": "ins_type"
                                    },
                                    {
                                        "name": "ins_description"
                                    },
                                    {
                                        "name": "due_date"
                                    },
                                    {
                                        "name": "ins_period"
                                    },
                                    {
                                        "name": "province_id"
                                    },
                                    {
                                        "name": "city_id"
                                    }
                                ]
                            },
                            "data": [
                                {
                                    "0": "111",
                                    "1": "11",
                                    "2": "1",
                                    "3": "test purpose",
                                    "4": "1401-10-10",
                                    "5": "12",
                                    "6": "8",
                                    "7": "801"
                                },
                                {
                                    "0": "112",
                                    "1": "11",
                                    "2": "3",
                                    "3": "test purpose",
                                    "4": "1401-05-01",
                                    "5": "3",
                                    "6": "8",
                                    "7": "802"
                                },
                                {
                                    "0": "121",
                                    "1": "12",
                                    "2": "1",
                                    "3": "test purpose",
                                    "4": "1401-05-01",
                                    "5": "6",
                                    "6": "10",
                                    "7": "1001"
                                },
                                {
                                    "0": "131",
                                    "1": "13",
                                    "2": "2",
                                    "3": "test purpose",
                                    "4": "1401-06-07",
                                    "5": "1",
                                    "6": "10",
                                    "7": "1002"
                                },
                                {
                                    "0": "132",
                                    "1": "13",
                                    "2": "4",
                                    "3": "test purpose",
                                    "4": "1401-03-01",
                                    "5": "12",
                                    "6": "5",
                                    "7": "509"
                                },
                                {
                                    "0": "171",
                                    "1": "17",
                                    "2": "1",
                                    "3": "test purpose",
                                    "4": "1380-09-01",
                                    "5": "6",
                                    "6": "8",
                                    "7": "801"
                                },
                                {
                                    "0": "191",
                                    "1": "19",
                                    "2": "1",
                                    "3": "test purpose",
                                    "4": "1370-01-01",
                                    "5": "3",
                                    "6": "8",
                                    "7": "801"
                                },
                                {
                                    "0": "201",
                                    "1": "20",
                                    "2": "1",
                                    "3": "test purpose",
                                    "4": "1360-03-01",
                                    "5": "6",
                                    "6": "8",
                                    "7": "801"
                                },
                                {
                                    "0": "10041",
                                    "1": "1004",
                                    "2": "1",
                                    "3": "rem 1",
                                    "4": "1401-10-10",
                                    "5": "6",
                                    "6": "8",
                                    "7": "801"
                                },
                                {
                                    "0": "10042",
                                    "1": "1004",
                                    "2": "1",
                                    "3": "rem 2",
                                    "4": "1401-11-11",
                                    "5": "12",
                                    "6": "8",
                                    "7": "801"
                                }
                            ]
                        },
                        "text/html": [
                            "<table>",
                            "<tr><th>id</th><th>user_id</th><th>ins_type</th><th>ins_description</th><th>due_date</th><th>ins_period</th><th>province_id</th><th>city_id</th></tr>",
                            "<tr><td>111</td><td>11</td><td>1</td><td>test purpose</td><td>1401-10-10</td><td>12</td><td>8</td><td>801</td></tr>",
                            "<tr><td>112</td><td>11</td><td>3</td><td>test purpose</td><td>1401-05-01</td><td>3</td><td>8</td><td>802</td></tr>",
                            "<tr><td>121</td><td>12</td><td>1</td><td>test purpose</td><td>1401-05-01</td><td>6</td><td>10</td><td>1001</td></tr>",
                            "<tr><td>131</td><td>13</td><td>2</td><td>test purpose</td><td>1401-06-07</td><td>1</td><td>10</td><td>1002</td></tr>",
                            "<tr><td>132</td><td>13</td><td>4</td><td>test purpose</td><td>1401-03-01</td><td>12</td><td>5</td><td>509</td></tr>",
                            "<tr><td>171</td><td>17</td><td>1</td><td>test purpose</td><td>1380-09-01</td><td>6</td><td>8</td><td>801</td></tr>",
                            "<tr><td>191</td><td>19</td><td>1</td><td>test purpose</td><td>1370-01-01</td><td>3</td><td>8</td><td>801</td></tr>",
                            "<tr><td>201</td><td>20</td><td>1</td><td>test purpose</td><td>1360-03-01</td><td>6</td><td>8</td><td>801</td></tr>",
                            "<tr><td>10041</td><td>1004</td><td>1</td><td>rem 1</td><td>1401-10-10</td><td>6</td><td>8</td><td>801</td></tr>",
                            "<tr><td>10042</td><td>1004</td><td>1</td><td>rem 2</td><td>1401-11-11</td><td>12</td><td>8</td><td>801</td></tr>",
                            "</table>"
                        ]
                    }
                }
            ],
            "execution_count": 42
        },
        {
            "cell_type": "code",
            "source": [
                "-- Delete\n",
                "SELECT * FROM [User_];\n",
                "SELECT DISTINCT user_id FROM [Buy];\n",
                "\n",
                "DELETE FROM [User_]\n",
                "WHERE NOT EXISTS (\n",
                "    SELECT *\n",
                "    FROM [Buy]\n",
                "    WHERE [Buy].user_id = [User_].id\n",
                ");\n",
                "\n",
                "SELECT * FROM [User_];\n",
                "GO"
            ],
            "metadata": {
                "language": "sql",
                "azdata_cell_guid": "63b0feec-991c-43b7-960a-c7f7be73ccf2"
            },
            "outputs": [
                {
                    "output_type": "display_data",
                    "data": {
                        "text/html": "(9 rows affected)"
                    },
                    "metadata": {}
                },
                {
                    "output_type": "display_data",
                    "data": {
                        "text/html": "(9 rows affected)"
                    },
                    "metadata": {}
                },
                {
                    "output_type": "display_data",
                    "data": {
                        "text/html": "(0 rows affected)"
                    },
                    "metadata": {}
                },
                {
                    "output_type": "display_data",
                    "data": {
                        "text/html": "(9 rows affected)"
                    },
                    "metadata": {}
                },
                {
                    "output_type": "display_data",
                    "data": {
                        "text/html": "Total execution time: 00:00:00.058"
                    },
                    "metadata": {}
                },
                {
                    "output_type": "execute_result",
                    "metadata": {},
                    "execution_count": 44,
                    "data": {
                        "application/vnd.dataresource+json": {
                            "schema": {
                                "fields": [
                                    {
                                        "name": "id"
                                    },
                                    {
                                        "name": "phone"
                                    },
                                    {
                                        "name": "code"
                                    },
                                    {
                                        "name": "fname"
                                    },
                                    {
                                        "name": "lname"
                                    },
                                    {
                                        "name": "pass"
                                    },
                                    {
                                        "name": "invatation"
                                    },
                                    {
                                        "name": "is_logged_in"
                                    }
                                ]
                            },
                            "data": [
                                {
                                    "0": "11",
                                    "1": "09026743937",
                                    "2": "r00nh2lt",
                                    "3": "Ali",
                                    "4": "Karimi",
                                    "5": "pass",
                                    "6": "5",
                                    "7": "1"
                                },
                                {
                                    "0": "12",
                                    "1": "09018110650",
                                    "2": "ygupw435",
                                    "3": "Mohammad",
                                    "4": "Amiri",
                                    "5": "pass",
                                    "6": "8",
                                    "7": "1"
                                },
                                {
                                    "0": "13",
                                    "1": "09129615681",
                                    "2": "tmvx37i0",
                                    "3": "Mahda",
                                    "4": "Ashrafi",
                                    "5": "pass",
                                    "6": "7",
                                    "7": "1"
                                },
                                {
                                    "0": "15",
                                    "1": "09025807894",
                                    "2": "13czlwwg",
                                    "3": "Helma",
                                    "4": "Akhgar",
                                    "5": "pass",
                                    "6": "4",
                                    "7": "1"
                                },
                                {
                                    "0": "16",
                                    "1": "09374787030",
                                    "2": "pye761w9",
                                    "3": "Roqaye",
                                    "4": "Azizi",
                                    "5": "pass",
                                    "6": "7",
                                    "7": "1"
                                },
                                {
                                    "0": "18",
                                    "1": "09027061854",
                                    "2": "yca0mvyl",
                                    "3": "Nikan",
                                    "4": "Norafkan",
                                    "5": "pass",
                                    "6": "8",
                                    "7": "0"
                                },
                                {
                                    "0": "19",
                                    "1": "09509879142",
                                    "2": "dul70p8r",
                                    "3": "Erfan",
                                    "4": "Riyazati",
                                    "5": "pass",
                                    "6": "10",
                                    "7": "1"
                                },
                                {
                                    "0": "1005",
                                    "1": "09022220022",
                                    "2": "e0000jjj",
                                    "3": "Omid",
                                    "4": "Ahmadi",
                                    "5": "pass7",
                                    "6": "10",
                                    "7": "1"
                                },
                                {
                                    "0": "1006",
                                    "1": "09022224466",
                                    "2": "s0000bbb",
                                    "3": "Mohammad",
                                    "4": "Sajjadi",
                                    "5": "pass8",
                                    "6": "10",
                                    "7": "1"
                                }
                            ]
                        },
                        "text/html": [
                            "<table>",
                            "<tr><th>id</th><th>phone</th><th>code</th><th>fname</th><th>lname</th><th>pass</th><th>invatation</th><th>is_logged_in</th></tr>",
                            "<tr><td>11</td><td>09026743937</td><td>r00nh2lt</td><td>Ali</td><td>Karimi</td><td>pass</td><td>5</td><td>1</td></tr>",
                            "<tr><td>12</td><td>09018110650</td><td>ygupw435</td><td>Mohammad</td><td>Amiri</td><td>pass</td><td>8</td><td>1</td></tr>",
                            "<tr><td>13</td><td>09129615681</td><td>tmvx37i0</td><td>Mahda</td><td>Ashrafi</td><td>pass</td><td>7</td><td>1</td></tr>",
                            "<tr><td>15</td><td>09025807894</td><td>13czlwwg</td><td>Helma</td><td>Akhgar</td><td>pass</td><td>4</td><td>1</td></tr>",
                            "<tr><td>16</td><td>09374787030</td><td>pye761w9</td><td>Roqaye</td><td>Azizi</td><td>pass</td><td>7</td><td>1</td></tr>",
                            "<tr><td>18</td><td>09027061854</td><td>yca0mvyl</td><td>Nikan</td><td>Norafkan</td><td>pass</td><td>8</td><td>0</td></tr>",
                            "<tr><td>19</td><td>09509879142</td><td>dul70p8r</td><td>Erfan</td><td>Riyazati</td><td>pass</td><td>10</td><td>1</td></tr>",
                            "<tr><td>1005</td><td>09022220022</td><td>e0000jjj</td><td>Omid</td><td>Ahmadi</td><td>pass7</td><td>10</td><td>1</td></tr>",
                            "<tr><td>1006</td><td>09022224466</td><td>s0000bbb</td><td>Mohammad</td><td>Sajjadi</td><td>pass8</td><td>10</td><td>1</td></tr>",
                            "</table>"
                        ]
                    }
                },
                {
                    "output_type": "execute_result",
                    "metadata": {},
                    "execution_count": 44,
                    "data": {
                        "application/vnd.dataresource+json": {
                            "schema": {
                                "fields": [
                                    {
                                        "name": "user_id"
                                    }
                                ]
                            },
                            "data": [
                                {
                                    "0": "11"
                                },
                                {
                                    "0": "12"
                                },
                                {
                                    "0": "13"
                                },
                                {
                                    "0": "15"
                                },
                                {
                                    "0": "16"
                                },
                                {
                                    "0": "18"
                                },
                                {
                                    "0": "19"
                                },
                                {
                                    "0": "1005"
                                },
                                {
                                    "0": "1006"
                                }
                            ]
                        },
                        "text/html": [
                            "<table>",
                            "<tr><th>user_id</th></tr>",
                            "<tr><td>11</td></tr>",
                            "<tr><td>12</td></tr>",
                            "<tr><td>13</td></tr>",
                            "<tr><td>15</td></tr>",
                            "<tr><td>16</td></tr>",
                            "<tr><td>18</td></tr>",
                            "<tr><td>19</td></tr>",
                            "<tr><td>1005</td></tr>",
                            "<tr><td>1006</td></tr>",
                            "</table>"
                        ]
                    }
                },
                {
                    "output_type": "execute_result",
                    "metadata": {},
                    "execution_count": 44,
                    "data": {
                        "application/vnd.dataresource+json": {
                            "schema": {
                                "fields": [
                                    {
                                        "name": "id"
                                    },
                                    {
                                        "name": "phone"
                                    },
                                    {
                                        "name": "code"
                                    },
                                    {
                                        "name": "fname"
                                    },
                                    {
                                        "name": "lname"
                                    },
                                    {
                                        "name": "pass"
                                    },
                                    {
                                        "name": "invatation"
                                    },
                                    {
                                        "name": "is_logged_in"
                                    }
                                ]
                            },
                            "data": [
                                {
                                    "0": "11",
                                    "1": "09026743937",
                                    "2": "r00nh2lt",
                                    "3": "Ali",
                                    "4": "Karimi",
                                    "5": "pass",
                                    "6": "5",
                                    "7": "1"
                                },
                                {
                                    "0": "12",
                                    "1": "09018110650",
                                    "2": "ygupw435",
                                    "3": "Mohammad",
                                    "4": "Amiri",
                                    "5": "pass",
                                    "6": "8",
                                    "7": "1"
                                },
                                {
                                    "0": "13",
                                    "1": "09129615681",
                                    "2": "tmvx37i0",
                                    "3": "Mahda",
                                    "4": "Ashrafi",
                                    "5": "pass",
                                    "6": "7",
                                    "7": "1"
                                },
                                {
                                    "0": "15",
                                    "1": "09025807894",
                                    "2": "13czlwwg",
                                    "3": "Helma",
                                    "4": "Akhgar",
                                    "5": "pass",
                                    "6": "4",
                                    "7": "1"
                                },
                                {
                                    "0": "16",
                                    "1": "09374787030",
                                    "2": "pye761w9",
                                    "3": "Roqaye",
                                    "4": "Azizi",
                                    "5": "pass",
                                    "6": "7",
                                    "7": "1"
                                },
                                {
                                    "0": "18",
                                    "1": "09027061854",
                                    "2": "yca0mvyl",
                                    "3": "Nikan",
                                    "4": "Norafkan",
                                    "5": "pass",
                                    "6": "8",
                                    "7": "0"
                                },
                                {
                                    "0": "19",
                                    "1": "09509879142",
                                    "2": "dul70p8r",
                                    "3": "Erfan",
                                    "4": "Riyazati",
                                    "5": "pass",
                                    "6": "10",
                                    "7": "1"
                                },
                                {
                                    "0": "1005",
                                    "1": "09022220022",
                                    "2": "e0000jjj",
                                    "3": "Omid",
                                    "4": "Ahmadi",
                                    "5": "pass7",
                                    "6": "10",
                                    "7": "1"
                                },
                                {
                                    "0": "1006",
                                    "1": "09022224466",
                                    "2": "s0000bbb",
                                    "3": "Mohammad",
                                    "4": "Sajjadi",
                                    "5": "pass8",
                                    "6": "10",
                                    "7": "1"
                                }
                            ]
                        },
                        "text/html": [
                            "<table>",
                            "<tr><th>id</th><th>phone</th><th>code</th><th>fname</th><th>lname</th><th>pass</th><th>invatation</th><th>is_logged_in</th></tr>",
                            "<tr><td>11</td><td>09026743937</td><td>r00nh2lt</td><td>Ali</td><td>Karimi</td><td>pass</td><td>5</td><td>1</td></tr>",
                            "<tr><td>12</td><td>09018110650</td><td>ygupw435</td><td>Mohammad</td><td>Amiri</td><td>pass</td><td>8</td><td>1</td></tr>",
                            "<tr><td>13</td><td>09129615681</td><td>tmvx37i0</td><td>Mahda</td><td>Ashrafi</td><td>pass</td><td>7</td><td>1</td></tr>",
                            "<tr><td>15</td><td>09025807894</td><td>13czlwwg</td><td>Helma</td><td>Akhgar</td><td>pass</td><td>4</td><td>1</td></tr>",
                            "<tr><td>16</td><td>09374787030</td><td>pye761w9</td><td>Roqaye</td><td>Azizi</td><td>pass</td><td>7</td><td>1</td></tr>",
                            "<tr><td>18</td><td>09027061854</td><td>yca0mvyl</td><td>Nikan</td><td>Norafkan</td><td>pass</td><td>8</td><td>0</td></tr>",
                            "<tr><td>19</td><td>09509879142</td><td>dul70p8r</td><td>Erfan</td><td>Riyazati</td><td>pass</td><td>10</td><td>1</td></tr>",
                            "<tr><td>1005</td><td>09022220022</td><td>e0000jjj</td><td>Omid</td><td>Ahmadi</td><td>pass7</td><td>10</td><td>1</td></tr>",
                            "<tr><td>1006</td><td>09022224466</td><td>s0000bbb</td><td>Mohammad</td><td>Sajjadi</td><td>pass8</td><td>10</td><td>1</td></tr>",
                            "</table>"
                        ]
                    }
                }
            ],
            "execution_count": 44
        },
        {
            "cell_type": "code",
            "source": [
                "-- Insert\n",
                "CREATE TABLE [Tmp_user](\n",
                "\t[id] INT NOT NULL PRIMARY KEY,\n",
                "\t[phone] NVARCHAR(11) NOT NULL UNIQUE,\n",
                "\t[code] NVARCHAR(8) NOT NULL UNIQUE,\n",
                "\t[fname] NVARCHAR(50),\n",
                "\t[lname] NVARCHAR(50),\n",
                "\t[pass] NVARCHAR(25),\n",
                "\t[invatation] TINYINT DEFAULT 10,\n",
                "\t[is_logged_in] BIT DEFAULT 1\n",
                ");\n",
                "\n",
                "INSERT INTO [Tmp_user]\n",
                "SELECT u.*\n",
                "FROM [Buy] b\n",
                "    INNER JOIN [User_] u ON (b.user_id = u.id)\n",
                "    INNER JOIN [Insurance] ins ON (b.ins_id = ins.id)\n",
                "    INNER JOIN [inqury] inq ON (b.inq_id = inq.id)\n",
                "    INNER JOIN [Property_inq] pinq ON (pinq.inq_id = inq.id)\n",
                "    INNER JOIN [Province] p ON (pinq.province_id = p.id)\n",
                "WHERE \n",
                "inq.inq_type = (SELECT id FROM [Type] WHERE [type] = 'Fire') AND\n",
                "p.name IN ('khorasan Shomali', 'khorasan Razavi', 'khorasan Jonobi')\n",
                "\n",
                "SELECT * FROM [Tmp_user]\n",
                "GO"
            ],
            "metadata": {
                "language": "sql",
                "azdata_cell_guid": "bd7d7a39-8a88-457e-891e-974bbda5275d"
            },
            "outputs": [
                {
                    "output_type": "error",
                    "evalue": "Msg 2714, Level 16, State 6, Line 2\nThere is already an object named 'Tmp_user' in the database.",
                    "ename": "",
                    "traceback": []
                },
                {
                    "output_type": "error",
                    "evalue": "Msg 2627, Level 14, State 1, Line 14\nViolation of PRIMARY KEY constraint 'PK__Tmp_user__3213E83F3F0D7CCF'. Cannot insert duplicate key in object 'dbo.Tmp_user'. The duplicate key value is (12).",
                    "ename": "",
                    "traceback": []
                },
                {
                    "output_type": "display_data",
                    "data": {
                        "text/html": "The statement has been terminated."
                    },
                    "metadata": {}
                },
                {
                    "output_type": "display_data",
                    "data": {
                        "text/html": "(2 rows affected)"
                    },
                    "metadata": {}
                },
                {
                    "output_type": "display_data",
                    "data": {
                        "text/html": "Total execution time: 00:00:00.090"
                    },
                    "metadata": {}
                },
                {
                    "output_type": "execute_result",
                    "metadata": {},
                    "execution_count": 52,
                    "data": {
                        "application/vnd.dataresource+json": {
                            "schema": {
                                "fields": [
                                    {
                                        "name": "id"
                                    },
                                    {
                                        "name": "phone"
                                    },
                                    {
                                        "name": "code"
                                    },
                                    {
                                        "name": "fname"
                                    },
                                    {
                                        "name": "lname"
                                    },
                                    {
                                        "name": "pass"
                                    },
                                    {
                                        "name": "invatation"
                                    },
                                    {
                                        "name": "is_logged_in"
                                    }
                                ]
                            },
                            "data": [
                                {
                                    "0": "12",
                                    "1": "09018110650",
                                    "2": "ygupw435",
                                    "3": "Mohammad",
                                    "4": "Amiri",
                                    "5": "pass",
                                    "6": "8",
                                    "7": "1"
                                },
                                {
                                    "0": "15",
                                    "1": "09025807894",
                                    "2": "13czlwwg",
                                    "3": "Helma",
                                    "4": "Akhgar",
                                    "5": "pass",
                                    "6": "4",
                                    "7": "1"
                                }
                            ]
                        },
                        "text/html": [
                            "<table>",
                            "<tr><th>id</th><th>phone</th><th>code</th><th>fname</th><th>lname</th><th>pass</th><th>invatation</th><th>is_logged_in</th></tr>",
                            "<tr><td>12</td><td>09018110650</td><td>ygupw435</td><td>Mohammad</td><td>Amiri</td><td>pass</td><td>8</td><td>1</td></tr>",
                            "<tr><td>15</td><td>09025807894</td><td>13czlwwg</td><td>Helma</td><td>Akhgar</td><td>pass</td><td>4</td><td>1</td></tr>",
                            "</table>"
                        ]
                    }
                }
            ],
            "execution_count": 52
        },
        {
            "cell_type": "code",
            "source": [
                "-- View\n",
                "CREATE VIEW Family_Health_Ins_Users\n",
                "AS\n",
                "SELECT u.*\n",
                "FROM [Buy] b\n",
                "    INNER JOIN [User_] u ON (b.user_id = u.id)\n",
                "    INNER JOIN [inqury] inq ON (b.inq_id = inq.id)\n",
                "    INNER JOIN [Health_inq] hinq ON (hinq.inq_id = inq.id)\n",
                "WHERE hinq.is_family = 1;\n",
                "GO\n",
                "\n",
                "SELECT * FROM Family_Health_Ins_Users\n",
                "GO\n",
                ""
            ],
            "metadata": {
                "language": "sql",
                "azdata_cell_guid": "72ffad85-f328-4fd9-886a-8fef6665cc28"
            },
            "outputs": [
                {
                    "output_type": "error",
                    "evalue": "Msg 2714, Level 16, State 3, Procedure Family_Health_Ins_Users, Line 1\nThere is already an object named 'Family_Health_Ins_Users' in the database.",
                    "ename": "",
                    "traceback": []
                },
                {
                    "output_type": "display_data",
                    "data": {
                        "text/html": "(2 rows affected)"
                    },
                    "metadata": {}
                },
                {
                    "output_type": "display_data",
                    "data": {
                        "text/html": "Total execution time: 00:00:00.078"
                    },
                    "metadata": {}
                },
                {
                    "output_type": "execute_result",
                    "metadata": {},
                    "execution_count": 56,
                    "data": {
                        "application/vnd.dataresource+json": {
                            "schema": {
                                "fields": [
                                    {
                                        "name": "id"
                                    },
                                    {
                                        "name": "phone"
                                    },
                                    {
                                        "name": "code"
                                    },
                                    {
                                        "name": "fname"
                                    },
                                    {
                                        "name": "lname"
                                    },
                                    {
                                        "name": "pass"
                                    },
                                    {
                                        "name": "invatation"
                                    },
                                    {
                                        "name": "is_logged_in"
                                    }
                                ]
                            },
                            "data": [
                                {
                                    "0": "18",
                                    "1": "09027061854",
                                    "2": "yca0mvyl",
                                    "3": "Nikan",
                                    "4": "Norafkan",
                                    "5": "pass",
                                    "6": "8",
                                    "7": "0"
                                },
                                {
                                    "0": "19",
                                    "1": "09509879142",
                                    "2": "dul70p8r",
                                    "3": "Erfan",
                                    "4": "Riyazati",
                                    "5": "pass",
                                    "6": "10",
                                    "7": "1"
                                }
                            ]
                        },
                        "text/html": [
                            "<table>",
                            "<tr><th>id</th><th>phone</th><th>code</th><th>fname</th><th>lname</th><th>pass</th><th>invatation</th><th>is_logged_in</th></tr>",
                            "<tr><td>18</td><td>09027061854</td><td>yca0mvyl</td><td>Nikan</td><td>Norafkan</td><td>pass</td><td>8</td><td>0</td></tr>",
                            "<tr><td>19</td><td>09509879142</td><td>dul70p8r</td><td>Erfan</td><td>Riyazati</td><td>pass</td><td>10</td><td>1</td></tr>",
                            "</table>"
                        ]
                    }
                }
            ],
            "execution_count": 56
        }
    ]
}