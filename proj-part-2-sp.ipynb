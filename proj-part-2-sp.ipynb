{
    "metadata": {
        "kernelspec": {
            "name": "SQL",
            "display_name": "SQL",
            "language": "sql"
        },
        "language_info": {
            "name": "sql",
            "version": ""
        }
    },
    "nbformat_minor": 2,
    "nbformat": 4,
    "cells": [
        {
            "cell_type": "code",
            "source": [
                "-- 1 -- ok\n",
                "DROP PROCEDURE userNotOrder;\n",
                "GO\n",
                "\n",
                "CREATE PROCEDURE userNotOrder\n",
                "AS\n",
                "SELECT [fname], [lname]\n",
                "FROM [User_]\n",
                "WHERE id NOT IN (\n",
                "    SELECT b.user_id\n",
                "    FROM Buy b\n",
                "        INNER JOIN User_ u ON (b.user_id = u.id)\n",
                "        INNER JOIN Insurance i ON (b.ins_id = i.id)\n",
                "    WHERE ins_type = (SELECT id FROM [Type] WHERE [type] = 'Life')\n",
                "    );\n",
                "GO\n",
                "\n",
                "EXEC userNotOrder;\n",
                "GO"
            ],
            "metadata": {
                "language": "sql",
                "azdata_cell_guid": "305e2372-fedc-42ce-a706-e2476ae9499f",
                "tags": []
            },
            "outputs": [
                {
                    "output_type": "error",
                    "evalue": "Msg 3701, Level 11, State 5, Line 2\nCannot drop the procedure 'userNotOrder', because it does not exist or you do not have permission.",
                    "ename": "",
                    "traceback": []
                },
                {
                    "output_type": "display_data",
                    "data": {
                        "text/html": "Commands completed successfully."
                    },
                    "metadata": {}
                },
                {
                    "output_type": "display_data",
                    "data": {
                        "text/html": "(5 rows affected)"
                    },
                    "metadata": {}
                },
                {
                    "output_type": "display_data",
                    "data": {
                        "text/html": "Total execution time: 00:00:00.153"
                    },
                    "metadata": {}
                },
                {
                    "output_type": "execute_result",
                    "metadata": {},
                    "execution_count": 1,
                    "data": {
                        "application/vnd.dataresource+json": {
                            "schema": {
                                "fields": [
                                    {
                                        "name": "fname"
                                    },
                                    {
                                        "name": "lname"
                                    }
                                ]
                            },
                            "data": [
                                {
                                    "0": "Helma",
                                    "1": "Akhgar"
                                },
                                {
                                    "0": "Roqaye",
                                    "1": "Azizi"
                                },
                                {
                                    "0": "Nikan",
                                    "1": "Norafkan"
                                },
                                {
                                    "0": "Erfan",
                                    "1": "Riyazati"
                                },
                                {
                                    "0": "Mohammad",
                                    "1": "Sajjadi"
                                }
                            ]
                        },
                        "text/html": [
                            "<table>",
                            "<tr><th>fname</th><th>lname</th></tr>",
                            "<tr><td>Helma</td><td>Akhgar</td></tr>",
                            "<tr><td>Roqaye</td><td>Azizi</td></tr>",
                            "<tr><td>Nikan</td><td>Norafkan</td></tr>",
                            "<tr><td>Erfan</td><td>Riyazati</td></tr>",
                            "<tr><td>Mohammad</td><td>Sajjadi</td></tr>",
                            "</table>"
                        ]
                    }
                }
            ],
            "execution_count": 1
        },
        {
            "cell_type": "code",
            "source": [
                "-- 2 -- ok\n",
                "DROP PROCEDURE userMaxInsurance;\n",
                "GO\n",
                "\n",
                "CREATE PROCEDURE userMaxInsurance \n",
                "    @maxprice BIGINT\n",
                "AS \n",
                "SELECT u.fname, u.lname\n",
                "FROM Buy b\n",
                "    INNER JOIN User_ u ON (b.user_id = u.id)\n",
                "    INNER JOIN Insurance i ON (b.ins_id = i.id)\n",
                "WHERE i.ins_type = (SELECT id FROM [Type] WHERE [type] = 'Health') and b.final_price <= @maxprice;\n",
                "GO\n",
                "\n",
                "EXECUTE userMaxInsurance @maxprice = 900000;\n",
                "GO"
            ],
            "metadata": {
                "language": "sql",
                "azdata_cell_guid": "f3a2b0a0-a77b-4d68-be4a-347bd4c69158",
                "tags": []
            },
            "outputs": [
                {
                    "output_type": "display_data",
                    "data": {
                        "text/html": "Commands completed successfully."
                    },
                    "metadata": {}
                },
                {
                    "output_type": "display_data",
                    "data": {
                        "text/html": "Commands completed successfully."
                    },
                    "metadata": {}
                },
                {
                    "output_type": "display_data",
                    "data": {
                        "text/html": "(2 rows affected)"
                    },
                    "metadata": {}
                },
                {
                    "output_type": "display_data",
                    "data": {
                        "text/html": "Total execution time: 00:00:00.078"
                    },
                    "metadata": {}
                },
                {
                    "output_type": "execute_result",
                    "execution_count": 7,
                    "data": {
                        "application/vnd.dataresource+json": {
                            "schema": {
                                "fields": [
                                    {
                                        "name": "fname"
                                    },
                                    {
                                        "name": "lname"
                                    }
                                ]
                            },
                            "data": [
                                {
                                    "0": "Mahda",
                                    "1": "Ashrafi"
                                },
                                {
                                    "0": "Nikan",
                                    "1": "Norafkan"
                                }
                            ]
                        },
                        "text/html": "<table><tr><th>fname</th><th>lname</th></tr><tr><td>Mahda</td><td>Ashrafi</td></tr><tr><td>Nikan</td><td>Norafkan</td></tr></table>"
                    },
                    "metadata": {}
                }
            ],
            "execution_count": 7
        },
        {
            "cell_type": "code",
            "source": [
                "-- 3 -- ok\n",
                "DROP PROCEDURE userReminder;\n",
                "GO\n",
                "\n",
                "CREATE PROCEDURE userReminder \n",
                "    @ins_period TINYINT\n",
                "AS\n",
                "SELECT u.fname\n",
                "FROM User_ u\n",
                "    INNER JOIN Reminder r ON (u.id = r.user_id)\n",
                "WHERE r.ins_period = @ins_period AND r.ins_type = (SELECT id FROM [Type] WHERE [type] = 'Life');\n",
                "GO\n",
                "\n",
                "EXECUTE userReminder @ins_period = 6;\n",
                "GO"
            ],
            "metadata": {
                "language": "sql",
                "azdata_cell_guid": "91b85280-f195-4a34-ba86-2a4e5f848658"
            },
            "outputs": [
                {
                    "output_type": "display_data",
                    "data": {
                        "text/html": "Commands completed successfully."
                    },
                    "metadata": {}
                },
                {
                    "output_type": "display_data",
                    "data": {
                        "text/html": "Commands completed successfully."
                    },
                    "metadata": {}
                },
                {
                    "output_type": "display_data",
                    "data": {
                        "text/html": "(3 rows affected)"
                    },
                    "metadata": {}
                },
                {
                    "output_type": "display_data",
                    "data": {
                        "text/html": "Total execution time: 00:00:00.034"
                    },
                    "metadata": {}
                },
                {
                    "output_type": "execute_result",
                    "execution_count": 17,
                    "data": {
                        "application/vnd.dataresource+json": {
                            "schema": {
                                "fields": [
                                    {
                                        "name": "fname"
                                    }
                                ]
                            },
                            "data": [
                                {
                                    "0": "Mohammad"
                                },
                                {
                                    "0": "Kasra"
                                },
                                {
                                    "0": "Reza"
                                }
                            ]
                        },
                        "text/html": "<table><tr><th>fname</th></tr><tr><td>Mohammad</td></tr><tr><td>Kasra</td></tr><tr><td>Reza</td></tr></table>"
                    },
                    "metadata": {}
                }
            ],
            "execution_count": 17
        },
        {
            "cell_type": "code",
            "source": [
                "-- 4 -- ok\n",
                "DROP PROCEDURE avgName;\n",
                "GO\n",
                "\n",
                "CREATE PROCEDURE avgName \n",
                "    @baseinsurance NVARCHAR(30), \n",
                "    @number_of_insurance INT\n",
                "AS\n",
                "SELECT AVG(LEN(u.lname)) AS avg_len_lname\n",
                "FROM Buy b\n",
                "    INNER JOIN [User_] u ON (b.user_id = u.id) \n",
                "    INNER JOIN [Insurance] i ON (b.ins_id = i.id) \n",
                "    INNER JOIN [Inqury] inq ON (b.inq_id = inq.id)  \n",
                "    INNER JOIN [Health_inq] hinq ON (inq.id = hinq.inq_id)  \n",
                "    INNER JOIN Member m ON (m.health_inq_id = hinq.id)  \n",
                "WHERE \n",
                "i.ins_type = (SELECT id FROM [Type] WHERE [type] = 'Health') AND \n",
                "hinq.is_family = 0 AND\n",
                "hinq.count_of_memeber = 1 AND\n",
                "m.base_ins = (SELECT id FROM [BaseIns] WHERE BaseIns.insurance = @baseinsurance) AND\n",
                "@number_of_insurance >= (\n",
                "    SELECT COUNT(b.id)\n",
                "    FROM [User_] u1 LEFT OUTER JOIN Buy b ON (b.user_id = u1.id) \n",
                "    WHERE u1.id = u.id\n",
                ")\n",
                "GO\n",
                "\n",
                "EXEC avgName @baseinsurance = 'Bank ha', @number_of_insurance = 3\n",
                "GO"
            ],
            "metadata": {
                "language": "sql",
                "azdata_cell_guid": "25d2104a-6eb9-4160-b66a-ae37c07bce31"
            },
            "outputs": [
                {
                    "output_type": "display_data",
                    "data": {
                        "text/html": "Commands completed successfully."
                    },
                    "metadata": {}
                },
                {
                    "output_type": "display_data",
                    "data": {
                        "text/html": "Commands completed successfully."
                    },
                    "metadata": {}
                },
                {
                    "output_type": "display_data",
                    "data": {
                        "text/html": "(1 row affected)"
                    },
                    "metadata": {}
                },
                {
                    "output_type": "display_data",
                    "data": {
                        "text/html": "Total execution time: 00:00:00.038"
                    },
                    "metadata": {}
                },
                {
                    "output_type": "execute_result",
                    "execution_count": 24,
                    "data": {
                        "application/vnd.dataresource+json": {
                            "schema": {
                                "fields": [
                                    {
                                        "name": "avg_len_lname"
                                    }
                                ]
                            },
                            "data": [
                                {
                                    "0": "7"
                                }
                            ]
                        },
                        "text/html": "<table><tr><th>avg_len_lname</th></tr><tr><td>7</td></tr></table>"
                    },
                    "metadata": {}
                }
            ],
            "execution_count": 24
        },
        {
            "cell_type": "code",
            "source": [
                "-- 5 -- ok\n",
                "DROP PROCEDURE nameCompanyAsc;\n",
                "GO\n",
                "\n",
                "CREATE PROCEDURE nameCompanyAsc \n",
                "\t@province NVARCHAR(35)\n",
                "AS \n",
                "SELECT ins.id, comp.name, ins.price, ins.discount\n",
                "FROM [Buy] b\n",
                "    INNER JOIN [Insurance] ins ON (b.ins_id = ins.id)\n",
                "\tINNER JOIN [Company] comp ON (ins.company_id = comp.id)\n",
                "    INNER JOIN [inqury] inq ON (b.inq_id = inq.id)\n",
                "    INNER JOIN [Property_inq] pinq ON (pinq.inq_id = inq.id)\n",
                "    INNER JOIN [Province] p ON (pinq.province_id = p.id)\n",
                "WHERE \n",
                "ins.ins_type = (SELECT id FROM [Type] WHERE [type] = 'Fire') and \n",
                "inq.inq_type = (SELECT id FROM [Type] WHERE [type] = 'Fire') and \n",
                "p.name = @province\n",
                "ORDER BY ins.price ASC;\n",
                "GO\n",
                "\n",
                "EXEC nameCompanyAsc @province = 'Tehran'\n",
                "GO"
            ],
            "metadata": {
                "language": "sql",
                "azdata_cell_guid": "f794dea9-5a85-4734-892a-c2a276729055"
            },
            "outputs": [
                {
                    "output_type": "display_data",
                    "data": {
                        "text/html": "Commands completed successfully."
                    },
                    "metadata": {}
                },
                {
                    "output_type": "display_data",
                    "data": {
                        "text/html": "Commands completed successfully."
                    },
                    "metadata": {}
                },
                {
                    "output_type": "display_data",
                    "data": {
                        "text/html": "(3 rows affected)"
                    },
                    "metadata": {}
                },
                {
                    "output_type": "display_data",
                    "data": {
                        "text/html": "Total execution time: 00:00:00.088"
                    },
                    "metadata": {}
                },
                {
                    "output_type": "execute_result",
                    "execution_count": 33,
                    "data": {
                        "application/vnd.dataresource+json": {
                            "schema": {
                                "fields": [
                                    {
                                        "name": "id"
                                    },
                                    {
                                        "name": "name"
                                    },
                                    {
                                        "name": "price"
                                    },
                                    {
                                        "name": "discount"
                                    }
                                ]
                            },
                            "data": [
                                {
                                    "0": "303",
                                    "1": "Razi",
                                    "2": "230000",
                                    "3": "0"
                                },
                                {
                                    "0": "304",
                                    "1": "Parsian",
                                    "2": "240000",
                                    "3": "0"
                                },
                                {
                                    "0": "305",
                                    "1": "Dey",
                                    "2": "250000",
                                    "3": "0"
                                }
                            ]
                        },
                        "text/html": "<table><tr><th>id</th><th>name</th><th>price</th><th>discount</th></tr><tr><td>303</td><td>Razi</td><td>230000</td><td>0</td></tr><tr><td>304</td><td>Parsian</td><td>240000</td><td>0</td></tr><tr><td>305</td><td>Dey</td><td>250000</td><td>0</td></tr></table>"
                    },
                    "metadata": {}
                }
            ],
            "execution_count": 33
        },
        {
            "cell_type": "code",
            "source": [
                "-- 6 -- ok\n",
                "DROP PROCEDURE userInvitation;\n",
                "GO\n",
                "\n",
                "CREATE PROCEDURE userInvitation \n",
                "    @invatation int,\n",
                "    @numofinsurance int\n",
                "AS\n",
                "SELECT u.fname\n",
                "FROM [User_] u\n",
                "WHERE u.invatation <= (10 - @invatation)\n",
                "and u.id in (\n",
                "    SELECT [user_id]\n",
                "    FROM [Buy]\n",
                "    GROUP BY [user_id]\n",
                "    HAVING COUNT(*) >= @numofinsurance);\n",
                "GO\n",
                "\n",
                "EXEC userInvitation @invatation = 3, @numofinsurance = 2\n",
                "GO"
            ],
            "metadata": {
                "language": "sql",
                "azdata_cell_guid": "1678e0dd-90d3-4371-aad8-07c0ee0dd29d",
                "tags": []
            },
            "outputs": [
                {
                    "output_type": "display_data",
                    "data": {
                        "text/html": "Commands completed successfully."
                    },
                    "metadata": {}
                },
                {
                    "output_type": "display_data",
                    "data": {
                        "text/html": "Commands completed successfully."
                    },
                    "metadata": {}
                },
                {
                    "output_type": "display_data",
                    "data": {
                        "text/html": "(2 rows affected)"
                    },
                    "metadata": {}
                },
                {
                    "output_type": "display_data",
                    "data": {
                        "text/html": "Total execution time: 00:00:00.039"
                    },
                    "metadata": {}
                },
                {
                    "output_type": "execute_result",
                    "execution_count": 36,
                    "data": {
                        "application/vnd.dataresource+json": {
                            "schema": {
                                "fields": [
                                    {
                                        "name": "fname"
                                    }
                                ]
                            },
                            "data": [
                                {
                                    "0": "Ali"
                                },
                                {
                                    "0": "Mahda"
                                }
                            ]
                        },
                        "text/html": "<table><tr><th>fname</th></tr><tr><td>Ali</td></tr><tr><td>Mahda</td></tr></table>"
                    },
                    "metadata": {}
                }
            ],
            "execution_count": 36
        },
        {
            "cell_type": "code",
            "source": [
                "-- 7 -- ok\n",
                "DROP PROCEDURE userCompanyInsurance;\n",
                "GO\n",
                "\n",
                "CREATE PROCEDURE userCompanyInsurance \n",
                "    @type nvarchar(30), \n",
                "    @company nvarchar(35)\n",
                "AS \n",
                "SELECT u.*\n",
                "FROM Buy b\n",
                "    INNER JOIN User_ u ON (b.user_id = u.id)\n",
                "    INNER JOIN Insurance i ON (b.ins_id = i.id)\n",
                "    INNER JOIN Company c ON (i.company_id = c.id)\n",
                "WHERE c.[name] = @company AND i.ins_type = (SELECT id FROM [Type] WHERE [type] = @type)\n",
                "GO\n",
                "\n",
                "EXEC userCompanyInsurance @type = 'Life', @company = 'Saman'\n",
                "GO"
            ],
            "metadata": {
                "language": "sql",
                "azdata_cell_guid": "b8fece4e-0619-4ebc-a352-b3e8a0239652"
            },
            "outputs": [
                {
                    "output_type": "display_data",
                    "data": {
                        "text/html": "Commands completed successfully."
                    },
                    "metadata": {}
                },
                {
                    "output_type": "display_data",
                    "data": {
                        "text/html": "Commands completed successfully."
                    },
                    "metadata": {}
                },
                {
                    "output_type": "display_data",
                    "data": {
                        "text/html": "(2 rows affected)"
                    },
                    "metadata": {}
                },
                {
                    "output_type": "display_data",
                    "data": {
                        "text/html": "Total execution time: 00:00:00.042"
                    },
                    "metadata": {}
                },
                {
                    "output_type": "execute_result",
                    "execution_count": 22,
                    "data": {
                        "application/vnd.dataresource+json": {
                            "schema": {
                                "fields": [
                                    {
                                        "name": "id"
                                    },
                                    {
                                        "name": "phone"
                                    },
                                    {
                                        "name": "code"
                                    },
                                    {
                                        "name": "fname"
                                    },
                                    {
                                        "name": "lname"
                                    },
                                    {
                                        "name": "pass"
                                    },
                                    {
                                        "name": "invatation"
                                    },
                                    {
                                        "name": "is_logged_in"
                                    }
                                ]
                            },
                            "data": [
                                {
                                    "0": "11",
                                    "1": "09026743937",
                                    "2": "r00nh2lt",
                                    "3": "Ali",
                                    "4": "Karimi",
                                    "5": "pass",
                                    "6": "5",
                                    "7": "1"
                                },
                                {
                                    "0": "13",
                                    "1": "09029615681",
                                    "2": "tmvx37i0",
                                    "3": "Mahda",
                                    "4": "Ashrafi",
                                    "5": "pass",
                                    "6": "7",
                                    "7": "1"
                                }
                            ]
                        },
                        "text/html": "<table><tr><th>id</th><th>phone</th><th>code</th><th>fname</th><th>lname</th><th>pass</th><th>invatation</th><th>is_logged_in</th></tr><tr><td>11</td><td>09026743937</td><td>r00nh2lt</td><td>Ali</td><td>Karimi</td><td>pass</td><td>5</td><td>1</td></tr><tr><td>13</td><td>09029615681</td><td>tmvx37i0</td><td>Mahda</td><td>Ashrafi</td><td>pass</td><td>7</td><td>1</td></tr></table>"
                    },
                    "metadata": {}
                }
            ],
            "execution_count": 22
        },
        {
            "cell_type": "code",
            "source": [
                "-- 8 -- ok\n",
                "DROP PROCEDURE usersMaxMin;\n",
                "GO\n",
                "\n",
                "CREATE PROCEDURE usersMaxMin\n",
                "AS\n",
                "WITH count_ins AS (\n",
                "    SELECT u.id, COUNT(b.id) AS count\n",
                "    FROM [User_] u LEFT OUTER JOIN [Buy] b ON (b.user_id = u.id)\n",
                "    GROUP BY u.id\n",
                ")\n",
                "SELECT u.fname, u.lname, count\n",
                "FROM User_ u INNER JOIN count_ins c_i ON (u.id = c_i.id)\n",
                "WHERE \n",
                "[count] = (SELECT MAX([count]) FROM count_ins) OR\n",
                "[count] = (SELECT MIN([count]) FROM count_ins)\n",
                "ORDER BY count DESC\n",
                "GO\n",
                "\n",
                "EXEC usersMaxMin;\n",
                "GO"
            ],
            "metadata": {
                "language": "sql",
                "azdata_cell_guid": "048afa20-4400-40a3-afd4-fd9af180925b",
                "tags": []
            },
            "outputs": [
                {
                    "output_type": "error",
                    "ename": "",
                    "evalue": "Msg 3701, Level 11, State 5, Line 2\nCannot drop the procedure 'usersMaxMin', because it does not exist or you do not have permission.",
                    "traceback": []
                },
                {
                    "output_type": "display_data",
                    "data": {
                        "text/html": "Commands completed successfully."
                    },
                    "metadata": {}
                },
                {
                    "output_type": "display_data",
                    "data": {
                        "text/html": "(4 rows affected)"
                    },
                    "metadata": {}
                },
                {
                    "output_type": "display_data",
                    "data": {
                        "text/html": "Total execution time: 00:00:00.092"
                    },
                    "metadata": {}
                },
                {
                    "output_type": "execute_result",
                    "execution_count": 61,
                    "data": {
                        "application/vnd.dataresource+json": {
                            "schema": {
                                "fields": [
                                    {
                                        "name": "fname"
                                    },
                                    {
                                        "name": "lname"
                                    },
                                    {
                                        "name": "count"
                                    }
                                ]
                            },
                            "data": [
                                {
                                    "0": "Mahda",
                                    "1": "Ashrafi",
                                    "2": "4"
                                },
                                {
                                    "0": "Hossein",
                                    "1": "Mortazavi",
                                    "2": "0"
                                },
                                {
                                    "0": "Kasra",
                                    "1": "Siyavashpoor",
                                    "2": "0"
                                },
                                {
                                    "0": "Reza",
                                    "1": "Najafi",
                                    "2": "0"
                                }
                            ]
                        },
                        "text/html": "<table><tr><th>fname</th><th>lname</th><th>count</th></tr><tr><td>Mahda</td><td>Ashrafi</td><td>4</td></tr><tr><td>Hossein</td><td>Mortazavi</td><td>0</td></tr><tr><td>Kasra</td><td>Siyavashpoor</td><td>0</td></tr><tr><td>Reza</td><td>Najafi</td><td>0</td></tr></table>"
                    },
                    "metadata": {}
                }
            ],
            "execution_count": 61
        },
        {
            "cell_type": "code",
            "source": [
                "-- 9 -- ok\n",
                "DROP PROCEDURE mobileCount;\n",
                "GO\n",
                "\n",
                "CREATE PROCEDURE mobileCount \n",
                "    @begining nvarchar(11)\n",
                "AS \n",
                "SELECT COUNT(*) AS number_of_phonenumbers\n",
                "FROM [User_]\n",
                "WHERE phone LIKE @begining + '%'\n",
                "GO\n",
                "\n",
                "EXEC mobileCount @begining = '0937';\n",
                "GO"
            ],
            "metadata": {
                "language": "sql",
                "azdata_cell_guid": "22ee32d8-3e2a-4235-85af-fa192f7c0f52"
            },
            "outputs": [
                {
                    "output_type": "display_data",
                    "data": {
                        "text/html": "Commands completed successfully."
                    },
                    "metadata": {}
                },
                {
                    "output_type": "display_data",
                    "data": {
                        "text/html": "Commands completed successfully."
                    },
                    "metadata": {}
                },
                {
                    "output_type": "display_data",
                    "data": {
                        "text/html": "(1 row affected)"
                    },
                    "metadata": {}
                },
                {
                    "output_type": "display_data",
                    "data": {
                        "text/html": "Total execution time: 00:00:00.029"
                    },
                    "metadata": {}
                },
                {
                    "output_type": "execute_result",
                    "execution_count": 74,
                    "data": {
                        "application/vnd.dataresource+json": {
                            "schema": {
                                "fields": [
                                    {
                                        "name": "number_of_phonenumbers"
                                    }
                                ]
                            },
                            "data": [
                                {
                                    "0": "2"
                                }
                            ]
                        },
                        "text/html": "<table><tr><th>number_of_phonenumbers</th></tr><tr><td>2</td></tr></table>"
                    },
                    "metadata": {}
                }
            ],
            "execution_count": 74
        },
        {
            "cell_type": "code",
            "source": [
                "-- 10 -- ok\n",
                "DROP PROCEDURE ageRangeFamilyInsurance;\n",
                "GO\n",
                "\n",
                "CREATE PROCEDURE ageRangeFamilyInsurance\n",
                "    @familycount int\n",
                "AS\n",
                "SELECT [range], COUNT(price) count, SUM(price) sum\n",
                "FROM AgeRange\n",
                "    LEFT OUTER JOIN (\n",
                "        SELECT age_range, price\n",
                "        FROM Member m \n",
                "            INNER JOIN [Health_inq] hinq ON (hinq.id = m.health_inq_id) \n",
                "            INNER JOIN [inqury] inq ON (inq.id = hinq.inq_id)\n",
                "            INNER JOIN [Buy] b ON (b.inq_id = inq.id)\n",
                "            INNER JOIN [Insurance] ins ON (ins.id = b.ins_id)\n",
                "        WHERE \n",
                "            m.head_id IS NULL AND \n",
                "            m.relation = 0 AND \n",
                "            hinq.is_family = 1 AND \n",
                "            hinq.count_of_memeber = @familycount\n",
                "    ) T ON (age_range = AgeRange.id)\n",
                "GROUP BY [range]\n",
                "GO\n",
                "\n",
                "EXECUTE ageRangeFamilyInsurance @familycount = 3;\n",
                "GO"
            ],
            "metadata": {
                "language": "sql",
                "azdata_cell_guid": "9009f2d8-dba3-4b50-99be-7d605a0c7032"
            },
            "outputs": [
                {
                    "output_type": "display_data",
                    "data": {
                        "text/html": "Commands completed successfully."
                    },
                    "metadata": {}
                },
                {
                    "output_type": "display_data",
                    "data": {
                        "text/html": "Commands completed successfully."
                    },
                    "metadata": {}
                },
                {
                    "output_type": "display_data",
                    "data": {
                        "text/html": "Warning: Null value is eliminated by an aggregate or other SET operation."
                    },
                    "metadata": {}
                },
                {
                    "output_type": "display_data",
                    "data": {
                        "text/html": "(5 rows affected)"
                    },
                    "metadata": {}
                },
                {
                    "output_type": "display_data",
                    "data": {
                        "text/html": "Total execution time: 00:00:00.096"
                    },
                    "metadata": {}
                },
                {
                    "output_type": "execute_result",
                    "metadata": {},
                    "execution_count": 42,
                    "data": {
                        "application/vnd.dataresource+json": {
                            "schema": {
                                "fields": [
                                    {
                                        "name": "range"
                                    },
                                    {
                                        "name": "count"
                                    },
                                    {
                                        "name": "sum"
                                    }
                                ]
                            },
                            "data": [
                                {
                                    "0": "16 to 45",
                                    "1": "0",
                                    "2": "NULL"
                                },
                                {
                                    "0": "46 to 50",
                                    "1": "1",
                                    "2": "150000"
                                },
                                {
                                    "0": "5 to 15",
                                    "1": "0",
                                    "2": "NULL"
                                },
                                {
                                    "0": "51 to 60",
                                    "1": "0",
                                    "2": "NULL"
                                },
                                {
                                    "0": "61 to 70",
                                    "1": "0",
                                    "2": "NULL"
                                }
                            ]
                        },
                        "text/html": [
                            "<table>",
                            "<tr><th>range</th><th>count</th><th>sum</th></tr>",
                            "<tr><td>16 to 45</td><td>0</td><td>NULL</td></tr>",
                            "<tr><td>46 to 50</td><td>1</td><td>150000</td></tr>",
                            "<tr><td>5 to 15</td><td>0</td><td>NULL</td></tr>",
                            "<tr><td>51 to 60</td><td>0</td><td>NULL</td></tr>",
                            "<tr><td>61 to 70</td><td>0</td><td>NULL</td></tr>",
                            "</table>"
                        ]
                    }
                }
            ],
            "execution_count": 42
        },
        {
            "cell_type": "code",
            "source": [
                "-- 11 -- ok\n",
                "DROP PROCEDURE twoInsurances;\n",
                "GO\n",
                "\n",
                "CREATE PROCEDURE twoInsurances \n",
                "    @A nvarchar(15), \n",
                "    @B nvarchar(15)\n",
                "AS \n",
                "SELECT DISTINCT fname, lname\n",
                "FROM Buy b\n",
                "    INNER JOIN [User_] u ON (b.user_id = u.id) \n",
                "    INNER JOIN [Insurance] i ON (b.ins_id = i.id) \n",
                "WHERE \n",
                "EXISTS (\n",
                "    SELECT fname, lname\n",
                "    FROM Buy b\n",
                "        INNER JOIN [User_] u1 ON (b.user_id = u1.id) \n",
                "        INNER JOIN [Insurance] i ON (b.ins_id = i.id)\n",
                "    WHERE u1.id = u.id AND i.ins_type = (SELECT id FROM [Type] WHERE [type] = @A))\n",
                "AND EXISTS (\n",
                "    SELECT fname, lname\n",
                "    FROM Buy b\n",
                "        INNER JOIN [User_] u2 ON (b.user_id = u2.id) \n",
                "        INNER JOIN [Insurance] i ON (b.ins_id = i.id) \n",
                "    WHERE u2.id = u.id AND i.ins_type = (SELECT id FROM [Type] WHERE [type] = @B))\n",
                "GO\n",
                "\n",
                "EXECUTE twoInsurances 'Health', 'Fire';\n",
                "GO"
            ],
            "metadata": {
                "language": "sql",
                "azdata_cell_guid": "e4ea4479-057b-4ec1-85bf-f1b899fb7d5c"
            },
            "outputs": [
                {
                    "output_type": "display_data",
                    "data": {
                        "text/html": "Commands completed successfully."
                    },
                    "metadata": {}
                },
                {
                    "output_type": "display_data",
                    "data": {
                        "text/html": "Commands completed successfully."
                    },
                    "metadata": {}
                },
                {
                    "output_type": "display_data",
                    "data": {
                        "text/html": "(2 rows affected)"
                    },
                    "metadata": {}
                },
                {
                    "output_type": "display_data",
                    "data": {
                        "text/html": "Total execution time: 00:00:00.056"
                    },
                    "metadata": {}
                },
                {
                    "output_type": "execute_result",
                    "execution_count": 15,
                    "data": {
                        "application/vnd.dataresource+json": {
                            "schema": {
                                "fields": [
                                    {
                                        "name": "fname"
                                    },
                                    {
                                        "name": "lname"
                                    }
                                ]
                            },
                            "data": [
                                {
                                    "0": "Mahda",
                                    "1": "Ashrafi"
                                },
                                {
                                    "0": "Nikan",
                                    "1": "Norafkan"
                                }
                            ]
                        },
                        "text/html": "<table><tr><th>fname</th><th>lname</th></tr><tr><td>Mahda</td><td>Ashrafi</td></tr><tr><td>Nikan</td><td>Norafkan</td></tr></table>"
                    },
                    "metadata": {}
                }
            ],
            "execution_count": 15
        },
        {
            "cell_type": "code",
            "source": [
                "-- 12 -- ok\n",
                "DROP PROCEDURE avgEarthquake;\n",
                "GO\n",
                "\n",
                "CREATE PROCEDURE avgEarthquake \n",
                "    @province NVARCHAR(50)\n",
                "AS\n",
                "SELECT c.name, avg_metrage\n",
                "FROM (\n",
                "    SELECT pinq.city_id, AVG(pinq.meterage) avg_metrage\n",
                "    FROM Property_inq pinq \n",
                "        INNER JOIN Inqury i ON((pinq.inq_id = i.id) and (i.inq_type) = (SELECT id FROM [Type] WHERE [type] = 'Earthquake'))\n",
                "        INNER JOIN Province p ON ((pinq.province_id = p.id) and (p.name = @province))\n",
                "    WHERE pinq.life_building = 0\n",
                "    GROUP BY pinq.city_id\n",
                ") T \n",
                "    INNER JOIN city c ON (T.city_id = c.id);\n",
                "GO\n",
                "\n",
                "EXECUTE avgEarthquake @province = 'khorasan Razavi';\n",
                "GO"
            ],
            "metadata": {
                "language": "sql",
                "azdata_cell_guid": "5b34b421-5104-4aaf-a049-ef232c498e72"
            },
            "outputs": [
                {
                    "output_type": "display_data",
                    "data": {
                        "text/html": "Commands completed successfully."
                    },
                    "metadata": {}
                },
                {
                    "output_type": "display_data",
                    "data": {
                        "text/html": "Commands completed successfully."
                    },
                    "metadata": {}
                },
                {
                    "output_type": "display_data",
                    "data": {
                        "text/html": "(2 rows affected)"
                    },
                    "metadata": {}
                },
                {
                    "output_type": "display_data",
                    "data": {
                        "text/html": "Total execution time: 00:00:00.041"
                    },
                    "metadata": {}
                },
                {
                    "output_type": "execute_result",
                    "metadata": {},
                    "execution_count": 13,
                    "data": {
                        "application/vnd.dataresource+json": {
                            "schema": {
                                "fields": [
                                    {
                                        "name": "name"
                                    },
                                    {
                                        "name": "avg_metrage"
                                    }
                                ]
                            },
                            "data": [
                                {
                                    "0": "Mashhad",
                                    "1": "200"
                                },
                                {
                                    "0": "Sabzevar",
                                    "1": "150"
                                }
                            ]
                        },
                        "text/html": [
                            "<table>",
                            "<tr><th>name</th><th>avg_metrage</th></tr>",
                            "<tr><td>Mashhad</td><td>200</td></tr>",
                            "<tr><td>Sabzevar</td><td>150</td></tr>",
                            "</table>"
                        ]
                    }
                }
            ],
            "execution_count": 13
        },
        {
            "cell_type": "code",
            "source": [
                "-- 13 -- ok\n",
                "DROP PROCEDURE updateInsurance;\n",
                "GO\n",
                "\n",
                "CREATE PROCEDURE updateInsurance\n",
                "    @period INT\n",
                "AS\n",
                "UPDATE Life_inq\n",
                "SET payment_way = 6\n",
                "FROM Life_inq\n",
                "WHERE contract_period < @period;\n",
                "GO\n",
                "\n",
                "SELECT * FROM Life_inq;\n",
                "EXECUTE updateInsurance @period = 20;\n",
                "SELECT * FROM Life_inq;\n",
                "GO"
            ],
            "metadata": {
                "language": "sql",
                "azdata_cell_guid": "9bee0e15-dd52-4906-a217-61dd805f4c70"
            },
            "outputs": [
                {
                    "output_type": "error",
                    "ename": "",
                    "evalue": "Msg 3701, Level 11, State 5, Line 2\nCannot drop the procedure 'updateInsurance', because it does not exist or you do not have permission.",
                    "traceback": []
                },
                {
                    "output_type": "display_data",
                    "data": {
                        "text/html": "Commands completed successfully."
                    },
                    "metadata": {}
                },
                {
                    "output_type": "display_data",
                    "data": {
                        "text/html": "(5 rows affected)"
                    },
                    "metadata": {}
                },
                {
                    "output_type": "display_data",
                    "data": {
                        "text/html": "(3 rows affected)"
                    },
                    "metadata": {}
                },
                {
                    "output_type": "display_data",
                    "data": {
                        "text/html": "(5 rows affected)"
                    },
                    "metadata": {}
                },
                {
                    "output_type": "display_data",
                    "data": {
                        "text/html": "Total execution time: 00:00:00.057"
                    },
                    "metadata": {}
                },
                {
                    "output_type": "execute_result",
                    "execution_count": 19,
                    "data": {
                        "application/vnd.dataresource+json": {
                            "schema": {
                                "fields": [
                                    {
                                        "name": "id"
                                    },
                                    {
                                        "name": "inq_id"
                                    },
                                    {
                                        "name": "birth_date"
                                    },
                                    {
                                        "name": "contract_period"
                                    },
                                    {
                                        "name": "payment_way"
                                    },
                                    {
                                        "name": "monthly_payment"
                                    },
                                    {
                                        "name": "premiums_increase"
                                    },
                                    {
                                        "name": "capital_increase"
                                    },
                                    {
                                        "name": "death_coefficient"
                                    }
                                ]
                            },
                            "data": [
                                {
                                    "0": "101",
                                    "1": "101",
                                    "2": "1400-10-10",
                                    "3": "5",
                                    "4": "3",
                                    "5": "50000",
                                    "6": "25",
                                    "7": "10",
                                    "8": "20"
                                },
                                {
                                    "0": "102",
                                    "1": "102",
                                    "2": "1360-01-01",
                                    "3": "10",
                                    "4": "3",
                                    "5": "100000",
                                    "6": "25",
                                    "7": "10",
                                    "8": "20"
                                },
                                {
                                    "0": "103",
                                    "1": "103",
                                    "2": "1375-03-10",
                                    "3": "20",
                                    "4": "12",
                                    "5": "100000",
                                    "6": "25",
                                    "7": "10",
                                    "8": "20"
                                },
                                {
                                    "0": "104",
                                    "1": "104",
                                    "2": "1399-07-06",
                                    "3": "15",
                                    "4": "12",
                                    "5": "100000",
                                    "6": "25",
                                    "7": "10",
                                    "8": "20"
                                },
                                {
                                    "0": "105",
                                    "1": "105",
                                    "2": "1401-02-26",
                                    "3": "30",
                                    "4": "3",
                                    "5": "100000",
                                    "6": "25",
                                    "7": "10",
                                    "8": "20"
                                }
                            ]
                        },
                        "text/html": "<table><tr><th>id</th><th>inq_id</th><th>birth_date</th><th>contract_period</th><th>payment_way</th><th>monthly_payment</th><th>premiums_increase</th><th>capital_increase</th><th>death_coefficient</th></tr><tr><td>101</td><td>101</td><td>1400-10-10</td><td>5</td><td>3</td><td>50000</td><td>25</td><td>10</td><td>20</td></tr><tr><td>102</td><td>102</td><td>1360-01-01</td><td>10</td><td>3</td><td>100000</td><td>25</td><td>10</td><td>20</td></tr><tr><td>103</td><td>103</td><td>1375-03-10</td><td>20</td><td>12</td><td>100000</td><td>25</td><td>10</td><td>20</td></tr><tr><td>104</td><td>104</td><td>1399-07-06</td><td>15</td><td>12</td><td>100000</td><td>25</td><td>10</td><td>20</td></tr><tr><td>105</td><td>105</td><td>1401-02-26</td><td>30</td><td>3</td><td>100000</td><td>25</td><td>10</td><td>20</td></tr></table>"
                    },
                    "metadata": {}
                },
                {
                    "output_type": "execute_result",
                    "execution_count": 19,
                    "data": {
                        "application/vnd.dataresource+json": {
                            "schema": {
                                "fields": [
                                    {
                                        "name": "id"
                                    },
                                    {
                                        "name": "inq_id"
                                    },
                                    {
                                        "name": "birth_date"
                                    },
                                    {
                                        "name": "contract_period"
                                    },
                                    {
                                        "name": "payment_way"
                                    },
                                    {
                                        "name": "monthly_payment"
                                    },
                                    {
                                        "name": "premiums_increase"
                                    },
                                    {
                                        "name": "capital_increase"
                                    },
                                    {
                                        "name": "death_coefficient"
                                    }
                                ]
                            },
                            "data": [
                                {
                                    "0": "101",
                                    "1": "101",
                                    "2": "1400-10-10",
                                    "3": "5",
                                    "4": "6",
                                    "5": "50000",
                                    "6": "25",
                                    "7": "10",
                                    "8": "20"
                                },
                                {
                                    "0": "102",
                                    "1": "102",
                                    "2": "1360-01-01",
                                    "3": "10",
                                    "4": "6",
                                    "5": "100000",
                                    "6": "25",
                                    "7": "10",
                                    "8": "20"
                                },
                                {
                                    "0": "103",
                                    "1": "103",
                                    "2": "1375-03-10",
                                    "3": "20",
                                    "4": "12",
                                    "5": "100000",
                                    "6": "25",
                                    "7": "10",
                                    "8": "20"
                                },
                                {
                                    "0": "104",
                                    "1": "104",
                                    "2": "1399-07-06",
                                    "3": "15",
                                    "4": "6",
                                    "5": "100000",
                                    "6": "25",
                                    "7": "10",
                                    "8": "20"
                                },
                                {
                                    "0": "105",
                                    "1": "105",
                                    "2": "1401-02-26",
                                    "3": "30",
                                    "4": "3",
                                    "5": "100000",
                                    "6": "25",
                                    "7": "10",
                                    "8": "20"
                                }
                            ]
                        },
                        "text/html": "<table><tr><th>id</th><th>inq_id</th><th>birth_date</th><th>contract_period</th><th>payment_way</th><th>monthly_payment</th><th>premiums_increase</th><th>capital_increase</th><th>death_coefficient</th></tr><tr><td>101</td><td>101</td><td>1400-10-10</td><td>5</td><td>6</td><td>50000</td><td>25</td><td>10</td><td>20</td></tr><tr><td>102</td><td>102</td><td>1360-01-01</td><td>10</td><td>6</td><td>100000</td><td>25</td><td>10</td><td>20</td></tr><tr><td>103</td><td>103</td><td>1375-03-10</td><td>20</td><td>12</td><td>100000</td><td>25</td><td>10</td><td>20</td></tr><tr><td>104</td><td>104</td><td>1399-07-06</td><td>15</td><td>6</td><td>100000</td><td>25</td><td>10</td><td>20</td></tr><tr><td>105</td><td>105</td><td>1401-02-26</td><td>30</td><td>3</td><td>100000</td><td>25</td><td>10</td><td>20</td></tr></table>"
                    },
                    "metadata": {}
                }
            ],
            "execution_count": 19
        },
        {
            "cell_type": "code",
            "source": [
                "-- 14 -- ok\n",
                "DROP PROCEDURE DeleteInsurance;\n",
                "GO\n",
                "\n",
                "CREATE PROCEDURE DeleteInsurance\n",
                "    @X BIGINT, \n",
                "    @Y BIGINT, \n",
                "    @Z BIGINT \n",
                "AS \n",
                "DELETE Inqury\n",
                "FROM [Buy] b\n",
                "    INNER JOIN [Insurance] ins ON (b.ins_id = ins.id)\n",
                "    INNER JOIN [Life_insurance] lins ON (ins.id = lins.ins_id)\n",
                "    INNER JOIN [inqury] inq ON (b.inq_id = inq.id)\n",
                "    INNER JOIN [Life_inq] linq ON (linq.inq_id = inq.id)\n",
                "WHERE \n",
                "linq.contract_period = 5 AND\n",
                "linq.monthly_payment BETWEEN @X AND @Y AND\n",
                "lins.redemption_value < @Z;\n",
                "GO\n",
                "\n",
                "SELECT * FROM Buy;\n",
                "EXECUTE DeleteInsurance @X = 50000, @Y = 100000, @Z = 30000000;\n",
                "SELECT * FROM Buy;\n",
                "GO"
            ],
            "metadata": {
                "language": "sql",
                "azdata_cell_guid": "48edab13-97e7-49e9-b939-428cdaee6d71",
                "tags": []
            },
            "outputs": [
                {
                    "output_type": "display_data",
                    "data": {
                        "text/html": "Commands completed successfully."
                    },
                    "metadata": {}
                },
                {
                    "output_type": "display_data",
                    "data": {
                        "text/html": "Commands completed successfully."
                    },
                    "metadata": {}
                },
                {
                    "output_type": "display_data",
                    "data": {
                        "text/html": "(17 rows affected)"
                    },
                    "metadata": {}
                },
                {
                    "output_type": "display_data",
                    "data": {
                        "text/html": "(1 row affected)"
                    },
                    "metadata": {}
                },
                {
                    "output_type": "display_data",
                    "data": {
                        "text/html": "(16 rows affected)"
                    },
                    "metadata": {}
                },
                {
                    "output_type": "display_data",
                    "data": {
                        "text/html": "Total execution time: 00:00:00.099"
                    },
                    "metadata": {}
                },
                {
                    "output_type": "execute_result",
                    "metadata": {},
                    "execution_count": 22,
                    "data": {
                        "application/vnd.dataresource+json": {
                            "schema": {
                                "fields": [
                                    {
                                        "name": "id"
                                    },
                                    {
                                        "name": "user_id"
                                    },
                                    {
                                        "name": "ins_id"
                                    },
                                    {
                                        "name": "inq_id"
                                    },
                                    {
                                        "name": "final_price"
                                    },
                                    {
                                        "name": "discount_code"
                                    }
                                ]
                            },
                            "data": [
                                {
                                    "0": "111",
                                    "1": "11",
                                    "2": "101",
                                    "3": "101",
                                    "4": "1500000",
                                    "5": "NULL"
                                },
                                {
                                    "0": "112",
                                    "1": "11",
                                    "2": "201",
                                    "3": "201",
                                    "4": "1500000",
                                    "5": "NULL"
                                },
                                {
                                    "0": "113",
                                    "1": "11",
                                    "2": "401",
                                    "3": "401",
                                    "4": "1500000",
                                    "5": "NULL"
                                },
                                {
                                    "0": "121",
                                    "1": "12",
                                    "2": "102",
                                    "3": "102",
                                    "4": "1500000",
                                    "5": "NULL"
                                },
                                {
                                    "0": "122",
                                    "1": "12",
                                    "2": "301",
                                    "3": "301",
                                    "4": "1500000",
                                    "5": "NULL"
                                },
                                {
                                    "0": "123",
                                    "1": "12",
                                    "2": "402",
                                    "3": "402",
                                    "4": "1500000",
                                    "5": "NULL"
                                },
                                {
                                    "0": "131",
                                    "1": "13",
                                    "2": "101",
                                    "3": "103",
                                    "4": "1500000",
                                    "5": "NULL"
                                },
                                {
                                    "0": "132",
                                    "1": "13",
                                    "2": "203",
                                    "3": "202",
                                    "4": "900000",
                                    "5": "NULL"
                                },
                                {
                                    "0": "133",
                                    "1": "13",
                                    "2": "305",
                                    "3": "302",
                                    "4": "1500000",
                                    "5": "NULL"
                                },
                                {
                                    "0": "134",
                                    "1": "13",
                                    "2": "404",
                                    "3": "403",
                                    "4": "1500000",
                                    "5": "NULL"
                                },
                                {
                                    "0": "151",
                                    "1": "15",
                                    "2": "302",
                                    "3": "303",
                                    "4": "500000",
                                    "5": "NULL"
                                },
                                {
                                    "0": "152",
                                    "1": "15",
                                    "2": "302",
                                    "3": "306",
                                    "4": "500000",
                                    "5": "NULL"
                                },
                                {
                                    "0": "153",
                                    "1": "15",
                                    "2": "302",
                                    "3": "307",
                                    "4": "500000",
                                    "5": "NULL"
                                },
                                {
                                    "0": "161",
                                    "1": "16",
                                    "2": "303",
                                    "3": "304",
                                    "4": "500000",
                                    "5": "NULL"
                                },
                                {
                                    "0": "181",
                                    "1": "18",
                                    "2": "201",
                                    "3": "203",
                                    "4": "500000",
                                    "5": "NULL"
                                },
                                {
                                    "0": "182",
                                    "1": "18",
                                    "2": "304",
                                    "3": "305",
                                    "4": "500000",
                                    "5": "NULL"
                                },
                                {
                                    "0": "191",
                                    "1": "19",
                                    "2": "207",
                                    "3": "205",
                                    "4": "1500000",
                                    "5": "NULL"
                                }
                            ]
                        },
                        "text/html": [
                            "<table>",
                            "<tr><th>id</th><th>user_id</th><th>ins_id</th><th>inq_id</th><th>final_price</th><th>discount_code</th></tr>",
                            "<tr><td>111</td><td>11</td><td>101</td><td>101</td><td>1500000</td><td>NULL</td></tr>",
                            "<tr><td>112</td><td>11</td><td>201</td><td>201</td><td>1500000</td><td>NULL</td></tr>",
                            "<tr><td>113</td><td>11</td><td>401</td><td>401</td><td>1500000</td><td>NULL</td></tr>",
                            "<tr><td>121</td><td>12</td><td>102</td><td>102</td><td>1500000</td><td>NULL</td></tr>",
                            "<tr><td>122</td><td>12</td><td>301</td><td>301</td><td>1500000</td><td>NULL</td></tr>",
                            "<tr><td>123</td><td>12</td><td>402</td><td>402</td><td>1500000</td><td>NULL</td></tr>",
                            "<tr><td>131</td><td>13</td><td>101</td><td>103</td><td>1500000</td><td>NULL</td></tr>",
                            "<tr><td>132</td><td>13</td><td>203</td><td>202</td><td>900000</td><td>NULL</td></tr>",
                            "<tr><td>133</td><td>13</td><td>305</td><td>302</td><td>1500000</td><td>NULL</td></tr>",
                            "<tr><td>134</td><td>13</td><td>404</td><td>403</td><td>1500000</td><td>NULL</td></tr>",
                            "<tr><td>151</td><td>15</td><td>302</td><td>303</td><td>500000</td><td>NULL</td></tr>",
                            "<tr><td>152</td><td>15</td><td>302</td><td>306</td><td>500000</td><td>NULL</td></tr>",
                            "<tr><td>153</td><td>15</td><td>302</td><td>307</td><td>500000</td><td>NULL</td></tr>",
                            "<tr><td>161</td><td>16</td><td>303</td><td>304</td><td>500000</td><td>NULL</td></tr>",
                            "<tr><td>181</td><td>18</td><td>201</td><td>203</td><td>500000</td><td>NULL</td></tr>",
                            "<tr><td>182</td><td>18</td><td>304</td><td>305</td><td>500000</td><td>NULL</td></tr>",
                            "<tr><td>191</td><td>19</td><td>207</td><td>205</td><td>1500000</td><td>NULL</td></tr>",
                            "</table>"
                        ]
                    }
                },
                {
                    "output_type": "execute_result",
                    "metadata": {},
                    "execution_count": 22,
                    "data": {
                        "application/vnd.dataresource+json": {
                            "schema": {
                                "fields": [
                                    {
                                        "name": "id"
                                    },
                                    {
                                        "name": "user_id"
                                    },
                                    {
                                        "name": "ins_id"
                                    },
                                    {
                                        "name": "inq_id"
                                    },
                                    {
                                        "name": "final_price"
                                    },
                                    {
                                        "name": "discount_code"
                                    }
                                ]
                            },
                            "data": [
                                {
                                    "0": "112",
                                    "1": "11",
                                    "2": "201",
                                    "3": "201",
                                    "4": "1500000",
                                    "5": "NULL"
                                },
                                {
                                    "0": "113",
                                    "1": "11",
                                    "2": "401",
                                    "3": "401",
                                    "4": "1500000",
                                    "5": "NULL"
                                },
                                {
                                    "0": "121",
                                    "1": "12",
                                    "2": "102",
                                    "3": "102",
                                    "4": "1500000",
                                    "5": "NULL"
                                },
                                {
                                    "0": "122",
                                    "1": "12",
                                    "2": "301",
                                    "3": "301",
                                    "4": "1500000",
                                    "5": "NULL"
                                },
                                {
                                    "0": "123",
                                    "1": "12",
                                    "2": "402",
                                    "3": "402",
                                    "4": "1500000",
                                    "5": "NULL"
                                },
                                {
                                    "0": "131",
                                    "1": "13",
                                    "2": "101",
                                    "3": "103",
                                    "4": "1500000",
                                    "5": "NULL"
                                },
                                {
                                    "0": "132",
                                    "1": "13",
                                    "2": "203",
                                    "3": "202",
                                    "4": "900000",
                                    "5": "NULL"
                                },
                                {
                                    "0": "133",
                                    "1": "13",
                                    "2": "305",
                                    "3": "302",
                                    "4": "1500000",
                                    "5": "NULL"
                                },
                                {
                                    "0": "134",
                                    "1": "13",
                                    "2": "404",
                                    "3": "403",
                                    "4": "1500000",
                                    "5": "NULL"
                                },
                                {
                                    "0": "151",
                                    "1": "15",
                                    "2": "302",
                                    "3": "303",
                                    "4": "500000",
                                    "5": "NULL"
                                },
                                {
                                    "0": "152",
                                    "1": "15",
                                    "2": "302",
                                    "3": "306",
                                    "4": "500000",
                                    "5": "NULL"
                                },
                                {
                                    "0": "153",
                                    "1": "15",
                                    "2": "302",
                                    "3": "307",
                                    "4": "500000",
                                    "5": "NULL"
                                },
                                {
                                    "0": "161",
                                    "1": "16",
                                    "2": "303",
                                    "3": "304",
                                    "4": "500000",
                                    "5": "NULL"
                                },
                                {
                                    "0": "181",
                                    "1": "18",
                                    "2": "201",
                                    "3": "203",
                                    "4": "500000",
                                    "5": "NULL"
                                },
                                {
                                    "0": "182",
                                    "1": "18",
                                    "2": "304",
                                    "3": "305",
                                    "4": "500000",
                                    "5": "NULL"
                                },
                                {
                                    "0": "191",
                                    "1": "19",
                                    "2": "207",
                                    "3": "205",
                                    "4": "1500000",
                                    "5": "NULL"
                                }
                            ]
                        },
                        "text/html": [
                            "<table>",
                            "<tr><th>id</th><th>user_id</th><th>ins_id</th><th>inq_id</th><th>final_price</th><th>discount_code</th></tr>",
                            "<tr><td>112</td><td>11</td><td>201</td><td>201</td><td>1500000</td><td>NULL</td></tr>",
                            "<tr><td>113</td><td>11</td><td>401</td><td>401</td><td>1500000</td><td>NULL</td></tr>",
                            "<tr><td>121</td><td>12</td><td>102</td><td>102</td><td>1500000</td><td>NULL</td></tr>",
                            "<tr><td>122</td><td>12</td><td>301</td><td>301</td><td>1500000</td><td>NULL</td></tr>",
                            "<tr><td>123</td><td>12</td><td>402</td><td>402</td><td>1500000</td><td>NULL</td></tr>",
                            "<tr><td>131</td><td>13</td><td>101</td><td>103</td><td>1500000</td><td>NULL</td></tr>",
                            "<tr><td>132</td><td>13</td><td>203</td><td>202</td><td>900000</td><td>NULL</td></tr>",
                            "<tr><td>133</td><td>13</td><td>305</td><td>302</td><td>1500000</td><td>NULL</td></tr>",
                            "<tr><td>134</td><td>13</td><td>404</td><td>403</td><td>1500000</td><td>NULL</td></tr>",
                            "<tr><td>151</td><td>15</td><td>302</td><td>303</td><td>500000</td><td>NULL</td></tr>",
                            "<tr><td>152</td><td>15</td><td>302</td><td>306</td><td>500000</td><td>NULL</td></tr>",
                            "<tr><td>153</td><td>15</td><td>302</td><td>307</td><td>500000</td><td>NULL</td></tr>",
                            "<tr><td>161</td><td>16</td><td>303</td><td>304</td><td>500000</td><td>NULL</td></tr>",
                            "<tr><td>181</td><td>18</td><td>201</td><td>203</td><td>500000</td><td>NULL</td></tr>",
                            "<tr><td>182</td><td>18</td><td>304</td><td>305</td><td>500000</td><td>NULL</td></tr>",
                            "<tr><td>191</td><td>19</td><td>207</td><td>205</td><td>1500000</td><td>NULL</td></tr>",
                            "</table>"
                        ]
                    }
                }
            ],
            "execution_count": 22
        },
        {
            "cell_type": "code",
            "source": [
                "-- 15  -- ok\n",
                "DROP PROCEDURE fireInsurance;\n",
                "GO\n",
                "\n",
                "CREATE PROCEDURE fireInsurance\n",
                "AS\n",
                "SELECT *\n",
                "FROM [User_] u\n",
                "WHERE NOT EXISTS (\n",
                "    SELECT *\n",
                "    FROM StructureType st\n",
                "    WHERE NOT EXISTS (\n",
                "        SELECT *\n",
                "        FROM [Buy] b\n",
                "            INNER JOIN [inqury] inq ON (b.inq_id = inq.id)\n",
                "            INNER JOIN [Property_inq] pinq ON (pinq.inq_id = inq.id)\n",
                "        WHERE inq.inq_type = (SELECT id FROM [Type] WHERE [type] = 'Fire')\n",
                "        AND b.user_id = u.id\n",
                "        AND pinq.structure_type = st.id\n",
                "    )\n",
                ")\n",
                "UNION\n",
                "SELECT u.*\n",
                "FROM [Buy] b\n",
                "    INNER JOIN [User_] u ON (b.user_id = u.id)\n",
                "    INNER JOIN [inqury] inq ON (b.inq_id = inq.id)\n",
                "    INNER JOIN [Property_inq] pinq ON (pinq.inq_id = inq.id)\n",
                "WHERE inq.inq_type = (SELECT id FROM [Type] WHERE [type] = 'Fire')\n",
                "AND pinq.structure_type = (SELECT id FROM StructureType WHERE [type] =  'aparteman ya mojtama')\n",
                "AND pinq.uinit_count > 10\n",
                "AND NOT EXISTS (\n",
                "    SELECT *\n",
                "    FROM [Buy] b2\n",
                "        INNER JOIN [inqury] inq2 ON (b2.inq_id = inq2.id)\n",
                "    WHERE inq2.inq_type = (SELECT id FROM [Type] WHERE [type] = 'Fire')\n",
                "    AND b2.user_id = u.id\n",
                "    AND b2.id <> b.id\n",
                ");\n",
                "GO\n",
                "\n",
                "EXECUTE fireInsurance;\n",
                "GO"
            ],
            "metadata": {
                "language": "sql",
                "azdata_cell_guid": "142f9906-4739-408d-a796-f99c5faa5765"
            },
            "outputs": [],
            "execution_count": null
        }
    ]
}